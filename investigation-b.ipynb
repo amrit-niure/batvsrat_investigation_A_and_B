{
 "cells": [
  {
   "cell_type": "code",
   "execution_count": 444,
   "id": "a9bdab5c",
   "metadata": {},
   "outputs": [],
   "source": [
    "import pandas as pd\n",
    "import seaborn as sns\n",
    "import matplotlib.pyplot as plt\n",
    "import numpy as np\n",
    "from scipy.stats import ttest_ind, mannwhitneyu, chi2_contingency\n",
    "from sklearn.linear_model import LinearRegression\n",
    "from sklearn.model_selection import train_test_split, cross_val_score\n",
    "from sklearn.preprocessing import LabelEncoder, OneHotEncoder, StandardScaler\n",
    "from sklearn.compose import ColumnTransformer\n",
    "\n",
    "df2 = pd.read_csv('cleaned_dataset/dataset2_cleaned.csv')\n",
    "df1 = pd.read_csv('cleaned_dataset/dataset1_cleaned.csv')"
   ]
  },
  {
   "cell_type": "code",
   "execution_count": 445,
   "id": "22861273",
   "metadata": {},
   "outputs": [
    {
     "data": {
      "text/plain": [
       "time                   object\n",
       "month                   int64\n",
       "hours_after_sunset    float64\n",
       "bat_landing_number      int64\n",
       "food_availability     float64\n",
       "rat_minutes           float64\n",
       "rat_arrival_number      int64\n",
       "rat_present             int64\n",
       "dtype: object"
      ]
     },
     "execution_count": 445,
     "metadata": {},
     "output_type": "execute_result"
    }
   ],
   "source": [
    "df2.dtypes"
   ]
  },
  {
   "cell_type": "code",
   "execution_count": 446,
   "id": "60fe1b23",
   "metadata": {},
   "outputs": [
    {
     "data": {
      "text/html": [
       "<div>\n",
       "<style scoped>\n",
       "    .dataframe tbody tr th:only-of-type {\n",
       "        vertical-align: middle;\n",
       "    }\n",
       "\n",
       "    .dataframe tbody tr th {\n",
       "        vertical-align: top;\n",
       "    }\n",
       "\n",
       "    .dataframe thead th {\n",
       "        text-align: right;\n",
       "    }\n",
       "</style>\n",
       "<table border=\"1\" class=\"dataframe\">\n",
       "  <thead>\n",
       "    <tr style=\"text-align: right;\">\n",
       "      <th></th>\n",
       "      <th>bat_landing_number</th>\n",
       "      <th>rat_arrival_number</th>\n",
       "      <th>food_availability</th>\n",
       "    </tr>\n",
       "    <tr>\n",
       "      <th>month</th>\n",
       "      <th></th>\n",
       "      <th></th>\n",
       "      <th></th>\n",
       "    </tr>\n",
       "  </thead>\n",
       "  <tbody>\n",
       "    <tr>\n",
       "      <th>0</th>\n",
       "      <td>4375</td>\n",
       "      <td>17</td>\n",
       "      <td>373.496207</td>\n",
       "    </tr>\n",
       "    <tr>\n",
       "      <th>1</th>\n",
       "      <td>9264</td>\n",
       "      <td>32</td>\n",
       "      <td>675.777387</td>\n",
       "    </tr>\n",
       "    <tr>\n",
       "      <th>2</th>\n",
       "      <td>18708</td>\n",
       "      <td>161</td>\n",
       "      <td>1012.526971</td>\n",
       "    </tr>\n",
       "    <tr>\n",
       "      <th>3</th>\n",
       "      <td>4980</td>\n",
       "      <td>22</td>\n",
       "      <td>302.332736</td>\n",
       "    </tr>\n",
       "    <tr>\n",
       "      <th>4</th>\n",
       "      <td>20095</td>\n",
       "      <td>331</td>\n",
       "      <td>1485.873359</td>\n",
       "    </tr>\n",
       "    <tr>\n",
       "      <th>5</th>\n",
       "      <td>10203</td>\n",
       "      <td>381</td>\n",
       "      <td>1325.238104</td>\n",
       "    </tr>\n",
       "    <tr>\n",
       "      <th>6</th>\n",
       "      <td>488</td>\n",
       "      <td>0</td>\n",
       "      <td>17.346646</td>\n",
       "    </tr>\n",
       "  </tbody>\n",
       "</table>\n",
       "</div>"
      ],
      "text/plain": [
       "       bat_landing_number  rat_arrival_number  food_availability\n",
       "month                                                           \n",
       "0                    4375                  17         373.496207\n",
       "1                    9264                  32         675.777387\n",
       "2                   18708                 161        1012.526971\n",
       "3                    4980                  22         302.332736\n",
       "4                   20095                 331        1485.873359\n",
       "5                   10203                 381        1325.238104\n",
       "6                     488                   0          17.346646"
      ]
     },
     "execution_count": 446,
     "metadata": {},
     "output_type": "execute_result"
    }
   ],
   "source": [
    "df2['time'] = pd.to_datetime(df2['time'])\n",
    "df2.isnull().sum()\n",
    "\n",
    "df2.groupby('month')[['bat_landing_number','rat_arrival_number','food_availability']].sum()"
   ]
  },
  {
   "cell_type": "code",
   "execution_count": 447,
   "id": "955b931a",
   "metadata": {},
   "outputs": [
    {
     "data": {
      "text/plain": [
       "<Axes: >"
      ]
     },
     "execution_count": 447,
     "metadata": {},
     "output_type": "execute_result"
    },
    {
     "data": {
      "image/png": "[encoded data removed]",
      "text/plain": [
       "<Figure size 640x480 with 2 Axes>"
      ]
     },
     "metadata": {},
     "output_type": "display_data"
    }
   ],
   "source": [
    "sns.heatmap(df2.groupby('month')[['bat_landing_number','rat_arrival_number','food_availability']].mean().corr(), annot= True, cmap = 'coolwarm', xticklabels=df2.groupby('month')[['bat_landing_number','rat_arrival_number','food_availability']].mean().corr().index)"
   ]
  },
  {
   "cell_type": "code",
   "execution_count": 448,
   "id": "9fde81f7",
   "metadata": {},
   "outputs": [
    {
     "data": {
      "text/plain": [
       "<Axes: xlabel='month'>"
      ]
     },
     "execution_count": 448,
     "metadata": {},
     "output_type": "execute_result"
    },
    {
     "data": {
      "image/png": "[encoded data removed]",
      "text/plain": [
       "<Figure size 640x480 with 1 Axes>"
      ]
     },
     "metadata": {},
     "output_type": "display_data"
    }
   ],
   "source": [
    "df2.groupby('month')['bat_landing_number'].sum().plot()"
   ]
  },
  {
   "cell_type": "code",
   "execution_count": 449,
   "id": "5fd8e551",
   "metadata": {},
   "outputs": [
    {
     "data": {
      "text/plain": [
       "<Axes: xlabel='month'>"
      ]
     },
     "execution_count": 449,
     "metadata": {},
     "output_type": "execute_result"
    },
    {
     "data": {
      "image/png": "[encoded data removed]",
      "text/plain": [
       "<Figure size 640x480 with 1 Axes>"
      ]
     },
     "metadata": {},
     "output_type": "display_data"
    }
   ],
   "source": [
    "df2.groupby('month')['rat_arrival_number'].sum().plot()"
   ]
  },
  {
   "cell_type": "code",
   "execution_count": 450,
   "id": "508aa1d1",
   "metadata": {},
   "outputs": [
    {
     "data": {
      "text/plain": [
       "<Axes: xlabel='month'>"
      ]
     },
     "execution_count": 450,
     "metadata": {},
     "output_type": "execute_result"
    },
    {
     "data": {
      "image/png": "[encoded data removed]",
      "text/plain": [
       "<Figure size 640x480 with 1 Axes>"
      ]
     },
     "metadata": {},
     "output_type": "display_data"
    }
   ],
   "source": [
    "df2.groupby('month')['food_availability'].sum().plot()"
   ]
  },
  {
   "cell_type": "code",
   "execution_count": 451,
   "id": "26aef124",
   "metadata": {},
   "outputs": [
    {
     "data": {
      "text/html": [
       "<div>\n",
       "<style scoped>\n",
       "    .dataframe tbody tr th:only-of-type {\n",
       "        vertical-align: middle;\n",
       "    }\n",
       "\n",
       "    .dataframe tbody tr th {\n",
       "        vertical-align: top;\n",
       "    }\n",
       "\n",
       "    .dataframe thead th {\n",
       "        text-align: right;\n",
       "    }\n",
       "</style>\n",
       "<table border=\"1\" class=\"dataframe\">\n",
       "  <thead>\n",
       "    <tr style=\"text-align: right;\">\n",
       "      <th></th>\n",
       "      <th>month</th>\n",
       "      <th>hours_after_sunset</th>\n",
       "      <th>bat_landing_number</th>\n",
       "      <th>food_availability</th>\n",
       "      <th>rat_minutes</th>\n",
       "      <th>rat_arrival_number</th>\n",
       "      <th>rat_present</th>\n",
       "    </tr>\n",
       "  </thead>\n",
       "  <tbody>\n",
       "    <tr>\n",
       "      <th>month</th>\n",
       "      <td>1.000000</td>\n",
       "      <td>-0.060454</td>\n",
       "      <td>-0.158037</td>\n",
       "      <td>0.063228</td>\n",
       "      <td>0.200732</td>\n",
       "      <td>0.207742</td>\n",
       "      <td>0.245830</td>\n",
       "    </tr>\n",
       "    <tr>\n",
       "      <th>hours_after_sunset</th>\n",
       "      <td>-0.060454</td>\n",
       "      <td>1.000000</td>\n",
       "      <td>-0.142074</td>\n",
       "      <td>-0.841611</td>\n",
       "      <td>0.123417</td>\n",
       "      <td>0.085692</td>\n",
       "      <td>0.116913</td>\n",
       "    </tr>\n",
       "    <tr>\n",
       "      <th>bat_landing_number</th>\n",
       "      <td>-0.158037</td>\n",
       "      <td>-0.142074</td>\n",
       "      <td>1.000000</td>\n",
       "      <td>0.104762</td>\n",
       "      <td>-0.146228</td>\n",
       "      <td>-0.073536</td>\n",
       "      <td>-0.101246</td>\n",
       "    </tr>\n",
       "    <tr>\n",
       "      <th>food_availability</th>\n",
       "      <td>0.063228</td>\n",
       "      <td>-0.841611</td>\n",
       "      <td>0.104762</td>\n",
       "      <td>1.000000</td>\n",
       "      <td>-0.055910</td>\n",
       "      <td>-0.033639</td>\n",
       "      <td>-0.071053</td>\n",
       "    </tr>\n",
       "    <tr>\n",
       "      <th>rat_minutes</th>\n",
       "      <td>0.200732</td>\n",
       "      <td>0.123417</td>\n",
       "      <td>-0.146228</td>\n",
       "      <td>-0.055910</td>\n",
       "      <td>1.000000</td>\n",
       "      <td>0.585241</td>\n",
       "      <td>0.499680</td>\n",
       "    </tr>\n",
       "    <tr>\n",
       "      <th>rat_arrival_number</th>\n",
       "      <td>0.207742</td>\n",
       "      <td>0.085692</td>\n",
       "      <td>-0.073536</td>\n",
       "      <td>-0.033639</td>\n",
       "      <td>0.585241</td>\n",
       "      <td>1.000000</td>\n",
       "      <td>0.742544</td>\n",
       "    </tr>\n",
       "    <tr>\n",
       "      <th>rat_present</th>\n",
       "      <td>0.245830</td>\n",
       "      <td>0.116913</td>\n",
       "      <td>-0.101246</td>\n",
       "      <td>-0.071053</td>\n",
       "      <td>0.499680</td>\n",
       "      <td>0.742544</td>\n",
       "      <td>1.000000</td>\n",
       "    </tr>\n",
       "  </tbody>\n",
       "</table>\n",
       "</div>"
      ],
      "text/plain": [
       "                       month  hours_after_sunset  bat_landing_number  \\\n",
       "month               1.000000           -0.060454           -0.158037   \n",
       "hours_after_sunset -0.060454            1.000000           -0.142074   \n",
       "bat_landing_number -0.158037           -0.142074            1.000000   \n",
       "food_availability   0.063228           -0.841611            0.104762   \n",
       "rat_minutes         0.200732            0.123417           -0.146228   \n",
       "rat_arrival_number  0.207742            0.085692           -0.073536   \n",
       "rat_present         0.245830            0.116913           -0.101246   \n",
       "\n",
       "                    food_availability  rat_minutes  rat_arrival_number  \\\n",
       "month                        0.063228     0.200732            0.207742   \n",
       "hours_after_sunset          -0.841611     0.123417            0.085692   \n",
       "bat_landing_number           0.104762    -0.146228           -0.073536   \n",
       "food_availability            1.000000    -0.055910           -0.033639   \n",
       "rat_minutes                 -0.055910     1.000000            0.585241   \n",
       "rat_arrival_number          -0.033639     0.585241            1.000000   \n",
       "rat_present                 -0.071053     0.499680            0.742544   \n",
       "\n",
       "                    rat_present  \n",
       "month                  0.245830  \n",
       "hours_after_sunset     0.116913  \n",
       "bat_landing_number    -0.101246  \n",
       "food_availability     -0.071053  \n",
       "rat_minutes            0.499680  \n",
       "rat_arrival_number     0.742544  \n",
       "rat_present            1.000000  "
      ]
     },
     "execution_count": 451,
     "metadata": {},
     "output_type": "execute_result"
    }
   ],
   "source": [
    "df2.corr(numeric_only=True)"
   ]
  },
  {
   "cell_type": "code",
   "execution_count": 452,
   "id": "4168617e",
   "metadata": {},
   "outputs": [
    {
     "data": {
      "text/plain": [
       "<Axes: >"
      ]
     },
     "execution_count": 452,
     "metadata": {},
     "output_type": "execute_result"
    },
    {
     "data": {
      "image/png": "[encoded data removed]",
      "text/plain": [
       "<Figure size 640x480 with 2 Axes>"
      ]
     },
     "metadata": {},
     "output_type": "display_data"
    }
   ],
   "source": [
    "sns.heatmap(df2.corr(numeric_only=True),annot=True)"
   ]
  },
  {
   "cell_type": "markdown",
   "id": "01bad0b9",
   "metadata": {},
   "source": [
    "# Dataset 1"
   ]
  },
  {
   "cell_type": "code",
   "execution_count": 453,
   "id": "13de0fd8",
   "metadata": {},
   "outputs": [],
   "source": [
    "df1 = pd.read_csv('cleaned_dataset/dataset1_cleaned.csv')"
   ]
  },
  {
   "cell_type": "code",
   "execution_count": 454,
   "id": "de2709a5",
   "metadata": {},
   "outputs": [
    {
     "data": {
      "text/plain": [
       "start_time                    object\n",
       "bat_landing_to_food          float64\n",
       "habit                         object\n",
       "rat_period_start              object\n",
       "rat_period_end                object\n",
       "seconds_after_rat_arrival      int64\n",
       "risk                           int64\n",
       "reward                         int64\n",
       "month                          int64\n",
       "sunset_time                   object\n",
       "hours_after_sunset           float64\n",
       "season                         int64\n",
       "avoidance_behavior             int64\n",
       "interaction_type              object\n",
       "rat_present                    int64\n",
       "dtype: object"
      ]
     },
     "execution_count": 454,
     "metadata": {},
     "output_type": "execute_result"
    }
   ],
   "source": [
    "df1.dtypes"
   ]
  },
  {
   "cell_type": "code",
   "execution_count": 455,
   "id": "87321678",
   "metadata": {},
   "outputs": [
    {
     "name": "stdout",
     "output_type": "stream",
     "text": [
      "<class 'pandas.core.frame.DataFrame'>\n",
      "RangeIndex: 907 entries, 0 to 906\n",
      "Data columns (total 15 columns):\n",
      " #   Column                     Non-Null Count  Dtype  \n",
      "---  ------                     --------------  -----  \n",
      " 0   start_time                 907 non-null    object \n",
      " 1   bat_landing_to_food        907 non-null    float64\n",
      " 2   habit                      907 non-null    object \n",
      " 3   rat_period_start           907 non-null    object \n",
      " 4   rat_period_end             907 non-null    object \n",
      " 5   seconds_after_rat_arrival  907 non-null    int64  \n",
      " 6   risk                       907 non-null    int64  \n",
      " 7   reward                     907 non-null    int64  \n",
      " 8   month                      907 non-null    int64  \n",
      " 9   sunset_time                907 non-null    object \n",
      " 10  hours_after_sunset         907 non-null    float64\n",
      " 11  season                     907 non-null    int64  \n",
      " 12  avoidance_behavior         907 non-null    int64  \n",
      " 13  interaction_type           907 non-null    object \n",
      " 14  rat_present                907 non-null    int64  \n",
      "dtypes: float64(2), int64(7), object(6)\n",
      "memory usage: 106.4+ KB\n"
     ]
    }
   ],
   "source": [
    "df1.info()"
   ]
  },
  {
   "cell_type": "code",
   "execution_count": 456,
   "id": "29764d4f",
   "metadata": {},
   "outputs": [
    {
     "data": {
      "text/plain": [
       "habit\n",
       "fast                                                245\n",
       "rat                                                 221\n",
       "pick                                                139\n",
       "unknown                                              41\n",
       "bat                                                  30\n",
       "                                                   ... \n",
       "bat_fight_and_rat                                     1\n",
       "rat_and_rat                                           1\n",
       "not_sure_rat                                          1\n",
       "501.0,358.4,636.2,423.4; 476.0,103.0,634.0,206.0      1\n",
       "rat_and_bat_and_pick                                  1\n",
       "Name: count, Length: 82, dtype: int64"
      ]
     },
     "execution_count": 456,
     "metadata": {},
     "output_type": "execute_result"
    }
   ],
   "source": [
    "df1.habit.value_counts()"
   ]
  },
  {
   "cell_type": "code",
   "execution_count": 457,
   "id": "333c7ab8",
   "metadata": {},
   "outputs": [
    {
     "data": {
      "text/html": [
       "<div>\n",
       "<style scoped>\n",
       "    .dataframe tbody tr th:only-of-type {\n",
       "        vertical-align: middle;\n",
       "    }\n",
       "\n",
       "    .dataframe tbody tr th {\n",
       "        vertical-align: top;\n",
       "    }\n",
       "\n",
       "    .dataframe thead th {\n",
       "        text-align: right;\n",
       "    }\n",
       "</style>\n",
       "<table border=\"1\" class=\"dataframe\">\n",
       "  <thead>\n",
       "    <tr style=\"text-align: right;\">\n",
       "      <th></th>\n",
       "      <th>start_time</th>\n",
       "      <th>bat_landing_to_food</th>\n",
       "      <th>habit</th>\n",
       "      <th>rat_period_start</th>\n",
       "      <th>rat_period_end</th>\n",
       "      <th>seconds_after_rat_arrival</th>\n",
       "      <th>risk</th>\n",
       "      <th>reward</th>\n",
       "      <th>month</th>\n",
       "      <th>sunset_time</th>\n",
       "      <th>hours_after_sunset</th>\n",
       "      <th>season</th>\n",
       "      <th>avoidance_behavior</th>\n",
       "      <th>interaction_type</th>\n",
       "      <th>rat_present</th>\n",
       "    </tr>\n",
       "  </thead>\n",
       "  <tbody>\n",
       "  </tbody>\n",
       "</table>\n",
       "</div>"
      ],
      "text/plain": [
       "Empty DataFrame\n",
       "Columns: [start_time, bat_landing_to_food, habit, rat_period_start, rat_period_end, seconds_after_rat_arrival, risk, reward, month, sunset_time, hours_after_sunset, season, avoidance_behavior, interaction_type, rat_present]\n",
       "Index: []"
      ]
     },
     "execution_count": 457,
     "metadata": {},
     "output_type": "execute_result"
    }
   ],
   "source": [
    "df1[df1.habit.isnull()]"
   ]
  },
  {
   "cell_type": "code",
   "execution_count": 458,
   "id": "8861e372",
   "metadata": {},
   "outputs": [
    {
     "data": {
      "text/plain": [
       "<Axes: >"
      ]
     },
     "execution_count": 458,
     "metadata": {},
     "output_type": "execute_result"
    },
    {
     "data": {
      "image/png": "[encoded data removed]",
      "text/plain": [
       "<Figure size 1200x600 with 2 Axes>"
      ]
     },
     "metadata": {},
     "output_type": "display_data"
    }
   ],
   "source": [
    "plt.figure(figsize=(12,6))\n",
    "sns.heatmap(df1.corr(numeric_only = True),annot = True)"
   ]
  },
  {
   "cell_type": "code",
   "execution_count": 459,
   "id": "9be8ca73",
   "metadata": {},
   "outputs": [],
   "source": [
    "dataset1 = df1.copy()"
   ]
  },
  {
   "cell_type": "code",
   "execution_count": 460,
   "id": "4bb1ea69",
   "metadata": {},
   "outputs": [
    {
     "data": {
      "text/plain": [
       "risk\n",
       "0    458\n",
       "1    449\n",
       "Name: count, dtype: int64"
      ]
     },
     "execution_count": 460,
     "metadata": {},
     "output_type": "execute_result"
    }
   ],
   "source": [
    "dataset1.risk.value_counts()"
   ]
  },
  {
   "cell_type": "code",
   "execution_count": 461,
   "id": "f080db33",
   "metadata": {},
   "outputs": [
    {
     "data": {
      "text/plain": [
       "reward\n",
       "1    484\n",
       "0    423\n",
       "Name: count, dtype: int64"
      ]
     },
     "execution_count": 461,
     "metadata": {},
     "output_type": "execute_result"
    }
   ],
   "source": [
    "dataset1.reward.value_counts()"
   ]
  },
  {
   "cell_type": "code",
   "execution_count": 462,
   "id": "0811a5a9",
   "metadata": {},
   "outputs": [
    {
     "data": {
      "text/html": [
       "<div>\n",
       "<style scoped>\n",
       "    .dataframe tbody tr th:only-of-type {\n",
       "        vertical-align: middle;\n",
       "    }\n",
       "\n",
       "    .dataframe tbody tr th {\n",
       "        vertical-align: top;\n",
       "    }\n",
       "\n",
       "    .dataframe thead th {\n",
       "        text-align: right;\n",
       "    }\n",
       "</style>\n",
       "<table border=\"1\" class=\"dataframe\">\n",
       "  <thead>\n",
       "    <tr style=\"text-align: right;\">\n",
       "      <th></th>\n",
       "      <th>start_time</th>\n",
       "      <th>bat_landing_to_food</th>\n",
       "      <th>habit</th>\n",
       "      <th>rat_period_start</th>\n",
       "      <th>rat_period_end</th>\n",
       "      <th>seconds_after_rat_arrival</th>\n",
       "      <th>risk</th>\n",
       "      <th>reward</th>\n",
       "      <th>month</th>\n",
       "      <th>sunset_time</th>\n",
       "      <th>hours_after_sunset</th>\n",
       "      <th>season</th>\n",
       "      <th>avoidance_behavior</th>\n",
       "      <th>interaction_type</th>\n",
       "      <th>rat_present</th>\n",
       "    </tr>\n",
       "  </thead>\n",
       "  <tbody>\n",
       "    <tr>\n",
       "      <th>21</th>\n",
       "      <td>2017-12-28 19:45:00</td>\n",
       "      <td>15.0</td>\n",
       "      <td>pick_and_others</td>\n",
       "      <td>2017-12-28 19:35:00</td>\n",
       "      <td>2017-12-28 19:46:00</td>\n",
       "      <td>564</td>\n",
       "      <td>1</td>\n",
       "      <td>1</td>\n",
       "      <td>0</td>\n",
       "      <td>2017-12-28 16:44:00</td>\n",
       "      <td>3.021667</td>\n",
       "      <td>0</td>\n",
       "      <td>1</td>\n",
       "      <td>no_rat</td>\n",
       "      <td>0</td>\n",
       "    </tr>\n",
       "    <tr>\n",
       "      <th>47</th>\n",
       "      <td>2018-01-28 20:05:00</td>\n",
       "      <td>7.0</td>\n",
       "      <td>pick_rat</td>\n",
       "      <td>2018-01-28 19:56:00</td>\n",
       "      <td>2018-01-28 20:10:00</td>\n",
       "      <td>545</td>\n",
       "      <td>1</td>\n",
       "      <td>1</td>\n",
       "      <td>1</td>\n",
       "      <td>2018-01-28 17:10:00</td>\n",
       "      <td>2.919722</td>\n",
       "      <td>0</td>\n",
       "      <td>1</td>\n",
       "      <td>predation_fear</td>\n",
       "      <td>1</td>\n",
       "    </tr>\n",
       "    <tr>\n",
       "      <th>71</th>\n",
       "      <td>2018-02-10 00:44:00</td>\n",
       "      <td>21.0</td>\n",
       "      <td>pick_bat</td>\n",
       "      <td>2018-02-10 00:43:00</td>\n",
       "      <td>2018-02-10 00:45:00</td>\n",
       "      <td>65</td>\n",
       "      <td>1</td>\n",
       "      <td>1</td>\n",
       "      <td>2</td>\n",
       "      <td>2018-02-09 17:21:00</td>\n",
       "      <td>7.387222</td>\n",
       "      <td>0</td>\n",
       "      <td>1</td>\n",
       "      <td>no_rat</td>\n",
       "      <td>0</td>\n",
       "    </tr>\n",
       "    <tr>\n",
       "      <th>171</th>\n",
       "      <td>2018-03-20 02:11:00</td>\n",
       "      <td>4.0</td>\n",
       "      <td>rat_pick</td>\n",
       "      <td>2018-03-20 02:11:00</td>\n",
       "      <td>2018-03-20 02:11:00</td>\n",
       "      <td>46</td>\n",
       "      <td>1</td>\n",
       "      <td>1</td>\n",
       "      <td>3</td>\n",
       "      <td>2018-03-19 17:51:00</td>\n",
       "      <td>8.347222</td>\n",
       "      <td>1</td>\n",
       "      <td>0</td>\n",
       "      <td>predation_fear</td>\n",
       "      <td>1</td>\n",
       "    </tr>\n",
       "    <tr>\n",
       "      <th>244</th>\n",
       "      <td>2018-04-26 21:25:00</td>\n",
       "      <td>68.0</td>\n",
       "      <td>pick_and_all</td>\n",
       "      <td>2018-04-26 21:24:00</td>\n",
       "      <td>2018-04-26 21:26:00</td>\n",
       "      <td>19</td>\n",
       "      <td>1</td>\n",
       "      <td>1</td>\n",
       "      <td>4</td>\n",
       "      <td>2018-04-26 19:17:00</td>\n",
       "      <td>2.135000</td>\n",
       "      <td>1</td>\n",
       "      <td>1</td>\n",
       "      <td>no_rat</td>\n",
       "      <td>0</td>\n",
       "    </tr>\n",
       "    <tr>\n",
       "      <th>...</th>\n",
       "      <td>...</td>\n",
       "      <td>...</td>\n",
       "      <td>...</td>\n",
       "      <td>...</td>\n",
       "      <td>...</td>\n",
       "      <td>...</td>\n",
       "      <td>...</td>\n",
       "      <td>...</td>\n",
       "      <td>...</td>\n",
       "      <td>...</td>\n",
       "      <td>...</td>\n",
       "      <td>...</td>\n",
       "      <td>...</td>\n",
       "      <td>...</td>\n",
       "      <td>...</td>\n",
       "    </tr>\n",
       "    <tr>\n",
       "      <th>878</th>\n",
       "      <td>2018-05-03 23:49:00</td>\n",
       "      <td>22.0</td>\n",
       "      <td>rat_and_bat_and_pick</td>\n",
       "      <td>2018-05-03 23:46:00</td>\n",
       "      <td>2018-05-03 23:52:00</td>\n",
       "      <td>200</td>\n",
       "      <td>1</td>\n",
       "      <td>1</td>\n",
       "      <td>5</td>\n",
       "      <td>2018-05-03 19:22:00</td>\n",
       "      <td>4.460278</td>\n",
       "      <td>1</td>\n",
       "      <td>1</td>\n",
       "      <td>predation_fear</td>\n",
       "      <td>1</td>\n",
       "    </tr>\n",
       "    <tr>\n",
       "      <th>891</th>\n",
       "      <td>2018-05-04 02:58:00</td>\n",
       "      <td>76.0</td>\n",
       "      <td>all_pick</td>\n",
       "      <td>2018-05-04 02:55:00</td>\n",
       "      <td>2018-05-04 03:14:00</td>\n",
       "      <td>157</td>\n",
       "      <td>1</td>\n",
       "      <td>1</td>\n",
       "      <td>5</td>\n",
       "      <td>2018-05-03 19:22:00</td>\n",
       "      <td>7.608889</td>\n",
       "      <td>1</td>\n",
       "      <td>1</td>\n",
       "      <td>no_rat</td>\n",
       "      <td>0</td>\n",
       "    </tr>\n",
       "    <tr>\n",
       "      <th>894</th>\n",
       "      <td>2018-05-04 03:02:00</td>\n",
       "      <td>67.0</td>\n",
       "      <td>all_pick</td>\n",
       "      <td>2018-05-04 02:55:00</td>\n",
       "      <td>2018-05-04 03:14:00</td>\n",
       "      <td>395</td>\n",
       "      <td>1</td>\n",
       "      <td>1</td>\n",
       "      <td>5</td>\n",
       "      <td>2018-05-03 19:22:00</td>\n",
       "      <td>7.675000</td>\n",
       "      <td>1</td>\n",
       "      <td>1</td>\n",
       "      <td>no_rat</td>\n",
       "      <td>0</td>\n",
       "    </tr>\n",
       "    <tr>\n",
       "      <th>897</th>\n",
       "      <td>2018-05-04 03:05:00</td>\n",
       "      <td>6.0</td>\n",
       "      <td>pick_bat</td>\n",
       "      <td>2018-05-04 02:55:00</td>\n",
       "      <td>2018-05-04 03:14:00</td>\n",
       "      <td>593</td>\n",
       "      <td>1</td>\n",
       "      <td>1</td>\n",
       "      <td>5</td>\n",
       "      <td>2018-05-03 19:22:00</td>\n",
       "      <td>7.730000</td>\n",
       "      <td>1</td>\n",
       "      <td>1</td>\n",
       "      <td>no_rat</td>\n",
       "      <td>0</td>\n",
       "    </tr>\n",
       "    <tr>\n",
       "      <th>906</th>\n",
       "      <td>2018-05-04 05:39:00</td>\n",
       "      <td>120.0</td>\n",
       "      <td>pick_rat</td>\n",
       "      <td>2018-05-04 05:37:00</td>\n",
       "      <td>2018-05-04 06:10:00</td>\n",
       "      <td>143</td>\n",
       "      <td>1</td>\n",
       "      <td>1</td>\n",
       "      <td>5</td>\n",
       "      <td>2018-05-03 19:22:00</td>\n",
       "      <td>10.297500</td>\n",
       "      <td>1</td>\n",
       "      <td>1</td>\n",
       "      <td>predation_fear</td>\n",
       "      <td>1</td>\n",
       "    </tr>\n",
       "  </tbody>\n",
       "</table>\n",
       "<p>98 rows × 15 columns</p>\n",
       "</div>"
      ],
      "text/plain": [
       "              start_time  bat_landing_to_food                 habit  \\\n",
       "21   2017-12-28 19:45:00                 15.0       pick_and_others   \n",
       "47   2018-01-28 20:05:00                  7.0              pick_rat   \n",
       "71   2018-02-10 00:44:00                 21.0              pick_bat   \n",
       "171  2018-03-20 02:11:00                  4.0              rat_pick   \n",
       "244  2018-04-26 21:25:00                 68.0          pick_and_all   \n",
       "..                   ...                  ...                   ...   \n",
       "878  2018-05-03 23:49:00                 22.0  rat_and_bat_and_pick   \n",
       "891  2018-05-04 02:58:00                 76.0              all_pick   \n",
       "894  2018-05-04 03:02:00                 67.0              all_pick   \n",
       "897  2018-05-04 03:05:00                  6.0              pick_bat   \n",
       "906  2018-05-04 05:39:00                120.0              pick_rat   \n",
       "\n",
       "        rat_period_start       rat_period_end  seconds_after_rat_arrival  \\\n",
       "21   2017-12-28 19:35:00  2017-12-28 19:46:00                        564   \n",
       "47   2018-01-28 19:56:00  2018-01-28 20:10:00                        545   \n",
       "71   2018-02-10 00:43:00  2018-02-10 00:45:00                         65   \n",
       "171  2018-03-20 02:11:00  2018-03-20 02:11:00                         46   \n",
       "244  2018-04-26 21:24:00  2018-04-26 21:26:00                         19   \n",
       "..                   ...                  ...                        ...   \n",
       "878  2018-05-03 23:46:00  2018-05-03 23:52:00                        200   \n",
       "891  2018-05-04 02:55:00  2018-05-04 03:14:00                        157   \n",
       "894  2018-05-04 02:55:00  2018-05-04 03:14:00                        395   \n",
       "897  2018-05-04 02:55:00  2018-05-04 03:14:00                        593   \n",
       "906  2018-05-04 05:37:00  2018-05-04 06:10:00                        143   \n",
       "\n",
       "     risk  reward  month          sunset_time  hours_after_sunset  season  \\\n",
       "21      1       1      0  2017-12-28 16:44:00            3.021667       0   \n",
       "47      1       1      1  2018-01-28 17:10:00            2.919722       0   \n",
       "71      1       1      2  2018-02-09 17:21:00            7.387222       0   \n",
       "171     1       1      3  2018-03-19 17:51:00            8.347222       1   \n",
       "244     1       1      4  2018-04-26 19:17:00            2.135000       1   \n",
       "..    ...     ...    ...                  ...                 ...     ...   \n",
       "878     1       1      5  2018-05-03 19:22:00            4.460278       1   \n",
       "891     1       1      5  2018-05-03 19:22:00            7.608889       1   \n",
       "894     1       1      5  2018-05-03 19:22:00            7.675000       1   \n",
       "897     1       1      5  2018-05-03 19:22:00            7.730000       1   \n",
       "906     1       1      5  2018-05-03 19:22:00           10.297500       1   \n",
       "\n",
       "     avoidance_behavior interaction_type  rat_present  \n",
       "21                    1           no_rat            0  \n",
       "47                    1   predation_fear            1  \n",
       "71                    1           no_rat            0  \n",
       "171                   0   predation_fear            1  \n",
       "244                   1           no_rat            0  \n",
       "..                  ...              ...          ...  \n",
       "878                   1   predation_fear            1  \n",
       "891                   1           no_rat            0  \n",
       "894                   1           no_rat            0  \n",
       "897                   1           no_rat            0  \n",
       "906                   1   predation_fear            1  \n",
       "\n",
       "[98 rows x 15 columns]"
      ]
     },
     "execution_count": 462,
     "metadata": {},
     "output_type": "execute_result"
    }
   ],
   "source": [
    "dataset1[(dataset1['reward'] == 1) & (dataset1['risk'] == 1)]"
   ]
  },
  {
   "cell_type": "code",
   "execution_count": 463,
   "id": "fd5c1328",
   "metadata": {},
   "outputs": [
    {
     "data": {
      "text/html": [
       "<div>\n",
       "<style scoped>\n",
       "    .dataframe tbody tr th:only-of-type {\n",
       "        vertical-align: middle;\n",
       "    }\n",
       "\n",
       "    .dataframe tbody tr th {\n",
       "        vertical-align: top;\n",
       "    }\n",
       "\n",
       "    .dataframe thead th {\n",
       "        text-align: right;\n",
       "    }\n",
       "</style>\n",
       "<table border=\"1\" class=\"dataframe\">\n",
       "  <thead>\n",
       "    <tr style=\"text-align: right;\">\n",
       "      <th></th>\n",
       "      <th>start_time</th>\n",
       "      <th>bat_landing_to_food</th>\n",
       "      <th>habit</th>\n",
       "      <th>rat_period_start</th>\n",
       "      <th>rat_period_end</th>\n",
       "      <th>seconds_after_rat_arrival</th>\n",
       "      <th>risk</th>\n",
       "      <th>reward</th>\n",
       "      <th>month</th>\n",
       "      <th>sunset_time</th>\n",
       "      <th>hours_after_sunset</th>\n",
       "      <th>season</th>\n",
       "      <th>avoidance_behavior</th>\n",
       "      <th>interaction_type</th>\n",
       "      <th>rat_present</th>\n",
       "    </tr>\n",
       "  </thead>\n",
       "  <tbody>\n",
       "    <tr>\n",
       "      <th>0</th>\n",
       "      <td>2017-12-30 18:37:00</td>\n",
       "      <td>16.000000</td>\n",
       "      <td>rat</td>\n",
       "      <td>2017-12-30 18:35:00</td>\n",
       "      <td>2017-12-30 18:38:00</td>\n",
       "      <td>108</td>\n",
       "      <td>1</td>\n",
       "      <td>0</td>\n",
       "      <td>0</td>\n",
       "      <td>2017-12-30 16:45:00</td>\n",
       "      <td>1.870833</td>\n",
       "      <td>0</td>\n",
       "      <td>1</td>\n",
       "      <td>predation_fear</td>\n",
       "      <td>1</td>\n",
       "    </tr>\n",
       "    <tr>\n",
       "      <th>1</th>\n",
       "      <td>2017-12-30 19:51:00</td>\n",
       "      <td>0.074016</td>\n",
       "      <td>fast</td>\n",
       "      <td>2017-12-30 19:50:00</td>\n",
       "      <td>2017-12-30 19:55:00</td>\n",
       "      <td>17</td>\n",
       "      <td>0</td>\n",
       "      <td>1</td>\n",
       "      <td>0</td>\n",
       "      <td>2017-12-30 16:45:00</td>\n",
       "      <td>3.100833</td>\n",
       "      <td>0</td>\n",
       "      <td>0</td>\n",
       "      <td>no_rat</td>\n",
       "      <td>0</td>\n",
       "    </tr>\n",
       "    <tr>\n",
       "      <th>2</th>\n",
       "      <td>2017-12-30 19:51:00</td>\n",
       "      <td>4.000000</td>\n",
       "      <td>fast</td>\n",
       "      <td>2017-12-30 19:50:00</td>\n",
       "      <td>2017-12-30 19:55:00</td>\n",
       "      <td>41</td>\n",
       "      <td>0</td>\n",
       "      <td>1</td>\n",
       "      <td>0</td>\n",
       "      <td>2017-12-30 16:45:00</td>\n",
       "      <td>3.107500</td>\n",
       "      <td>0</td>\n",
       "      <td>0</td>\n",
       "      <td>no_rat</td>\n",
       "      <td>0</td>\n",
       "    </tr>\n",
       "    <tr>\n",
       "      <th>3</th>\n",
       "      <td>2017-12-30 19:52:00</td>\n",
       "      <td>10.000000</td>\n",
       "      <td>rat</td>\n",
       "      <td>2017-12-30 19:50:00</td>\n",
       "      <td>2017-12-30 19:55:00</td>\n",
       "      <td>111</td>\n",
       "      <td>1</td>\n",
       "      <td>0</td>\n",
       "      <td>0</td>\n",
       "      <td>2017-12-30 16:45:00</td>\n",
       "      <td>3.126944</td>\n",
       "      <td>0</td>\n",
       "      <td>1</td>\n",
       "      <td>predation_fear</td>\n",
       "      <td>1</td>\n",
       "    </tr>\n",
       "    <tr>\n",
       "      <th>4</th>\n",
       "      <td>2017-12-30 19:54:00</td>\n",
       "      <td>15.000000</td>\n",
       "      <td>rat</td>\n",
       "      <td>2017-12-30 19:50:00</td>\n",
       "      <td>2017-12-30 19:55:00</td>\n",
       "      <td>194</td>\n",
       "      <td>1</td>\n",
       "      <td>0</td>\n",
       "      <td>0</td>\n",
       "      <td>2017-12-30 16:45:00</td>\n",
       "      <td>3.150000</td>\n",
       "      <td>0</td>\n",
       "      <td>1</td>\n",
       "      <td>predation_fear</td>\n",
       "      <td>1</td>\n",
       "    </tr>\n",
       "    <tr>\n",
       "      <th>...</th>\n",
       "      <td>...</td>\n",
       "      <td>...</td>\n",
       "      <td>...</td>\n",
       "      <td>...</td>\n",
       "      <td>...</td>\n",
       "      <td>...</td>\n",
       "      <td>...</td>\n",
       "      <td>...</td>\n",
       "      <td>...</td>\n",
       "      <td>...</td>\n",
       "      <td>...</td>\n",
       "      <td>...</td>\n",
       "      <td>...</td>\n",
       "      <td>...</td>\n",
       "      <td>...</td>\n",
       "    </tr>\n",
       "    <tr>\n",
       "      <th>901</th>\n",
       "      <td>2018-05-04 03:20:00</td>\n",
       "      <td>4.000000</td>\n",
       "      <td>rat</td>\n",
       "      <td>2018-05-04 03:20:00</td>\n",
       "      <td>2018-05-04 03:21:00</td>\n",
       "      <td>23</td>\n",
       "      <td>1</td>\n",
       "      <td>0</td>\n",
       "      <td>5</td>\n",
       "      <td>2018-05-03 19:22:00</td>\n",
       "      <td>7.981389</td>\n",
       "      <td>1</td>\n",
       "      <td>0</td>\n",
       "      <td>predation_fear</td>\n",
       "      <td>1</td>\n",
       "    </tr>\n",
       "    <tr>\n",
       "      <th>902</th>\n",
       "      <td>2018-05-04 04:18:00</td>\n",
       "      <td>2.000000</td>\n",
       "      <td>rat</td>\n",
       "      <td>2018-05-04 04:14:00</td>\n",
       "      <td>2018-05-04 04:30:00</td>\n",
       "      <td>224</td>\n",
       "      <td>1</td>\n",
       "      <td>0</td>\n",
       "      <td>5</td>\n",
       "      <td>2018-05-03 19:22:00</td>\n",
       "      <td>8.933333</td>\n",
       "      <td>1</td>\n",
       "      <td>0</td>\n",
       "      <td>predation_fear</td>\n",
       "      <td>1</td>\n",
       "    </tr>\n",
       "    <tr>\n",
       "      <th>903</th>\n",
       "      <td>2018-05-04 04:18:00</td>\n",
       "      <td>1.000000</td>\n",
       "      <td>fast</td>\n",
       "      <td>2018-05-04 04:14:00</td>\n",
       "      <td>2018-05-04 04:30:00</td>\n",
       "      <td>275</td>\n",
       "      <td>0</td>\n",
       "      <td>1</td>\n",
       "      <td>5</td>\n",
       "      <td>2018-05-03 19:22:00</td>\n",
       "      <td>8.947500</td>\n",
       "      <td>1</td>\n",
       "      <td>0</td>\n",
       "      <td>no_rat</td>\n",
       "      <td>0</td>\n",
       "    </tr>\n",
       "    <tr>\n",
       "      <th>904</th>\n",
       "      <td>2018-05-04 04:19:00</td>\n",
       "      <td>22.000000</td>\n",
       "      <td>pick</td>\n",
       "      <td>2018-05-04 04:14:00</td>\n",
       "      <td>2018-05-04 04:30:00</td>\n",
       "      <td>310</td>\n",
       "      <td>0</td>\n",
       "      <td>1</td>\n",
       "      <td>5</td>\n",
       "      <td>2018-05-03 19:22:00</td>\n",
       "      <td>8.957222</td>\n",
       "      <td>1</td>\n",
       "      <td>1</td>\n",
       "      <td>no_rat</td>\n",
       "      <td>0</td>\n",
       "    </tr>\n",
       "    <tr>\n",
       "      <th>905</th>\n",
       "      <td>2018-05-03 23:51:00</td>\n",
       "      <td>2.000000</td>\n",
       "      <td>fast</td>\n",
       "      <td>2018-05-03 23:46:00</td>\n",
       "      <td>2018-05-03 23:52:00</td>\n",
       "      <td>339</td>\n",
       "      <td>0</td>\n",
       "      <td>1</td>\n",
       "      <td>5</td>\n",
       "      <td>2018-05-03 19:22:00</td>\n",
       "      <td>4.498889</td>\n",
       "      <td>1</td>\n",
       "      <td>0</td>\n",
       "      <td>no_rat</td>\n",
       "      <td>0</td>\n",
       "    </tr>\n",
       "  </tbody>\n",
       "</table>\n",
       "<p>809 rows × 15 columns</p>\n",
       "</div>"
      ],
      "text/plain": [
       "              start_time  bat_landing_to_food habit     rat_period_start  \\\n",
       "0    2017-12-30 18:37:00            16.000000   rat  2017-12-30 18:35:00   \n",
       "1    2017-12-30 19:51:00             0.074016  fast  2017-12-30 19:50:00   \n",
       "2    2017-12-30 19:51:00             4.000000  fast  2017-12-30 19:50:00   \n",
       "3    2017-12-30 19:52:00            10.000000   rat  2017-12-30 19:50:00   \n",
       "4    2017-12-30 19:54:00            15.000000   rat  2017-12-30 19:50:00   \n",
       "..                   ...                  ...   ...                  ...   \n",
       "901  2018-05-04 03:20:00             4.000000   rat  2018-05-04 03:20:00   \n",
       "902  2018-05-04 04:18:00             2.000000   rat  2018-05-04 04:14:00   \n",
       "903  2018-05-04 04:18:00             1.000000  fast  2018-05-04 04:14:00   \n",
       "904  2018-05-04 04:19:00            22.000000  pick  2018-05-04 04:14:00   \n",
       "905  2018-05-03 23:51:00             2.000000  fast  2018-05-03 23:46:00   \n",
       "\n",
       "          rat_period_end  seconds_after_rat_arrival  risk  reward  month  \\\n",
       "0    2017-12-30 18:38:00                        108     1       0      0   \n",
       "1    2017-12-30 19:55:00                         17     0       1      0   \n",
       "2    2017-12-30 19:55:00                         41     0       1      0   \n",
       "3    2017-12-30 19:55:00                        111     1       0      0   \n",
       "4    2017-12-30 19:55:00                        194     1       0      0   \n",
       "..                   ...                        ...   ...     ...    ...   \n",
       "901  2018-05-04 03:21:00                         23     1       0      5   \n",
       "902  2018-05-04 04:30:00                        224     1       0      5   \n",
       "903  2018-05-04 04:30:00                        275     0       1      5   \n",
       "904  2018-05-04 04:30:00                        310     0       1      5   \n",
       "905  2018-05-03 23:52:00                        339     0       1      5   \n",
       "\n",
       "             sunset_time  hours_after_sunset  season  avoidance_behavior  \\\n",
       "0    2017-12-30 16:45:00            1.870833       0                   1   \n",
       "1    2017-12-30 16:45:00            3.100833       0                   0   \n",
       "2    2017-12-30 16:45:00            3.107500       0                   0   \n",
       "3    2017-12-30 16:45:00            3.126944       0                   1   \n",
       "4    2017-12-30 16:45:00            3.150000       0                   1   \n",
       "..                   ...                 ...     ...                 ...   \n",
       "901  2018-05-03 19:22:00            7.981389       1                   0   \n",
       "902  2018-05-03 19:22:00            8.933333       1                   0   \n",
       "903  2018-05-03 19:22:00            8.947500       1                   0   \n",
       "904  2018-05-03 19:22:00            8.957222       1                   1   \n",
       "905  2018-05-03 19:22:00            4.498889       1                   0   \n",
       "\n",
       "    interaction_type  rat_present  \n",
       "0     predation_fear            1  \n",
       "1             no_rat            0  \n",
       "2             no_rat            0  \n",
       "3     predation_fear            1  \n",
       "4     predation_fear            1  \n",
       "..               ...          ...  \n",
       "901   predation_fear            1  \n",
       "902   predation_fear            1  \n",
       "903           no_rat            0  \n",
       "904           no_rat            0  \n",
       "905           no_rat            0  \n",
       "\n",
       "[809 rows x 15 columns]"
      ]
     },
     "execution_count": 463,
     "metadata": {},
     "output_type": "execute_result"
    }
   ],
   "source": [
    "dataset1[~((dataset1['reward'] == 1) & (dataset1['risk'] == 1))]"
   ]
  },
  {
   "cell_type": "code",
   "execution_count": 464,
   "id": "9ce9a050",
   "metadata": {},
   "outputs": [
    {
     "data": {
      "text/plain": [
       "array(['rat', 'fast', 'pick', 'bat_fight', 'rat_and_no_food', 'unknown',\n",
       "       'rat_and_others', 'pick_and_others', 'gaze', 'pick_rat', 'bat',\n",
       "       'both', 'pick_bat',\n",
       "       '94.0,305.0,239.0,416.0; 364.8,139.3,462.3,241.3', 'rat attack',\n",
       "       'attack_rat', 'bat_and_rat', 'rat_attack', 'other_bats',\n",
       "       'rat_pick', 'rat_and_bat', 'bowl_out', 'other_bat',\n",
       "       '373.0,80.0,504.0,148.0; 274.6,110.7,382.4,267.3', 'other',\n",
       "       '245.6,179.5,321.4,314.0; 522.4,0.3,592.0,95.5', 'eating',\n",
       "       'rat_to_bat', 'other_bats/rat',\n",
       "       '405.6,112.3,513.1,215.4; 464.1,197.7,614.9,334.3; 511.5,301.1,639.4,388.9',\n",
       "       'pick_and_all', 'bat_and_pick', 'bat_fight_and_pick',\n",
       "       '187.0,152.0,304.0,240.0; 567.9,88.6,621.1,140.3',\n",
       "       '44.0,77.0,157.0,240.0; 253.0,96.0,346.0,147.0',\n",
       "       '397.7,159.7,580.2,330.5; 252.0,92.0,346.0,149.0', 'pick_and_bat',\n",
       "       '218.0,171.0,381.0,269.0; 239.0,106.0,315.0,155.0',\n",
       "       '423.0,155.9,535.6,370.9; 238.0,99.0,314.0,160.0',\n",
       "       'eating_and_bat_and_pick', 'bat_figiht', 'bat_pick_rat',\n",
       "       '415.0,86.5,559.2,140.2; 66.0,157.0,285.0,279.0',\n",
       "       'rat_pick_and_bat', 'pick_and_rat', 'fight_rat', 'all_pick',\n",
       "       'no_food', 'bats', 'others', 'rat_and_pick',\n",
       "       '157.0,2.6,349.0,159.3; 572.1,275.7,638.3,360.0', 'pick_rat_bat',\n",
       "       'bat_and_pick_far', 'fast_far',\n",
       "       '530.0,20.0,611.0,156.0; 227.6,128.8,290.8,208.0', 'fight',\n",
       "       'bat_rat_pick', 'bat_pick', 'rat_disappear', 'eating_bat_rat_pick',\n",
       "       'fast_and_pick', 'other directions',\n",
       "       '243.6,235.6,432.2,329.8; 559.0,244.0,622.0,395.0',\n",
       "       'bat_fight_rat', 'bat_rat', 'pup_and_mon', 'pick_eating_all',\n",
       "       '511.7,236.3,632.2,404.5; 445.0,199.0,503.0,245.0', 'pick_bat_rat',\n",
       "       '417.7,117.1,635.5,346.0; 243.0,272.0,308.0,379.0; 438.0,230.0,494.0,291.0',\n",
       "       'rat_bat', 'rat_bat_fight', 'eating_bat_pick', 'pick_rat_and_bat',\n",
       "       'fight_bat', '380.6,321.1,550.6,477.5; 263.0,267.0,421.0,435.0',\n",
       "       'bat_fight_and_rat', 'rat_and_rat', 'not_sure_rat',\n",
       "       '501.0,358.4,636.2,423.4; 476.0,103.0,634.0,206.0',\n",
       "       'rat_and_bat_and_pick'], dtype=object)"
      ]
     },
     "execution_count": 464,
     "metadata": {},
     "output_type": "execute_result"
    }
   ],
   "source": [
    "dataset1.habit.unique()"
   ]
  },
  {
   "cell_type": "code",
   "execution_count": 465,
   "id": "a34eb73a",
   "metadata": {},
   "outputs": [
    {
     "data": {
      "text/plain": [
       "count    662.000000\n",
       "mean      15.356465\n",
       "std       31.570510\n",
       "min        0.010238\n",
       "25%        2.000000\n",
       "50%        6.000000\n",
       "75%       17.000000\n",
       "max      443.000000\n",
       "Name: bat_landing_to_food, dtype: float64"
      ]
     },
     "execution_count": 465,
     "metadata": {},
     "output_type": "execute_result"
    }
   ],
   "source": [
    "dataset1[dataset1['habit'] != 'fast']['bat_landing_to_food'].describe()"
   ]
  },
  {
   "cell_type": "code",
   "execution_count": 466,
   "id": "12e3489b",
   "metadata": {},
   "outputs": [
    {
     "data": {
      "text/plain": [
       "count    245.000000\n",
       "mean       1.868706\n",
       "std        2.054222\n",
       "min        0.010696\n",
       "25%        1.000000\n",
       "50%        1.000000\n",
       "75%        3.000000\n",
       "max       19.000000\n",
       "Name: bat_landing_to_food, dtype: float64"
      ]
     },
     "execution_count": 466,
     "metadata": {},
     "output_type": "execute_result"
    }
   ],
   "source": [
    "dataset1[dataset1['habit'] == 'fast']['bat_landing_to_food'].describe()"
   ]
  },
  {
   "cell_type": "code",
   "execution_count": 467,
   "id": "ab18664b",
   "metadata": {},
   "outputs": [
    {
     "data": {
      "text/plain": [
       "<Axes: ylabel='Frequency'>"
      ]
     },
     "execution_count": 467,
     "metadata": {},
     "output_type": "execute_result"
    },
    {
     "data": {
      "image/png": "[encoded data removed]",
      "text/plain": [
       "<Figure size 640x480 with 1 Axes>"
      ]
     },
     "metadata": {},
     "output_type": "display_data"
    }
   ],
   "source": [
    "dataset1['seconds_after_rat_arrival'].plot(kind= 'hist')"
   ]
  },
  {
   "cell_type": "code",
   "execution_count": 468,
   "id": "b7ef8296",
   "metadata": {},
   "outputs": [
    {
     "data": {
      "text/html": [
       "<div>\n",
       "<style scoped>\n",
       "    .dataframe tbody tr th:only-of-type {\n",
       "        vertical-align: middle;\n",
       "    }\n",
       "\n",
       "    .dataframe tbody tr th {\n",
       "        vertical-align: top;\n",
       "    }\n",
       "\n",
       "    .dataframe thead th {\n",
       "        text-align: right;\n",
       "    }\n",
       "</style>\n",
       "<table border=\"1\" class=\"dataframe\">\n",
       "  <thead>\n",
       "    <tr style=\"text-align: right;\">\n",
       "      <th></th>\n",
       "      <th>time</th>\n",
       "      <th>month</th>\n",
       "      <th>hours_after_sunset</th>\n",
       "      <th>bat_landing_number</th>\n",
       "      <th>food_availability</th>\n",
       "      <th>rat_minutes</th>\n",
       "      <th>rat_arrival_number</th>\n",
       "      <th>rat_present</th>\n",
       "    </tr>\n",
       "  </thead>\n",
       "  <tbody>\n",
       "    <tr>\n",
       "      <th>9</th>\n",
       "      <td>2017-12-26 20:43:00</td>\n",
       "      <td>0</td>\n",
       "      <td>4.0</td>\n",
       "      <td>51</td>\n",
       "      <td>2.968874</td>\n",
       "      <td>1.283333</td>\n",
       "      <td>2</td>\n",
       "      <td>1</td>\n",
       "    </tr>\n",
       "    <tr>\n",
       "      <th>10</th>\n",
       "      <td>2017-12-26 21:13:00</td>\n",
       "      <td>0</td>\n",
       "      <td>4.5</td>\n",
       "      <td>53</td>\n",
       "      <td>2.561404</td>\n",
       "      <td>4.866667</td>\n",
       "      <td>1</td>\n",
       "      <td>1</td>\n",
       "    </tr>\n",
       "    <tr>\n",
       "      <th>11</th>\n",
       "      <td>2017-12-26 21:43:00</td>\n",
       "      <td>0</td>\n",
       "      <td>5.0</td>\n",
       "      <td>47</td>\n",
       "      <td>2.086587</td>\n",
       "      <td>7.900000</td>\n",
       "      <td>1</td>\n",
       "      <td>1</td>\n",
       "    </tr>\n",
       "    <tr>\n",
       "      <th>12</th>\n",
       "      <td>2017-12-26 22:13:00</td>\n",
       "      <td>0</td>\n",
       "      <td>5.5</td>\n",
       "      <td>75</td>\n",
       "      <td>2.000000</td>\n",
       "      <td>0.133333</td>\n",
       "      <td>1</td>\n",
       "      <td>1</td>\n",
       "    </tr>\n",
       "    <tr>\n",
       "      <th>18</th>\n",
       "      <td>2017-12-27 01:13:00</td>\n",
       "      <td>0</td>\n",
       "      <td>8.5</td>\n",
       "      <td>16</td>\n",
       "      <td>0.000000</td>\n",
       "      <td>6.683333</td>\n",
       "      <td>1</td>\n",
       "      <td>1</td>\n",
       "    </tr>\n",
       "    <tr>\n",
       "      <th>...</th>\n",
       "      <td>...</td>\n",
       "      <td>...</td>\n",
       "      <td>...</td>\n",
       "      <td>...</td>\n",
       "      <td>...</td>\n",
       "      <td>...</td>\n",
       "      <td>...</td>\n",
       "      <td>...</td>\n",
       "    </tr>\n",
       "    <tr>\n",
       "      <th>2058</th>\n",
       "      <td>2018-05-21 23:05:00</td>\n",
       "      <td>5</td>\n",
       "      <td>3.5</td>\n",
       "      <td>41</td>\n",
       "      <td>2.000000</td>\n",
       "      <td>3.616667</td>\n",
       "      <td>2</td>\n",
       "      <td>1</td>\n",
       "    </tr>\n",
       "    <tr>\n",
       "      <th>2060</th>\n",
       "      <td>2018-05-22 00:05:00</td>\n",
       "      <td>5</td>\n",
       "      <td>4.5</td>\n",
       "      <td>20</td>\n",
       "      <td>2.000000</td>\n",
       "      <td>4.700000</td>\n",
       "      <td>1</td>\n",
       "      <td>1</td>\n",
       "    </tr>\n",
       "    <tr>\n",
       "      <th>2063</th>\n",
       "      <td>2018-05-22 01:35:00</td>\n",
       "      <td>5</td>\n",
       "      <td>6.0</td>\n",
       "      <td>19</td>\n",
       "      <td>1.992196</td>\n",
       "      <td>1.250000</td>\n",
       "      <td>1</td>\n",
       "      <td>1</td>\n",
       "    </tr>\n",
       "    <tr>\n",
       "      <th>2064</th>\n",
       "      <td>2018-05-22 02:05:00</td>\n",
       "      <td>5</td>\n",
       "      <td>6.5</td>\n",
       "      <td>27</td>\n",
       "      <td>1.677419</td>\n",
       "      <td>1.266667</td>\n",
       "      <td>1</td>\n",
       "      <td>1</td>\n",
       "    </tr>\n",
       "    <tr>\n",
       "      <th>2109</th>\n",
       "      <td>2018-05-31 23:11:00</td>\n",
       "      <td>5</td>\n",
       "      <td>3.5</td>\n",
       "      <td>39</td>\n",
       "      <td>3.000000</td>\n",
       "      <td>2.283333</td>\n",
       "      <td>1</td>\n",
       "      <td>1</td>\n",
       "    </tr>\n",
       "  </tbody>\n",
       "</table>\n",
       "<p>545 rows × 8 columns</p>\n",
       "</div>"
      ],
      "text/plain": [
       "                    time  month  hours_after_sunset  bat_landing_number  \\\n",
       "9    2017-12-26 20:43:00      0                 4.0                  51   \n",
       "10   2017-12-26 21:13:00      0                 4.5                  53   \n",
       "11   2017-12-26 21:43:00      0                 5.0                  47   \n",
       "12   2017-12-26 22:13:00      0                 5.5                  75   \n",
       "18   2017-12-27 01:13:00      0                 8.5                  16   \n",
       "...                  ...    ...                 ...                 ...   \n",
       "2058 2018-05-21 23:05:00      5                 3.5                  41   \n",
       "2060 2018-05-22 00:05:00      5                 4.5                  20   \n",
       "2063 2018-05-22 01:35:00      5                 6.0                  19   \n",
       "2064 2018-05-22 02:05:00      5                 6.5                  27   \n",
       "2109 2018-05-31 23:11:00      5                 3.5                  39   \n",
       "\n",
       "      food_availability  rat_minutes  rat_arrival_number  rat_present  \n",
       "9              2.968874     1.283333                   2            1  \n",
       "10             2.561404     4.866667                   1            1  \n",
       "11             2.086587     7.900000                   1            1  \n",
       "12             2.000000     0.133333                   1            1  \n",
       "18             0.000000     6.683333                   1            1  \n",
       "...                 ...          ...                 ...          ...  \n",
       "2058           2.000000     3.616667                   2            1  \n",
       "2060           2.000000     4.700000                   1            1  \n",
       "2063           1.992196     1.250000                   1            1  \n",
       "2064           1.677419     1.266667                   1            1  \n",
       "2109           3.000000     2.283333                   1            1  \n",
       "\n",
       "[545 rows x 8 columns]"
      ]
     },
     "execution_count": 468,
     "metadata": {},
     "output_type": "execute_result"
    }
   ],
   "source": [
    "df2[df2['rat_minutes'] > 0]"
   ]
  },
  {
   "cell_type": "code",
   "execution_count": 469,
   "id": "7011dd99",
   "metadata": {},
   "outputs": [
    {
     "data": {
      "text/html": [
       "<div>\n",
       "<style scoped>\n",
       "    .dataframe tbody tr th:only-of-type {\n",
       "        vertical-align: middle;\n",
       "    }\n",
       "\n",
       "    .dataframe tbody tr th {\n",
       "        vertical-align: top;\n",
       "    }\n",
       "\n",
       "    .dataframe thead th {\n",
       "        text-align: right;\n",
       "    }\n",
       "</style>\n",
       "<table border=\"1\" class=\"dataframe\">\n",
       "  <thead>\n",
       "    <tr style=\"text-align: right;\">\n",
       "      <th></th>\n",
       "      <th>start_time</th>\n",
       "      <th>bat_landing_to_food</th>\n",
       "      <th>habit</th>\n",
       "      <th>rat_period_start</th>\n",
       "      <th>rat_period_end</th>\n",
       "      <th>seconds_after_rat_arrival</th>\n",
       "      <th>risk</th>\n",
       "      <th>reward</th>\n",
       "      <th>month</th>\n",
       "      <th>sunset_time</th>\n",
       "      <th>hours_after_sunset</th>\n",
       "      <th>season</th>\n",
       "      <th>avoidance_behavior</th>\n",
       "      <th>interaction_type</th>\n",
       "      <th>rat_present</th>\n",
       "    </tr>\n",
       "  </thead>\n",
       "  <tbody>\n",
       "    <tr>\n",
       "      <th>0</th>\n",
       "      <td>2017-12-30 18:37:00</td>\n",
       "      <td>16.000000</td>\n",
       "      <td>rat</td>\n",
       "      <td>2017-12-30 18:35:00</td>\n",
       "      <td>2017-12-30 18:38:00</td>\n",
       "      <td>108</td>\n",
       "      <td>1</td>\n",
       "      <td>0</td>\n",
       "      <td>0</td>\n",
       "      <td>2017-12-30 16:45:00</td>\n",
       "      <td>1.870833</td>\n",
       "      <td>0</td>\n",
       "      <td>1</td>\n",
       "      <td>predation_fear</td>\n",
       "      <td>1</td>\n",
       "    </tr>\n",
       "    <tr>\n",
       "      <th>1</th>\n",
       "      <td>2017-12-30 19:51:00</td>\n",
       "      <td>0.074016</td>\n",
       "      <td>fast</td>\n",
       "      <td>2017-12-30 19:50:00</td>\n",
       "      <td>2017-12-30 19:55:00</td>\n",
       "      <td>17</td>\n",
       "      <td>0</td>\n",
       "      <td>1</td>\n",
       "      <td>0</td>\n",
       "      <td>2017-12-30 16:45:00</td>\n",
       "      <td>3.100833</td>\n",
       "      <td>0</td>\n",
       "      <td>0</td>\n",
       "      <td>no_rat</td>\n",
       "      <td>0</td>\n",
       "    </tr>\n",
       "    <tr>\n",
       "      <th>2</th>\n",
       "      <td>2017-12-30 19:51:00</td>\n",
       "      <td>4.000000</td>\n",
       "      <td>fast</td>\n",
       "      <td>2017-12-30 19:50:00</td>\n",
       "      <td>2017-12-30 19:55:00</td>\n",
       "      <td>41</td>\n",
       "      <td>0</td>\n",
       "      <td>1</td>\n",
       "      <td>0</td>\n",
       "      <td>2017-12-30 16:45:00</td>\n",
       "      <td>3.107500</td>\n",
       "      <td>0</td>\n",
       "      <td>0</td>\n",
       "      <td>no_rat</td>\n",
       "      <td>0</td>\n",
       "    </tr>\n",
       "    <tr>\n",
       "      <th>3</th>\n",
       "      <td>2017-12-30 19:52:00</td>\n",
       "      <td>10.000000</td>\n",
       "      <td>rat</td>\n",
       "      <td>2017-12-30 19:50:00</td>\n",
       "      <td>2017-12-30 19:55:00</td>\n",
       "      <td>111</td>\n",
       "      <td>1</td>\n",
       "      <td>0</td>\n",
       "      <td>0</td>\n",
       "      <td>2017-12-30 16:45:00</td>\n",
       "      <td>3.126944</td>\n",
       "      <td>0</td>\n",
       "      <td>1</td>\n",
       "      <td>predation_fear</td>\n",
       "      <td>1</td>\n",
       "    </tr>\n",
       "    <tr>\n",
       "      <th>4</th>\n",
       "      <td>2017-12-30 19:54:00</td>\n",
       "      <td>15.000000</td>\n",
       "      <td>rat</td>\n",
       "      <td>2017-12-30 19:50:00</td>\n",
       "      <td>2017-12-30 19:55:00</td>\n",
       "      <td>194</td>\n",
       "      <td>1</td>\n",
       "      <td>0</td>\n",
       "      <td>0</td>\n",
       "      <td>2017-12-30 16:45:00</td>\n",
       "      <td>3.150000</td>\n",
       "      <td>0</td>\n",
       "      <td>1</td>\n",
       "      <td>predation_fear</td>\n",
       "      <td>1</td>\n",
       "    </tr>\n",
       "  </tbody>\n",
       "</table>\n",
       "</div>"
      ],
      "text/plain": [
       "            start_time  bat_landing_to_food habit     rat_period_start  \\\n",
       "0  2017-12-30 18:37:00            16.000000   rat  2017-12-30 18:35:00   \n",
       "1  2017-12-30 19:51:00             0.074016  fast  2017-12-30 19:50:00   \n",
       "2  2017-12-30 19:51:00             4.000000  fast  2017-12-30 19:50:00   \n",
       "3  2017-12-30 19:52:00            10.000000   rat  2017-12-30 19:50:00   \n",
       "4  2017-12-30 19:54:00            15.000000   rat  2017-12-30 19:50:00   \n",
       "\n",
       "        rat_period_end  seconds_after_rat_arrival  risk  reward  month  \\\n",
       "0  2017-12-30 18:38:00                        108     1       0      0   \n",
       "1  2017-12-30 19:55:00                         17     0       1      0   \n",
       "2  2017-12-30 19:55:00                         41     0       1      0   \n",
       "3  2017-12-30 19:55:00                        111     1       0      0   \n",
       "4  2017-12-30 19:55:00                        194     1       0      0   \n",
       "\n",
       "           sunset_time  hours_after_sunset  season  avoidance_behavior  \\\n",
       "0  2017-12-30 16:45:00            1.870833       0                   1   \n",
       "1  2017-12-30 16:45:00            3.100833       0                   0   \n",
       "2  2017-12-30 16:45:00            3.107500       0                   0   \n",
       "3  2017-12-30 16:45:00            3.126944       0                   1   \n",
       "4  2017-12-30 16:45:00            3.150000       0                   1   \n",
       "\n",
       "  interaction_type  rat_present  \n",
       "0   predation_fear            1  \n",
       "1           no_rat            0  \n",
       "2           no_rat            0  \n",
       "3   predation_fear            1  \n",
       "4   predation_fear            1  "
      ]
     },
     "execution_count": 469,
     "metadata": {},
     "output_type": "execute_result"
    }
   ],
   "source": [
    "dataset1.head()"
   ]
  },
  {
   "cell_type": "code",
   "execution_count": 470,
   "id": "56c0aa77",
   "metadata": {},
   "outputs": [
    {
     "data": {
      "text/plain": [
       "<Axes: xlabel='season'>"
      ]
     },
     "execution_count": 470,
     "metadata": {},
     "output_type": "execute_result"
    },
    {
     "data": {
      "image/png": "[encoded data removed]",
      "text/plain": [
       "<Figure size 640x480 with 1 Axes>"
      ]
     },
     "metadata": {},
     "output_type": "display_data"
    }
   ],
   "source": [
    "dataset1.season.value_counts().plot(kind = 'bar')"
   ]
  },
  {
   "cell_type": "code",
   "execution_count": 471,
   "id": "1992c31a",
   "metadata": {},
   "outputs": [
    {
     "data": {
      "text/plain": [
       "<Axes: xlabel='month'>"
      ]
     },
     "execution_count": 471,
     "metadata": {},
     "output_type": "execute_result"
    },
    {
     "data": {
      "image/png": "[encoded data removed]",
      "text/plain": [
       "<Figure size 640x480 with 1 Axes>"
      ]
     },
     "metadata": {},
     "output_type": "display_data"
    }
   ],
   "source": [
    "dataset1.month.value_counts().plot(kind = 'bar')"
   ]
  },
  {
   "cell_type": "code",
   "execution_count": 472,
   "id": "1c5a8ea2",
   "metadata": {},
   "outputs": [
    {
     "data": {
      "text/html": [
       "<div>\n",
       "<style scoped>\n",
       "    .dataframe tbody tr th:only-of-type {\n",
       "        vertical-align: middle;\n",
       "    }\n",
       "\n",
       "    .dataframe tbody tr th {\n",
       "        vertical-align: top;\n",
       "    }\n",
       "\n",
       "    .dataframe thead th {\n",
       "        text-align: right;\n",
       "    }\n",
       "</style>\n",
       "<table border=\"1\" class=\"dataframe\">\n",
       "  <thead>\n",
       "    <tr style=\"text-align: right;\">\n",
       "      <th></th>\n",
       "      <th>season</th>\n",
       "      <th>month</th>\n",
       "      <th>count</th>\n",
       "    </tr>\n",
       "  </thead>\n",
       "  <tbody>\n",
       "    <tr>\n",
       "      <th>0</th>\n",
       "      <td>0</td>\n",
       "      <td>2</td>\n",
       "      <td>92</td>\n",
       "    </tr>\n",
       "    <tr>\n",
       "      <th>1</th>\n",
       "      <td>0</td>\n",
       "      <td>1</td>\n",
       "      <td>33</td>\n",
       "    </tr>\n",
       "    <tr>\n",
       "      <th>2</th>\n",
       "      <td>0</td>\n",
       "      <td>0</td>\n",
       "      <td>26</td>\n",
       "    </tr>\n",
       "    <tr>\n",
       "      <th>3</th>\n",
       "      <td>1</td>\n",
       "      <td>4</td>\n",
       "      <td>498</td>\n",
       "    </tr>\n",
       "    <tr>\n",
       "      <th>4</th>\n",
       "      <td>1</td>\n",
       "      <td>5</td>\n",
       "      <td>232</td>\n",
       "    </tr>\n",
       "    <tr>\n",
       "      <th>5</th>\n",
       "      <td>1</td>\n",
       "      <td>3</td>\n",
       "      <td>26</td>\n",
       "    </tr>\n",
       "  </tbody>\n",
       "</table>\n",
       "</div>"
      ],
      "text/plain": [
       "   season  month  count\n",
       "0       0      2     92\n",
       "1       0      1     33\n",
       "2       0      0     26\n",
       "3       1      4    498\n",
       "4       1      5    232\n",
       "5       1      3     26"
      ]
     },
     "execution_count": 472,
     "metadata": {},
     "output_type": "execute_result"
    }
   ],
   "source": [
    "hue_df = dataset1.groupby('season')['month'].value_counts().reset_index()\n",
    "hue_df"
   ]
  },
  {
   "cell_type": "code",
   "execution_count": 473,
   "id": "9542886e",
   "metadata": {},
   "outputs": [
    {
     "data": {
      "text/plain": [
       "<Axes: xlabel='month', ylabel='count'>"
      ]
     },
     "execution_count": 473,
     "metadata": {},
     "output_type": "execute_result"
    },
    {
     "data": {
      "image/png": "[encoded data removed]",
      "text/plain": [
       "<Figure size 640x480 with 1 Axes>"
      ]
     },
     "metadata": {},
     "output_type": "display_data"
    }
   ],
   "source": [
    "sns.barplot(data=hue_df, x='month', y='count', hue='season')"
   ]
  },
  {
   "cell_type": "code",
   "execution_count": 474,
   "id": "7392db2d",
   "metadata": {},
   "outputs": [],
   "source": [
    "dataset1['start_time'] = pd.to_datetime(dataset1['start_time'])"
   ]
  },
  {
   "cell_type": "code",
   "execution_count": 475,
   "id": "7fb96a89",
   "metadata": {},
   "outputs": [
    {
     "data": {
      "text/html": [
       "<div>\n",
       "<style scoped>\n",
       "    .dataframe tbody tr th:only-of-type {\n",
       "        vertical-align: middle;\n",
       "    }\n",
       "\n",
       "    .dataframe tbody tr th {\n",
       "        vertical-align: top;\n",
       "    }\n",
       "\n",
       "    .dataframe thead th {\n",
       "        text-align: right;\n",
       "    }\n",
       "</style>\n",
       "<table border=\"1\" class=\"dataframe\">\n",
       "  <thead>\n",
       "    <tr style=\"text-align: right;\">\n",
       "      <th></th>\n",
       "      <th>start_time</th>\n",
       "      <th>bat_landing_to_food</th>\n",
       "      <th>habit</th>\n",
       "      <th>rat_period_start</th>\n",
       "      <th>rat_period_end</th>\n",
       "      <th>seconds_after_rat_arrival</th>\n",
       "      <th>risk</th>\n",
       "      <th>reward</th>\n",
       "      <th>month</th>\n",
       "      <th>sunset_time</th>\n",
       "      <th>hours_after_sunset</th>\n",
       "      <th>season</th>\n",
       "      <th>avoidance_behavior</th>\n",
       "      <th>interaction_type</th>\n",
       "      <th>rat_present</th>\n",
       "    </tr>\n",
       "  </thead>\n",
       "  <tbody>\n",
       "    <tr>\n",
       "      <th>2</th>\n",
       "      <td>2017-12-30 19:51:00</td>\n",
       "      <td>4.0</td>\n",
       "      <td>fast</td>\n",
       "      <td>2017-12-30 19:50:00</td>\n",
       "      <td>2017-12-30 19:55:00</td>\n",
       "      <td>41</td>\n",
       "      <td>0</td>\n",
       "      <td>1</td>\n",
       "      <td>0</td>\n",
       "      <td>2017-12-30 16:45:00</td>\n",
       "      <td>3.107500</td>\n",
       "      <td>0</td>\n",
       "      <td>0</td>\n",
       "      <td>no_rat</td>\n",
       "      <td>0</td>\n",
       "    </tr>\n",
       "    <tr>\n",
       "      <th>5</th>\n",
       "      <td>2017-12-30 19:54:00</td>\n",
       "      <td>24.0</td>\n",
       "      <td>rat</td>\n",
       "      <td>2017-12-30 19:50:00</td>\n",
       "      <td>2017-12-30 19:55:00</td>\n",
       "      <td>215</td>\n",
       "      <td>1</td>\n",
       "      <td>0</td>\n",
       "      <td>0</td>\n",
       "      <td>2017-12-30 16:45:00</td>\n",
       "      <td>3.155833</td>\n",
       "      <td>0</td>\n",
       "      <td>1</td>\n",
       "      <td>predation_fear</td>\n",
       "      <td>1</td>\n",
       "    </tr>\n",
       "    <tr>\n",
       "      <th>6</th>\n",
       "      <td>2017-12-30 19:54:00</td>\n",
       "      <td>13.0</td>\n",
       "      <td>rat</td>\n",
       "      <td>2017-12-30 19:50:00</td>\n",
       "      <td>2017-12-30 19:55:00</td>\n",
       "      <td>253</td>\n",
       "      <td>1</td>\n",
       "      <td>0</td>\n",
       "      <td>0</td>\n",
       "      <td>2017-12-30 16:45:00</td>\n",
       "      <td>3.166389</td>\n",
       "      <td>0</td>\n",
       "      <td>1</td>\n",
       "      <td>predation_fear</td>\n",
       "      <td>1</td>\n",
       "    </tr>\n",
       "    <tr>\n",
       "      <th>8</th>\n",
       "      <td>2017-12-26 21:24:00</td>\n",
       "      <td>6.0</td>\n",
       "      <td>pick</td>\n",
       "      <td>2017-12-26 21:22:00</td>\n",
       "      <td>2017-12-26 21:27:00</td>\n",
       "      <td>113</td>\n",
       "      <td>0</td>\n",
       "      <td>1</td>\n",
       "      <td>0</td>\n",
       "      <td>2017-12-26 16:43:00</td>\n",
       "      <td>4.691389</td>\n",
       "      <td>0</td>\n",
       "      <td>1</td>\n",
       "      <td>no_rat</td>\n",
       "      <td>0</td>\n",
       "    </tr>\n",
       "    <tr>\n",
       "      <th>9</th>\n",
       "      <td>2017-12-26 21:24:00</td>\n",
       "      <td>3.0</td>\n",
       "      <td>fast</td>\n",
       "      <td>2017-12-26 21:22:00</td>\n",
       "      <td>2017-12-26 21:27:00</td>\n",
       "      <td>121</td>\n",
       "      <td>0</td>\n",
       "      <td>1</td>\n",
       "      <td>0</td>\n",
       "      <td>2017-12-26 16:43:00</td>\n",
       "      <td>4.693611</td>\n",
       "      <td>0</td>\n",
       "      <td>0</td>\n",
       "      <td>no_rat</td>\n",
       "      <td>0</td>\n",
       "    </tr>\n",
       "    <tr>\n",
       "      <th>...</th>\n",
       "      <td>...</td>\n",
       "      <td>...</td>\n",
       "      <td>...</td>\n",
       "      <td>...</td>\n",
       "      <td>...</td>\n",
       "      <td>...</td>\n",
       "      <td>...</td>\n",
       "      <td>...</td>\n",
       "      <td>...</td>\n",
       "      <td>...</td>\n",
       "      <td>...</td>\n",
       "      <td>...</td>\n",
       "      <td>...</td>\n",
       "      <td>...</td>\n",
       "      <td>...</td>\n",
       "    </tr>\n",
       "    <tr>\n",
       "      <th>892</th>\n",
       "      <td>2018-05-04 02:58:00</td>\n",
       "      <td>1.0</td>\n",
       "      <td>fast</td>\n",
       "      <td>2018-05-04 02:55:00</td>\n",
       "      <td>2018-05-04 03:14:00</td>\n",
       "      <td>164</td>\n",
       "      <td>0</td>\n",
       "      <td>1</td>\n",
       "      <td>5</td>\n",
       "      <td>2018-05-03 19:22:00</td>\n",
       "      <td>7.610833</td>\n",
       "      <td>1</td>\n",
       "      <td>0</td>\n",
       "      <td>no_rat</td>\n",
       "      <td>0</td>\n",
       "    </tr>\n",
       "    <tr>\n",
       "      <th>897</th>\n",
       "      <td>2018-05-04 03:05:00</td>\n",
       "      <td>6.0</td>\n",
       "      <td>pick_bat</td>\n",
       "      <td>2018-05-04 02:55:00</td>\n",
       "      <td>2018-05-04 03:14:00</td>\n",
       "      <td>593</td>\n",
       "      <td>1</td>\n",
       "      <td>1</td>\n",
       "      <td>5</td>\n",
       "      <td>2018-05-03 19:22:00</td>\n",
       "      <td>7.730000</td>\n",
       "      <td>1</td>\n",
       "      <td>1</td>\n",
       "      <td>no_rat</td>\n",
       "      <td>0</td>\n",
       "    </tr>\n",
       "    <tr>\n",
       "      <th>899</th>\n",
       "      <td>2018-05-04 03:06:00</td>\n",
       "      <td>5.0</td>\n",
       "      <td>rat</td>\n",
       "      <td>2018-05-04 02:55:00</td>\n",
       "      <td>2018-05-04 03:14:00</td>\n",
       "      <td>636</td>\n",
       "      <td>1</td>\n",
       "      <td>0</td>\n",
       "      <td>5</td>\n",
       "      <td>2018-05-03 19:22:00</td>\n",
       "      <td>7.741944</td>\n",
       "      <td>1</td>\n",
       "      <td>0</td>\n",
       "      <td>predation_fear</td>\n",
       "      <td>1</td>\n",
       "    </tr>\n",
       "    <tr>\n",
       "      <th>903</th>\n",
       "      <td>2018-05-04 04:18:00</td>\n",
       "      <td>1.0</td>\n",
       "      <td>fast</td>\n",
       "      <td>2018-05-04 04:14:00</td>\n",
       "      <td>2018-05-04 04:30:00</td>\n",
       "      <td>275</td>\n",
       "      <td>0</td>\n",
       "      <td>1</td>\n",
       "      <td>5</td>\n",
       "      <td>2018-05-03 19:22:00</td>\n",
       "      <td>8.947500</td>\n",
       "      <td>1</td>\n",
       "      <td>0</td>\n",
       "      <td>no_rat</td>\n",
       "      <td>0</td>\n",
       "    </tr>\n",
       "    <tr>\n",
       "      <th>905</th>\n",
       "      <td>2018-05-03 23:51:00</td>\n",
       "      <td>2.0</td>\n",
       "      <td>fast</td>\n",
       "      <td>2018-05-03 23:46:00</td>\n",
       "      <td>2018-05-03 23:52:00</td>\n",
       "      <td>339</td>\n",
       "      <td>0</td>\n",
       "      <td>1</td>\n",
       "      <td>5</td>\n",
       "      <td>2018-05-03 19:22:00</td>\n",
       "      <td>4.498889</td>\n",
       "      <td>1</td>\n",
       "      <td>0</td>\n",
       "      <td>no_rat</td>\n",
       "      <td>0</td>\n",
       "    </tr>\n",
       "  </tbody>\n",
       "</table>\n",
       "<p>279 rows × 15 columns</p>\n",
       "</div>"
      ],
      "text/plain": [
       "             start_time  bat_landing_to_food     habit     rat_period_start  \\\n",
       "2   2017-12-30 19:51:00                  4.0      fast  2017-12-30 19:50:00   \n",
       "5   2017-12-30 19:54:00                 24.0       rat  2017-12-30 19:50:00   \n",
       "6   2017-12-30 19:54:00                 13.0       rat  2017-12-30 19:50:00   \n",
       "8   2017-12-26 21:24:00                  6.0      pick  2017-12-26 21:22:00   \n",
       "9   2017-12-26 21:24:00                  3.0      fast  2017-12-26 21:22:00   \n",
       "..                  ...                  ...       ...                  ...   \n",
       "892 2018-05-04 02:58:00                  1.0      fast  2018-05-04 02:55:00   \n",
       "897 2018-05-04 03:05:00                  6.0  pick_bat  2018-05-04 02:55:00   \n",
       "899 2018-05-04 03:06:00                  5.0       rat  2018-05-04 02:55:00   \n",
       "903 2018-05-04 04:18:00                  1.0      fast  2018-05-04 04:14:00   \n",
       "905 2018-05-03 23:51:00                  2.0      fast  2018-05-03 23:46:00   \n",
       "\n",
       "          rat_period_end  seconds_after_rat_arrival  risk  reward  month  \\\n",
       "2    2017-12-30 19:55:00                         41     0       1      0   \n",
       "5    2017-12-30 19:55:00                        215     1       0      0   \n",
       "6    2017-12-30 19:55:00                        253     1       0      0   \n",
       "8    2017-12-26 21:27:00                        113     0       1      0   \n",
       "9    2017-12-26 21:27:00                        121     0       1      0   \n",
       "..                   ...                        ...   ...     ...    ...   \n",
       "892  2018-05-04 03:14:00                        164     0       1      5   \n",
       "897  2018-05-04 03:14:00                        593     1       1      5   \n",
       "899  2018-05-04 03:14:00                        636     1       0      5   \n",
       "903  2018-05-04 04:30:00                        275     0       1      5   \n",
       "905  2018-05-03 23:52:00                        339     0       1      5   \n",
       "\n",
       "             sunset_time  hours_after_sunset  season  avoidance_behavior  \\\n",
       "2    2017-12-30 16:45:00            3.107500       0                   0   \n",
       "5    2017-12-30 16:45:00            3.155833       0                   1   \n",
       "6    2017-12-30 16:45:00            3.166389       0                   1   \n",
       "8    2017-12-26 16:43:00            4.691389       0                   1   \n",
       "9    2017-12-26 16:43:00            4.693611       0                   0   \n",
       "..                   ...                 ...     ...                 ...   \n",
       "892  2018-05-03 19:22:00            7.610833       1                   0   \n",
       "897  2018-05-03 19:22:00            7.730000       1                   1   \n",
       "899  2018-05-03 19:22:00            7.741944       1                   0   \n",
       "903  2018-05-03 19:22:00            8.947500       1                   0   \n",
       "905  2018-05-03 19:22:00            4.498889       1                   0   \n",
       "\n",
       "    interaction_type  rat_present  \n",
       "2             no_rat            0  \n",
       "5     predation_fear            1  \n",
       "6     predation_fear            1  \n",
       "8             no_rat            0  \n",
       "9             no_rat            0  \n",
       "..               ...          ...  \n",
       "892           no_rat            0  \n",
       "897           no_rat            0  \n",
       "899   predation_fear            1  \n",
       "903           no_rat            0  \n",
       "905           no_rat            0  \n",
       "\n",
       "[279 rows x 15 columns]"
      ]
     },
     "execution_count": 475,
     "metadata": {},
     "output_type": "execute_result"
    }
   ],
   "source": [
    "dataset1[dataset1.start_time.duplicated()]\n",
    "dataset1[dataset1.start_time.duplicated()]"
   ]
  },
  {
   "cell_type": "code",
   "execution_count": 476,
   "id": "e95d703c",
   "metadata": {},
   "outputs": [
    {
     "data": {
      "text/html": [
       "<div>\n",
       "<style scoped>\n",
       "    .dataframe tbody tr th:only-of-type {\n",
       "        vertical-align: middle;\n",
       "    }\n",
       "\n",
       "    .dataframe tbody tr th {\n",
       "        vertical-align: top;\n",
       "    }\n",
       "\n",
       "    .dataframe thead th {\n",
       "        text-align: right;\n",
       "    }\n",
       "</style>\n",
       "<table border=\"1\" class=\"dataframe\">\n",
       "  <thead>\n",
       "    <tr style=\"text-align: right;\">\n",
       "      <th></th>\n",
       "      <th>time</th>\n",
       "      <th>month</th>\n",
       "      <th>hours_after_sunset</th>\n",
       "      <th>bat_landing_number</th>\n",
       "      <th>food_availability</th>\n",
       "      <th>rat_minutes</th>\n",
       "      <th>rat_arrival_number</th>\n",
       "      <th>rat_present</th>\n",
       "      <th>season</th>\n",
       "    </tr>\n",
       "  </thead>\n",
       "  <tbody>\n",
       "    <tr>\n",
       "      <th>0</th>\n",
       "      <td>2017-12-26 16:13:00</td>\n",
       "      <td>0</td>\n",
       "      <td>-0.5</td>\n",
       "      <td>20</td>\n",
       "      <td>4.000000</td>\n",
       "      <td>0.0</td>\n",
       "      <td>0</td>\n",
       "      <td>0</td>\n",
       "      <td>0</td>\n",
       "    </tr>\n",
       "    <tr>\n",
       "      <th>1</th>\n",
       "      <td>2017-12-26 16:43:00</td>\n",
       "      <td>0</td>\n",
       "      <td>0.0</td>\n",
       "      <td>28</td>\n",
       "      <td>4.000000</td>\n",
       "      <td>0.0</td>\n",
       "      <td>0</td>\n",
       "      <td>0</td>\n",
       "      <td>0</td>\n",
       "    </tr>\n",
       "    <tr>\n",
       "      <th>2</th>\n",
       "      <td>2017-12-26 17:13:00</td>\n",
       "      <td>0</td>\n",
       "      <td>0.5</td>\n",
       "      <td>25</td>\n",
       "      <td>4.000000</td>\n",
       "      <td>0.0</td>\n",
       "      <td>0</td>\n",
       "      <td>0</td>\n",
       "      <td>0</td>\n",
       "    </tr>\n",
       "    <tr>\n",
       "      <th>3</th>\n",
       "      <td>2017-12-26 17:43:00</td>\n",
       "      <td>0</td>\n",
       "      <td>1.0</td>\n",
       "      <td>71</td>\n",
       "      <td>4.000000</td>\n",
       "      <td>0.0</td>\n",
       "      <td>0</td>\n",
       "      <td>0</td>\n",
       "      <td>0</td>\n",
       "    </tr>\n",
       "    <tr>\n",
       "      <th>4</th>\n",
       "      <td>2017-12-26 18:13:00</td>\n",
       "      <td>0</td>\n",
       "      <td>1.5</td>\n",
       "      <td>44</td>\n",
       "      <td>3.753857</td>\n",
       "      <td>0.0</td>\n",
       "      <td>0</td>\n",
       "      <td>0</td>\n",
       "      <td>0</td>\n",
       "    </tr>\n",
       "    <tr>\n",
       "      <th>...</th>\n",
       "      <td>...</td>\n",
       "      <td>...</td>\n",
       "      <td>...</td>\n",
       "      <td>...</td>\n",
       "      <td>...</td>\n",
       "      <td>...</td>\n",
       "      <td>...</td>\n",
       "      <td>...</td>\n",
       "      <td>...</td>\n",
       "    </tr>\n",
       "    <tr>\n",
       "      <th>2118</th>\n",
       "      <td>2018-06-01 03:41:00</td>\n",
       "      <td>6</td>\n",
       "      <td>8.0</td>\n",
       "      <td>20</td>\n",
       "      <td>1.000000</td>\n",
       "      <td>0.0</td>\n",
       "      <td>0</td>\n",
       "      <td>0</td>\n",
       "      <td>1</td>\n",
       "    </tr>\n",
       "    <tr>\n",
       "      <th>2119</th>\n",
       "      <td>2018-06-01 04:11:00</td>\n",
       "      <td>6</td>\n",
       "      <td>8.5</td>\n",
       "      <td>7</td>\n",
       "      <td>1.000000</td>\n",
       "      <td>0.0</td>\n",
       "      <td>0</td>\n",
       "      <td>0</td>\n",
       "      <td>1</td>\n",
       "    </tr>\n",
       "    <tr>\n",
       "      <th>2120</th>\n",
       "      <td>2018-06-01 04:41:00</td>\n",
       "      <td>6</td>\n",
       "      <td>9.0</td>\n",
       "      <td>6</td>\n",
       "      <td>1.000000</td>\n",
       "      <td>0.0</td>\n",
       "      <td>0</td>\n",
       "      <td>0</td>\n",
       "      <td>1</td>\n",
       "    </tr>\n",
       "    <tr>\n",
       "      <th>2121</th>\n",
       "      <td>2018-06-01 05:11:00</td>\n",
       "      <td>6</td>\n",
       "      <td>9.5</td>\n",
       "      <td>7</td>\n",
       "      <td>1.000000</td>\n",
       "      <td>0.0</td>\n",
       "      <td>0</td>\n",
       "      <td>0</td>\n",
       "      <td>1</td>\n",
       "    </tr>\n",
       "    <tr>\n",
       "      <th>2122</th>\n",
       "      <td>2018-06-01 05:41:00</td>\n",
       "      <td>6</td>\n",
       "      <td>10.0</td>\n",
       "      <td>2</td>\n",
       "      <td>1.000000</td>\n",
       "      <td>0.0</td>\n",
       "      <td>0</td>\n",
       "      <td>0</td>\n",
       "      <td>1</td>\n",
       "    </tr>\n",
       "  </tbody>\n",
       "</table>\n",
       "<p>2123 rows × 9 columns</p>\n",
       "</div>"
      ],
      "text/plain": [
       "                    time  month  hours_after_sunset  bat_landing_number  \\\n",
       "0    2017-12-26 16:13:00      0                -0.5                  20   \n",
       "1    2017-12-26 16:43:00      0                 0.0                  28   \n",
       "2    2017-12-26 17:13:00      0                 0.5                  25   \n",
       "3    2017-12-26 17:43:00      0                 1.0                  71   \n",
       "4    2017-12-26 18:13:00      0                 1.5                  44   \n",
       "...                  ...    ...                 ...                 ...   \n",
       "2118 2018-06-01 03:41:00      6                 8.0                  20   \n",
       "2119 2018-06-01 04:11:00      6                 8.5                   7   \n",
       "2120 2018-06-01 04:41:00      6                 9.0                   6   \n",
       "2121 2018-06-01 05:11:00      6                 9.5                   7   \n",
       "2122 2018-06-01 05:41:00      6                10.0                   2   \n",
       "\n",
       "      food_availability  rat_minutes  rat_arrival_number  rat_present  season  \n",
       "0              4.000000          0.0                   0            0       0  \n",
       "1              4.000000          0.0                   0            0       0  \n",
       "2              4.000000          0.0                   0            0       0  \n",
       "3              4.000000          0.0                   0            0       0  \n",
       "4              3.753857          0.0                   0            0       0  \n",
       "...                 ...          ...                 ...          ...     ...  \n",
       "2118           1.000000          0.0                   0            0       1  \n",
       "2119           1.000000          0.0                   0            0       1  \n",
       "2120           1.000000          0.0                   0            0       1  \n",
       "2121           1.000000          0.0                   0            0       1  \n",
       "2122           1.000000          0.0                   0            0       1  \n",
       "\n",
       "[2123 rows x 9 columns]"
      ]
     },
     "execution_count": 476,
     "metadata": {},
     "output_type": "execute_result"
    }
   ],
   "source": [
    "df2['season'] = np.where(df2['month'] >= 3, 1,0)\n",
    "df2"
   ]
  },
  {
   "cell_type": "code",
   "execution_count": 477,
   "id": "714a3b1a",
   "metadata": {},
   "outputs": [
    {
     "data": {
      "text/plain": [
       "<Axes: xlabel='month', ylabel='count'>"
      ]
     },
     "execution_count": 477,
     "metadata": {},
     "output_type": "execute_result"
    },
    {
     "data": {
      "image/png": "[encoded data removed]",
      "text/plain": [
       "<Figure size 640x480 with 1 Axes>"
      ]
     },
     "metadata": {},
     "output_type": "display_data"
    }
   ],
   "source": [
    "sns.barplot(data=df2.groupby('season')['month'].value_counts().reset_index(), x='month', y='count', hue='season')"
   ]
  },
  {
   "cell_type": "markdown",
   "id": "a770284a",
   "metadata": {},
   "source": [
    "# Seasonal Hypothesis Testing based on Investigation 1"
   ]
  },
  {
   "cell_type": "code",
   "execution_count": 478,
   "id": "1539a10c",
   "metadata": {},
   "outputs": [],
   "source": [
    "winter_season = dataset1[dataset1['season'] == 0]\n",
    "spring_season = dataset1[dataset1['season'] == 1]"
   ]
  },
  {
   "cell_type": "code",
   "execution_count": 479,
   "id": "f0b4968f",
   "metadata": {},
   "outputs": [
    {
     "data": {
      "text/html": [
       "<div>\n",
       "<style scoped>\n",
       "    .dataframe tbody tr th:only-of-type {\n",
       "        vertical-align: middle;\n",
       "    }\n",
       "\n",
       "    .dataframe tbody tr th {\n",
       "        vertical-align: top;\n",
       "    }\n",
       "\n",
       "    .dataframe thead th {\n",
       "        text-align: right;\n",
       "    }\n",
       "</style>\n",
       "<table border=\"1\" class=\"dataframe\">\n",
       "  <thead>\n",
       "    <tr style=\"text-align: right;\">\n",
       "      <th></th>\n",
       "      <th>start_time</th>\n",
       "      <th>bat_landing_to_food</th>\n",
       "      <th>seconds_after_rat_arrival</th>\n",
       "      <th>risk</th>\n",
       "      <th>reward</th>\n",
       "      <th>month</th>\n",
       "      <th>hours_after_sunset</th>\n",
       "      <th>season</th>\n",
       "      <th>avoidance_behavior</th>\n",
       "      <th>rat_present</th>\n",
       "    </tr>\n",
       "  </thead>\n",
       "  <tbody>\n",
       "    <tr>\n",
       "      <th>count</th>\n",
       "      <td>151</td>\n",
       "      <td>151.000000</td>\n",
       "      <td>151.000000</td>\n",
       "      <td>151.000000</td>\n",
       "      <td>151.000000</td>\n",
       "      <td>151.000000</td>\n",
       "      <td>151.000000</td>\n",
       "      <td>151.0</td>\n",
       "      <td>151.000000</td>\n",
       "      <td>151.000000</td>\n",
       "    </tr>\n",
       "    <tr>\n",
       "      <th>mean</th>\n",
       "      <td>2018-01-31 07:20:44.900662528</td>\n",
       "      <td>6.039623</td>\n",
       "      <td>207.470199</td>\n",
       "      <td>0.562914</td>\n",
       "      <td>0.364238</td>\n",
       "      <td>1.437086</td>\n",
       "      <td>5.560723</td>\n",
       "      <td>0.0</td>\n",
       "      <td>0.284768</td>\n",
       "      <td>0.523179</td>\n",
       "    </tr>\n",
       "    <tr>\n",
       "      <th>min</th>\n",
       "      <td>2017-12-26 20:57:00</td>\n",
       "      <td>0.010696</td>\n",
       "      <td>2.000000</td>\n",
       "      <td>0.000000</td>\n",
       "      <td>0.000000</td>\n",
       "      <td>0.000000</td>\n",
       "      <td>0.247778</td>\n",
       "      <td>0.0</td>\n",
       "      <td>0.000000</td>\n",
       "      <td>0.000000</td>\n",
       "    </tr>\n",
       "    <tr>\n",
       "      <th>25%</th>\n",
       "      <td>2018-01-27 23:48:00</td>\n",
       "      <td>1.000000</td>\n",
       "      <td>68.000000</td>\n",
       "      <td>0.000000</td>\n",
       "      <td>0.000000</td>\n",
       "      <td>1.000000</td>\n",
       "      <td>3.027639</td>\n",
       "      <td>0.0</td>\n",
       "      <td>0.000000</td>\n",
       "      <td>0.000000</td>\n",
       "    </tr>\n",
       "    <tr>\n",
       "      <th>50%</th>\n",
       "      <td>2018-02-08 02:06:00</td>\n",
       "      <td>2.000000</td>\n",
       "      <td>146.000000</td>\n",
       "      <td>1.000000</td>\n",
       "      <td>0.000000</td>\n",
       "      <td>2.000000</td>\n",
       "      <td>5.168333</td>\n",
       "      <td>0.0</td>\n",
       "      <td>0.000000</td>\n",
       "      <td>1.000000</td>\n",
       "    </tr>\n",
       "    <tr>\n",
       "      <th>75%</th>\n",
       "      <td>2018-02-11 01:31:30</td>\n",
       "      <td>6.000000</td>\n",
       "      <td>248.000000</td>\n",
       "      <td>1.000000</td>\n",
       "      <td>1.000000</td>\n",
       "      <td>2.000000</td>\n",
       "      <td>7.487222</td>\n",
       "      <td>0.0</td>\n",
       "      <td>1.000000</td>\n",
       "      <td>1.000000</td>\n",
       "    </tr>\n",
       "    <tr>\n",
       "      <th>max</th>\n",
       "      <td>2018-02-20 03:10:00</td>\n",
       "      <td>155.000000</td>\n",
       "      <td>933.000000</td>\n",
       "      <td>1.000000</td>\n",
       "      <td>1.000000</td>\n",
       "      <td>2.000000</td>\n",
       "      <td>12.091944</td>\n",
       "      <td>0.0</td>\n",
       "      <td>1.000000</td>\n",
       "      <td>1.000000</td>\n",
       "    </tr>\n",
       "    <tr>\n",
       "      <th>std</th>\n",
       "      <td>NaN</td>\n",
       "      <td>13.960667</td>\n",
       "      <td>206.770978</td>\n",
       "      <td>0.497677</td>\n",
       "      <td>0.482817</td>\n",
       "      <td>0.770940</td>\n",
       "      <td>2.791883</td>\n",
       "      <td>0.0</td>\n",
       "      <td>0.452806</td>\n",
       "      <td>0.501125</td>\n",
       "    </tr>\n",
       "  </tbody>\n",
       "</table>\n",
       "</div>"
      ],
      "text/plain": [
       "                          start_time  bat_landing_to_food  \\\n",
       "count                            151           151.000000   \n",
       "mean   2018-01-31 07:20:44.900662528             6.039623   \n",
       "min              2017-12-26 20:57:00             0.010696   \n",
       "25%              2018-01-27 23:48:00             1.000000   \n",
       "50%              2018-02-08 02:06:00             2.000000   \n",
       "75%              2018-02-11 01:31:30             6.000000   \n",
       "max              2018-02-20 03:10:00           155.000000   \n",
       "std                              NaN            13.960667   \n",
       "\n",
       "       seconds_after_rat_arrival        risk      reward       month  \\\n",
       "count                 151.000000  151.000000  151.000000  151.000000   \n",
       "mean                  207.470199    0.562914    0.364238    1.437086   \n",
       "min                     2.000000    0.000000    0.000000    0.000000   \n",
       "25%                    68.000000    0.000000    0.000000    1.000000   \n",
       "50%                   146.000000    1.000000    0.000000    2.000000   \n",
       "75%                   248.000000    1.000000    1.000000    2.000000   \n",
       "max                   933.000000    1.000000    1.000000    2.000000   \n",
       "std                   206.770978    0.497677    0.482817    0.770940   \n",
       "\n",
       "       hours_after_sunset  season  avoidance_behavior  rat_present  \n",
       "count          151.000000   151.0          151.000000   151.000000  \n",
       "mean             5.560723     0.0            0.284768     0.523179  \n",
       "min              0.247778     0.0            0.000000     0.000000  \n",
       "25%              3.027639     0.0            0.000000     0.000000  \n",
       "50%              5.168333     0.0            0.000000     1.000000  \n",
       "75%              7.487222     0.0            1.000000     1.000000  \n",
       "max             12.091944     0.0            1.000000     1.000000  \n",
       "std              2.791883     0.0            0.452806     0.501125  "
      ]
     },
     "execution_count": 479,
     "metadata": {},
     "output_type": "execute_result"
    }
   ],
   "source": [
    "winter_season.describe()"
   ]
  },
  {
   "cell_type": "code",
   "execution_count": 480,
   "id": "f2d4572f",
   "metadata": {},
   "outputs": [
    {
     "data": {
      "text/html": [
       "<div>\n",
       "<style scoped>\n",
       "    .dataframe tbody tr th:only-of-type {\n",
       "        vertical-align: middle;\n",
       "    }\n",
       "\n",
       "    .dataframe tbody tr th {\n",
       "        vertical-align: top;\n",
       "    }\n",
       "\n",
       "    .dataframe thead th {\n",
       "        text-align: right;\n",
       "    }\n",
       "</style>\n",
       "<table border=\"1\" class=\"dataframe\">\n",
       "  <thead>\n",
       "    <tr style=\"text-align: right;\">\n",
       "      <th></th>\n",
       "      <th>start_time</th>\n",
       "      <th>bat_landing_to_food</th>\n",
       "      <th>seconds_after_rat_arrival</th>\n",
       "      <th>risk</th>\n",
       "      <th>reward</th>\n",
       "      <th>month</th>\n",
       "      <th>hours_after_sunset</th>\n",
       "      <th>season</th>\n",
       "      <th>avoidance_behavior</th>\n",
       "      <th>rat_present</th>\n",
       "    </tr>\n",
       "  </thead>\n",
       "  <tbody>\n",
       "    <tr>\n",
       "      <th>count</th>\n",
       "      <td>756</td>\n",
       "      <td>756.000000</td>\n",
       "      <td>756.000000</td>\n",
       "      <td>756.000000</td>\n",
       "      <td>756.000000</td>\n",
       "      <td>756.000000</td>\n",
       "      <td>756.000000</td>\n",
       "      <td>756.0</td>\n",
       "      <td>756.000000</td>\n",
       "      <td>756.000000</td>\n",
       "    </tr>\n",
       "    <tr>\n",
       "      <th>mean</th>\n",
       "      <td>2018-04-25 22:54:42.777777664</td>\n",
       "      <td>12.846335</td>\n",
       "      <td>297.939153</td>\n",
       "      <td>0.481481</td>\n",
       "      <td>0.567460</td>\n",
       "      <td>4.272487</td>\n",
       "      <td>5.526099</td>\n",
       "      <td>1.0</td>\n",
       "      <td>0.429894</td>\n",
       "      <td>0.306878</td>\n",
       "    </tr>\n",
       "    <tr>\n",
       "      <th>min</th>\n",
       "      <td>2018-03-18 21:37:00</td>\n",
       "      <td>0.010238</td>\n",
       "      <td>0.000000</td>\n",
       "      <td>0.000000</td>\n",
       "      <td>0.000000</td>\n",
       "      <td>3.000000</td>\n",
       "      <td>-0.261667</td>\n",
       "      <td>1.0</td>\n",
       "      <td>0.000000</td>\n",
       "      <td>0.000000</td>\n",
       "    </tr>\n",
       "    <tr>\n",
       "      <th>25%</th>\n",
       "      <td>2018-04-21 02:17:00</td>\n",
       "      <td>1.000000</td>\n",
       "      <td>99.000000</td>\n",
       "      <td>0.000000</td>\n",
       "      <td>0.000000</td>\n",
       "      <td>4.000000</td>\n",
       "      <td>3.825208</td>\n",
       "      <td>1.0</td>\n",
       "      <td>0.000000</td>\n",
       "      <td>0.000000</td>\n",
       "    </tr>\n",
       "    <tr>\n",
       "      <th>50%</th>\n",
       "      <td>2018-04-28 01:06:00</td>\n",
       "      <td>4.000000</td>\n",
       "      <td>228.000000</td>\n",
       "      <td>0.000000</td>\n",
       "      <td>1.000000</td>\n",
       "      <td>4.000000</td>\n",
       "      <td>5.703333</td>\n",
       "      <td>1.0</td>\n",
       "      <td>0.000000</td>\n",
       "      <td>0.000000</td>\n",
       "    </tr>\n",
       "    <tr>\n",
       "      <th>75%</th>\n",
       "      <td>2018-05-02 00:47:30</td>\n",
       "      <td>13.250000</td>\n",
       "      <td>457.250000</td>\n",
       "      <td>1.000000</td>\n",
       "      <td>1.000000</td>\n",
       "      <td>5.000000</td>\n",
       "      <td>7.388333</td>\n",
       "      <td>1.0</td>\n",
       "      <td>1.000000</td>\n",
       "      <td>1.000000</td>\n",
       "    </tr>\n",
       "    <tr>\n",
       "      <th>max</th>\n",
       "      <td>2018-05-31 23:34:00</td>\n",
       "      <td>443.000000</td>\n",
       "      <td>949.000000</td>\n",
       "      <td>1.000000</td>\n",
       "      <td>1.000000</td>\n",
       "      <td>5.000000</td>\n",
       "      <td>10.698889</td>\n",
       "      <td>1.0</td>\n",
       "      <td>1.000000</td>\n",
       "      <td>1.000000</td>\n",
       "    </tr>\n",
       "    <tr>\n",
       "      <th>std</th>\n",
       "      <td>NaN</td>\n",
       "      <td>29.506111</td>\n",
       "      <td>244.589591</td>\n",
       "      <td>0.499988</td>\n",
       "      <td>0.495756</td>\n",
       "      <td>0.517083</td>\n",
       "      <td>2.333436</td>\n",
       "      <td>0.0</td>\n",
       "      <td>0.495389</td>\n",
       "      <td>0.461504</td>\n",
       "    </tr>\n",
       "  </tbody>\n",
       "</table>\n",
       "</div>"
      ],
      "text/plain": [
       "                          start_time  bat_landing_to_food  \\\n",
       "count                            756           756.000000   \n",
       "mean   2018-04-25 22:54:42.777777664            12.846335   \n",
       "min              2018-03-18 21:37:00             0.010238   \n",
       "25%              2018-04-21 02:17:00             1.000000   \n",
       "50%              2018-04-28 01:06:00             4.000000   \n",
       "75%              2018-05-02 00:47:30            13.250000   \n",
       "max              2018-05-31 23:34:00           443.000000   \n",
       "std                              NaN            29.506111   \n",
       "\n",
       "       seconds_after_rat_arrival        risk      reward       month  \\\n",
       "count                 756.000000  756.000000  756.000000  756.000000   \n",
       "mean                  297.939153    0.481481    0.567460    4.272487   \n",
       "min                     0.000000    0.000000    0.000000    3.000000   \n",
       "25%                    99.000000    0.000000    0.000000    4.000000   \n",
       "50%                   228.000000    0.000000    1.000000    4.000000   \n",
       "75%                   457.250000    1.000000    1.000000    5.000000   \n",
       "max                   949.000000    1.000000    1.000000    5.000000   \n",
       "std                   244.589591    0.499988    0.495756    0.517083   \n",
       "\n",
       "       hours_after_sunset  season  avoidance_behavior  rat_present  \n",
       "count          756.000000   756.0          756.000000   756.000000  \n",
       "mean             5.526099     1.0            0.429894     0.306878  \n",
       "min             -0.261667     1.0            0.000000     0.000000  \n",
       "25%              3.825208     1.0            0.000000     0.000000  \n",
       "50%              5.703333     1.0            0.000000     0.000000  \n",
       "75%              7.388333     1.0            1.000000     1.000000  \n",
       "max             10.698889     1.0            1.000000     1.000000  \n",
       "std              2.333436     0.0            0.495389     0.461504  "
      ]
     },
     "execution_count": 480,
     "metadata": {},
     "output_type": "execute_result"
    }
   ],
   "source": [
    "spring_season.describe()"
   ]
  },
  {
   "cell_type": "code",
   "execution_count": 481,
   "id": "1f5b6d6b",
   "metadata": {},
   "outputs": [],
   "source": [
    "with_rats = winter_season[winter_season['rat_present'] == 1]['bat_landing_to_food']\n",
    "without_rats = winter_season[winter_season['rat_present'] == 0]['bat_landing_to_food']"
   ]
  },
  {
   "cell_type": "markdown",
   "id": "6a200803",
   "metadata": {},
   "source": [
    "# H1: Bat Avoidance Behaviour (Winter)\n",
    "**Hypothesis:** Bats will delay their approach to a food source when rats are present.\n",
    "- **Null Hypothesis (H₀):** There is no difference in the time it takes for bats to land and feed, regardless of whether rats are present.\n",
    "- **Alternative Hypothesis (H₁):** Bats take significantly longer to land and feed when rats are present.\n",
    "\n",
    "**Test:** Mann-Whitney U test and T-test on `bat_landing_to_food` time.\n"
   ]
  },
  {
   "cell_type": "code",
   "execution_count": 482,
   "id": "694086d0",
   "metadata": {},
   "outputs": [
    {
     "data": {
      "image/png": "[encoded data removed]",
      "text/plain": [
       "<Figure size 600x400 with 1 Axes>"
      ]
     },
     "metadata": {},
     "output_type": "display_data"
    }
   ],
   "source": [
    "med_no = without_rats.median()\n",
    "med_yes = with_rats.median()\n",
    "\n",
    "# Run stats\n",
    "t_stat, pval_t = ttest_ind(with_rats, without_rats, equal_var=False, nan_policy='omit')\n",
    "u_stat, pval_u = mannwhitneyu(with_rats, without_rats, alternative='two-sided')\n",
    "\n",
    "# Boxplot with annotations\n",
    "plt.figure(figsize=(6,4))\n",
    "ax = sns.boxplot(x='rat_present', y='bat_landing_to_food', hue='rat_present',data=dataset1, palette=\"Set2\")\n",
    "plt.xticks([0,1], ['No Rats','Rats Present'])\n",
    "plt.ylabel(\"Delay before feeding (sec)\")\n",
    "plt.title(\"H1: Avoidance Behaviour\")\n",
    "\n",
    "# Annotate medians & p-value\n",
    "plt.text(0, med_no+10, f\"Median={med_no:.0f}s\", ha='center', color=\"black\")\n",
    "plt.text(1, med_yes+10, f\"Median={med_yes:.0f}s\", ha='center', color=\"black\")\n",
    "\n",
    "plt.figtext(0.5, -0.05, f\"Mann-Whitney p = {pval_u:.4f}, T-test p = {pval_t:.3f}\",\n",
    "            ha=\"center\", fontsize=10, style=\"italic\")\n",
    "\n",
    "plt.tight_layout()\n",
    "plt.show()"
   ]
  },
  {
   "cell_type": "code",
   "execution_count": 483,
   "id": "af101764",
   "metadata": {},
   "outputs": [
    {
     "name": "stdout",
     "output_type": "stream",
     "text": [
      "T-test result:\n",
      "  t-statistic = -0.4468\n",
      "  p-value     = 0.6561\n",
      "==================================================\n",
      "Mann–Whitney U test result:\n",
      "  U-statistic = 2928.0000\n",
      "  p-value     = 0.7525\n"
     ]
    }
   ],
   "source": [
    "print(f\"T-test result:\")\n",
    "print(f\"  t-statistic = {t_stat:.4f}\")\n",
    "print(f\"  p-value     = {pval_t:.4f}\")\n",
    "print(\"=\"*50)\n",
    "\n",
    "print(\"Mann–Whitney U test result:\")\n",
    "print(f\"  U-statistic = {u_stat:.4f}\")\n",
    "print(f\"  p-value     = {pval_u:.4f}\")"
   ]
  },
  {
   "cell_type": "markdown",
   "id": "eedae842",
   "metadata": {},
   "source": [
    "**Conclusion (Winter):**\n",
    "The p-value from the Mann-Whitney U test is greater than 0.05. Therefore, we **fail to reject the null hypothesis**. There is not enough statistical evidence to suggest that bats delay their feeding in the presence of rats during the winter."
   ]
  },
  {
   "cell_type": "markdown",
   "id": "b126a8f9",
   "metadata": {},
   "source": [
    "### H1: Bat Avoidance Behaviour (Spring)\n",
    "**Hypothesis:** Bats will delay their approach to a food source when rats are present.\n",
    "- **Null Hypothesis (H₀):** There is no difference in the time it takes for bats to land and feed, regardless of whether rats are present.\n",
    "- **Alternative Hypothesis (H₁):** Bats take significantly longer to land and feed when rats are present.\n",
    "\n",
    "**Test:** Mann-Whitney U test and T-test on `bat_landing_to_food` time."
   ]
  },
  {
   "cell_type": "code",
   "execution_count": 484,
   "id": "965c191c",
   "metadata": {},
   "outputs": [],
   "source": [
    "with_rats = spring_season[spring_season['rat_present'] == 1]['bat_landing_to_food']\n",
    "without_rats = spring_season[spring_season['rat_present'] == 0]['bat_landing_to_food']"
   ]
  },
  {
   "cell_type": "code",
   "execution_count": 485,
   "id": "fd60963c",
   "metadata": {},
   "outputs": [
    {
     "data": {
      "image/png": "[encoded data removed]",
      "text/plain": [
       "<Figure size 600x400 with 1 Axes>"
      ]
     },
     "metadata": {},
     "output_type": "display_data"
    }
   ],
   "source": [
    "med_no = without_rats.median()\n",
    "med_yes = with_rats.median()\n",
    "\n",
    "# Run stats\n",
    "t_stat, pval_t = ttest_ind(with_rats, without_rats, equal_var=False, nan_policy='omit')\n",
    "u_stat, pval_u = mannwhitneyu(with_rats, without_rats, alternative='two-sided')\n",
    "\n",
    "# Boxplot with annotations\n",
    "plt.figure(figsize=(6,4))\n",
    "ax = sns.boxplot(x='rat_present', y='bat_landing_to_food', hue='rat_present',data=dataset1, palette=\"Set2\")\n",
    "plt.xticks([0,1], ['No Rats','Rats Present'])\n",
    "plt.ylabel(\"Delay before feeding (sec)\")\n",
    "plt.title(\"H1: Avoidance Behaviour\")\n",
    "\n",
    "# Annotate medians & p-value\n",
    "plt.text(0, med_no+10, f\"Median={med_no:.0f}s\", ha='center', color=\"black\")\n",
    "plt.text(1, med_yes+10, f\"Median={med_yes:.0f}s\", ha='center', color=\"black\")\n",
    "\n",
    "plt.figtext(0.5, -0.05, f\"Mann-Whitney p = {pval_u:.4f}, T-test p = {pval_t:.3f}\",\n",
    "            ha=\"center\", fontsize=10, style=\"italic\")\n",
    "\n",
    "plt.tight_layout()\n",
    "plt.show()"
   ]
  },
  {
   "cell_type": "code",
   "execution_count": 486,
   "id": "e92937c6",
   "metadata": {},
   "outputs": [
    {
     "name": "stdout",
     "output_type": "stream",
     "text": [
      "T-test result:\n",
      "  t-statistic = 2.0977\n",
      "  p-value     = 0.0364\n",
      "==================================================\n",
      "Mann–Whitney U test result:\n",
      "  U-statistic = 74819.0000\n",
      "  p-value     = 0.0000\n"
     ]
    }
   ],
   "source": [
    "print(f\"T-test result:\")\n",
    "print(f\"  t-statistic = {t_stat:.4f}\")\n",
    "print(f\"  p-value     = {pval_t:.4f}\")\n",
    "print(\"=\"*50)\n",
    "\n",
    "print(\"Mann–Whitney U test result:\")\n",
    "print(f\"  U-statistic = {u_stat:.4f}\")\n",
    "print(f\"  p-value     = {pval_u:.4f}\")"
   ]
  },
  {
   "cell_type": "markdown",
   "id": "2048fe7d",
   "metadata": {},
   "source": [
    "**Conclusion (Spring):**\n",
    "The p-value from the Mann-Whitney U test is less than 0.05. Therefore, we **reject the null hypothesis**. There is a statistically significant delay in bat feeding times when rats are present during the spring."
   ]
  },
  {
   "cell_type": "markdown",
   "id": "a7934927",
   "metadata": {},
   "source": [
    "### H2: Bat Interaction Types (Winter)\n",
    "**Hypothesis:** The presence of rats alters the types of interactions bats have with the food source (e.g., more 'pick' and 'gaze' behaviours, fewer 'eating' events).\n",
    "- **Null Hypothesis (H₀):** The distribution of bat interaction types is independent of rat presence.\n",
    "- **Alternative Hypothesis (H₁):** The distribution of bat interaction types is dependent on rat presence.\n",
    "\n",
    "**Test:** Chi-square test of independence on `interaction_type` vs. `rat_present`."
   ]
  },
  {
   "cell_type": "code",
   "execution_count": 487,
   "id": "425af470",
   "metadata": {},
   "outputs": [
    {
     "data": {
      "image/png": "[encoded data removed]",
      "text/plain": [
       "<Figure size 600x400 with 1 Axes>"
      ]
     },
     "metadata": {},
     "output_type": "display_data"
    }
   ],
   "source": [
    "contingency = pd.crosstab(winter_season['rat_present'], winter_season['interaction_type'])\n",
    "chi2, pval_chi, dof, expected = chi2_contingency(contingency)\n",
    "\n",
    "plt.figure(figsize=(6,4))\n",
    "ax = sns.countplot(x='interaction_type',\n",
    "                       hue='interaction_type',\n",
    "                   data=winter_season[winter_season['rat_present']==1],\n",
    "                   palette=\"Set2\")\n",
    "\n",
    "plt.title(\"H24\")\n",
    "plt.ylabel(\"Count\")\n",
    "\n",
    "# Annotate bar values\n",
    "for p in ax.patches:\n",
    "    ax.annotate(f'{p.get_height()}',\n",
    "                (p.get_x() + p.get_width() / 2., p.get_height()),\n",
    "                ha='center', va='center', fontsize=10, color='black',\n",
    "                xytext=(0, 5), textcoords='offset points')\n",
    "\n",
    "plt.figtext(0.5, -0.05, f\"Chi-square χ²={chi2:.1f}, p < 0.001\",\n",
    "            ha=\"center\", fontsize=10, style=\"italic\")\n",
    "\n",
    "plt.tight_layout()\n",
    "plt.show()"
   ]
  },
  {
   "cell_type": "code",
   "execution_count": 488,
   "id": "d111bfca",
   "metadata": {},
   "outputs": [
    {
     "name": "stdout",
     "output_type": "stream",
     "text": [
      "Chi-square Test Results:\n",
      "  Chi-square statistic = 147.0180\n",
      "  Degrees of freedom   = 1\n",
      "  p-value              = 0.0000\n",
      "  Expected frequencies:\n",
      "[[34.33112583 37.66887417]\n",
      " [37.66887417 41.33112583]]\n"
     ]
    }
   ],
   "source": [
    "print(\"Chi-square Test Results:\")\n",
    "print(f\"  Chi-square statistic = {chi2:.4f}\")\n",
    "print(f\"  Degrees of freedom   = {dof}\")\n",
    "print(f\"  p-value              = {pval_chi:.4f}\")\n",
    "print(\"  Expected frequencies:\")\n",
    "print(expected)"
   ]
  },
  {
   "cell_type": "markdown",
   "id": "fd914f78",
   "metadata": {},
   "source": [
    "**Conclusion (Winter):**\n",
    "The p-value from the Chi-square test is greater than 0.05. Therefore, we **fail to reject the null hypothesis**. There is no statistically significant association between rat presence and the type of bat interactions during the winter."
   ]
  },
  {
   "cell_type": "markdown",
   "id": "b82d8d2a",
   "metadata": {},
   "source": [
    "### H2: Bat Interaction Types (Spring)\n",
    "**Hypothesis:** The presence of rats alters the types of interactions bats have with the food source.\n",
    "- **Null Hypothesis (H₀):** The distribution of bat interaction types is independent of rat presence.\n",
    "- **Alternative Hypothesis (H₁):** The distribution of bat interaction types is dependent on rat presence.\n",
    "\n",
    "**Test:** Chi-square test of independence on `interaction_type` vs. `rat_present`."
   ]
  },
  {
   "cell_type": "code",
   "execution_count": 489,
   "id": "30ec8c53",
   "metadata": {},
   "outputs": [
    {
     "data": {
      "image/png": "[encoded data removed]",
      "text/plain": [
       "<Figure size 600x400 with 1 Axes>"
      ]
     },
     "metadata": {},
     "output_type": "display_data"
    }
   ],
   "source": [
    "contingency = pd.crosstab(spring_season['rat_present'], spring_season['interaction_type'])\n",
    "chi2, pval_chi, dof, expected = chi2_contingency(contingency)\n",
    "\n",
    "plt.figure(figsize=(6,4))\n",
    "ax = sns.countplot(x='interaction_type',\n",
    "                       hue='interaction_type',\n",
    "                   data=spring_season[spring_season['rat_present']==1],\n",
    "                   palette=\"Set2\")\n",
    "\n",
    "plt.title(\"H2: Bat Interaction Types\\n(When Rats are Present)\")\n",
    "plt.ylabel(\"Count\")\n",
    "\n",
    "# Annotate bar values\n",
    "for p in ax.patches:\n",
    "    ax.annotate(f'{p.get_height()}',\n",
    "                (p.get_x() + p.get_width() / 2., p.get_height()),\n",
    "                ha='center', va='center', fontsize=10, color='black',\n",
    "                xytext=(0, 5), textcoords='offset points')\n",
    "\n",
    "plt.figtext(0.5, -0.05, f\"Chi-square χ²={chi2:.1f}, p < 0.001\",\n",
    "            ha=\"center\", fontsize=10, style=\"italic\")\n",
    "\n",
    "plt.tight_layout()\n",
    "plt.show()"
   ]
  },
  {
   "cell_type": "code",
   "execution_count": 490,
   "id": "855f2f3f",
   "metadata": {},
   "outputs": [
    {
     "name": "stdout",
     "output_type": "stream",
     "text": [
      "Chi-square Test Results:\n",
      "  Chi-square statistic = 751.3059\n",
      "  Degrees of freedom   = 1\n",
      "  p-value              = 0.0000\n",
      "  Expected frequencies:\n",
      "[[363.1957672 160.8042328]\n",
      " [160.8042328  71.1957672]]\n"
     ]
    }
   ],
   "source": [
    "print(\"Chi-square Test Results:\")\n",
    "print(f\"  Chi-square statistic = {chi2:.4f}\")\n",
    "print(f\"  Degrees of freedom   = {dof}\")\n",
    "print(f\"  p-value              = {pval_chi:.4f}\")\n",
    "print(\"  Expected frequencies:\")\n",
    "print(expected)\n"
   ]
  },
  {
   "cell_type": "markdown",
   "id": "c161297d",
   "metadata": {},
   "source": [
    "**Conclusion (Spring):**\n",
    "The p-value from the Chi-square test is less than 0.05. Therefore, we **reject the null hypothesis**. There is a statistically significant association between rat presence and the type of bat interactions during the spring."
   ]
  },
  {
   "cell_type": "markdown",
   "id": "a8349d85",
   "metadata": {},
   "source": [
    "### H3: Colony Activity Reduction (Winter)\n",
    "**Hypothesis:** The presence of rats reduces overall bat colony activity, measured by the number of bat landings.\n",
    "- **Null Hypothesis (H₀):** The mean number of bat landings is the same whether rats are present or not.\n",
    "- **Alternative Hypothesis (H₁):** The mean number of bat landings is lower when rats are present.\n",
    "\n",
    "**Test:** Mann-Whitney U test and T-test on `bat_landing_number`."
   ]
  },
  {
   "cell_type": "code",
   "execution_count": 491,
   "id": "20ce5c9f",
   "metadata": {},
   "outputs": [],
   "source": [
    "df2['rat_present'] = np.where(df2['rat_minutes']>1,1,0)"
   ]
  },
  {
   "cell_type": "code",
   "execution_count": 492,
   "id": "d2dfed83",
   "metadata": {},
   "outputs": [],
   "source": [
    "winter_season = df2[df2['season'] == 0]\n",
    "spring_season = df2[df2['season'] == 1]"
   ]
  },
  {
   "cell_type": "code",
   "execution_count": 493,
   "id": "6f4dc6b3",
   "metadata": {},
   "outputs": [
    {
     "data": {
      "image/png": "[encoded data removed]",
      "text/plain": [
       "<Figure size 600x400 with 1 Axes>"
      ]
     },
     "metadata": {},
     "output_type": "display_data"
    }
   ],
   "source": [
    "with_rats = winter_season[winter_season['rat_present'] == 1]['bat_landing_number']\n",
    "without_rats = winter_season[winter_season['rat_present'] == 0]['bat_landing_number']\n",
    "\n",
    "# Means/medians\n",
    "mean_no, mean_yes = without_rats.mean(), with_rats.mean()\n",
    "med_no, med_yes = without_rats.median(), with_rats.median()\n",
    "\n",
    "# Stats\n",
    "t_stat, pval_t = ttest_ind(with_rats, without_rats, equal_var=False, nan_policy='omit')\n",
    "u_stat, pval_u = mannwhitneyu(with_rats, without_rats, alternative='two-sided')\n",
    "\n",
    "# Boxplot\n",
    "plt.figure(figsize=(6,4))\n",
    "ax = sns.boxplot(x='rat_present', y='bat_landing_number',\n",
    "                 data=winter_season, palette=\"Set2\", hue='rat_present')\n",
    "plt.xticks([0,1], ['No Rats','Rats Present'])\n",
    "plt.ylabel(\"Number of Bat Landings\")\n",
    "plt.title(\"H3: Colony Activity Reduction\")\n",
    "\n",
    "# Annotate medians\n",
    "plt.text(0, med_no+5, f\"Median={med_no}\", ha='center', color=\"black\")\n",
    "plt.text(1, med_yes+5, f\"Median={med_yes}\", ha='center', color=\"black\")\n",
    "\n",
    "# Annotate p-values\n",
    "plt.figtext(0.5, -0.05, f\"T-test p < 0.001, Mann-Whitney p < 0.001\",\n",
    "            ha=\"center\", fontsize=10, style=\"italic\")\n",
    "\n",
    "plt.tight_layout()\n",
    "plt.show()"
   ]
  },
  {
   "cell_type": "code",
   "execution_count": 494,
   "id": "c002fe28",
   "metadata": {},
   "outputs": [
    {
     "name": "stdout",
     "output_type": "stream",
     "text": [
      "T-test result:\n",
      "  t-statistic = -1.2157\n",
      "  p-value     = 0.2268\n",
      "==================================================\n",
      "Mann–Whitney U test result:\n",
      "  U-statistic = 31346.5000\n",
      "  p-value     = 0.1217\n"
     ]
    }
   ],
   "source": [
    "print(f\"T-test result:\")\n",
    "print(f\"  t-statistic = {t_stat:.4f}\")\n",
    "print(f\"  p-value     = {pval_t:.4f}\")\n",
    "print(\"=\"*50)\n",
    "print(\"Mann–Whitney U test result:\")\n",
    "print(f\"  U-statistic = {u_stat:.4f}\")\n",
    "print(f\"  p-value     = {pval_u:.4f}\")"
   ]
  },
  {
   "cell_type": "markdown",
   "id": "c21aae66",
   "metadata": {},
   "source": [
    "**Conclusion (Winter):**\n",
    "The p-value from the Mann-Whitney U test is greater than 0.05. Therefore, we **fail to reject the null hypothesis**. There is no statistically significant evidence that rat presence reduces the number of bat landings during the winter."
   ]
  },
  {
   "cell_type": "markdown",
   "id": "beccdc6d",
   "metadata": {},
   "source": [
    "### H3: Colony Activity Reduction (Spring)\n",
    "**Hypothesis:** The presence of rats reduces overall bat colony activity, measured by the number of bat landings.\n",
    "- **Null Hypothesis (H₀):** The mean number of bat landings is the same whether rats are present or not.\n",
    "- **Alternative Hypothesis (H₁):** The mean number of bat landings is lower when rats are present.\n",
    "\n",
    "**Test:** Mann-Whitney U test and T-test on `bat_landing_number`."
   ]
  },
  {
   "cell_type": "code",
   "execution_count": 495,
   "id": "f9441723",
   "metadata": {},
   "outputs": [
    {
     "data": {
      "image/png": "[encoded data removed]",
      "text/plain": [
       "<Figure size 600x400 with 1 Axes>"
      ]
     },
     "metadata": {},
     "output_type": "display_data"
    }
   ],
   "source": [
    "with_rats = spring_season[spring_season['rat_present'] == 1]['bat_landing_number']\n",
    "without_rats = spring_season[spring_season['rat_present'] == 0]['bat_landing_number']\n",
    "\n",
    "# Means/medians\n",
    "mean_no, mean_yes = without_rats.mean(), with_rats.mean()\n",
    "med_no, med_yes = without_rats.median(), with_rats.median()\n",
    "\n",
    "# Stats\n",
    "t_stat, pval_t = ttest_ind(with_rats, without_rats, equal_var=False, nan_policy='omit')\n",
    "u_stat, pval_u = mannwhitneyu(with_rats, without_rats, alternative='two-sided')\n",
    "\n",
    "# Boxplot\n",
    "plt.figure(figsize=(6,4))\n",
    "ax = sns.boxplot(x='rat_present', y='bat_landing_number',\n",
    "                 data=spring_season, palette=\"Set2\", hue='rat_present')\n",
    "plt.xticks([0,1], ['No Rats','Rats Present'])\n",
    "plt.ylabel(\"Number of Bat Landings\")\n",
    "plt.title(\"H3: Colony Activity Reduction\")\n",
    "\n",
    "# Annotate medians\n",
    "plt.text(0, med_no+5, f\"Median={med_no}\", ha='center', color=\"black\")\n",
    "plt.text(1, med_yes+5, f\"Median={med_yes}\", ha='center', color=\"black\")\n",
    "\n",
    "# Annotate p-values\n",
    "plt.figtext(0.5, -0.05, f\"T-test p < 0.001, Mann-Whitney p < 0.001\",\n",
    "            ha=\"center\", fontsize=10, style=\"italic\")\n",
    "\n",
    "plt.tight_layout()\n",
    "plt.show()"
   ]
  },
  {
   "cell_type": "code",
   "execution_count": 496,
   "id": "f04e8901",
   "metadata": {},
   "outputs": [
    {
     "name": "stdout",
     "output_type": "stream",
     "text": [
      "T-test result:\n",
      "  t-statistic = -4.2561\n",
      "  p-value     = 0.0000\n",
      "==================================================\n",
      "Mann–Whitney U test result:\n",
      "  U-statistic = 146678.0000\n",
      "  p-value     = 0.0050\n"
     ]
    }
   ],
   "source": [
    "print(f\"T-test result:\")\n",
    "print(f\"  t-statistic = {t_stat:.4f}\")\n",
    "print(f\"  p-value     = {pval_t:.4f}\")\n",
    "print(\"=\"*50)\n",
    "print(\"Mann–Whitney U test result:\")\n",
    "print(f\"  U-statistic = {u_stat:.4f}\")\n",
    "print(f\"  p-value     = {pval_u:.4f}\")"
   ]
  },
  {
   "cell_type": "markdown",
   "id": "23fc68b2",
   "metadata": {},
   "source": [
    "**Conclusion (Spring):**\n",
    "The p-value from the Mann-Whitney U test is less than 0.05. Therefore, we **reject the null hypothesis**. There is statistically significant evidence that rat presence reduces the number of bat landings during the spring."
   ]
  },
  {
   "cell_type": "code",
   "execution_count": 497,
   "id": "20ff65ed",
   "metadata": {},
   "outputs": [
    {
     "data": {
      "text/plain": [
       "<Axes: xlabel='time'>"
      ]
     },
     "execution_count": 497,
     "metadata": {},
     "output_type": "execute_result"
    },
    {
     "data": {
      "image/png": "[encoded data removed]",
      "text/plain": [
       "<Figure size 640x480 with 1 Axes>"
      ]
     },
     "metadata": {},
     "output_type": "display_data"
    }
   ],
   "source": [
    "df2.groupby(df2['time'].dt.time)['bat_landing_number'].mean().plot()"
   ]
  },
  {
   "cell_type": "code",
   "execution_count": 498,
   "id": "49e37397",
   "metadata": {},
   "outputs": [
    {
     "data": {
      "text/plain": [
       "<Axes: xlabel='time'>"
      ]
     },
     "execution_count": 498,
     "metadata": {},
     "output_type": "execute_result"
    },
    {
     "data": {
      "image/png": "[encoded data removed]",
      "text/plain": [
       "<Figure size 640x480 with 1 Axes>"
      ]
     },
     "metadata": {},
     "output_type": "display_data"
    }
   ],
   "source": [
    "df2.groupby(df2['time'].dt.time)['rat_present'].mean().plot()"
   ]
  },
  {
   "cell_type": "code",
   "execution_count": 499,
   "id": "a6aeb63c",
   "metadata": {},
   "outputs": [
    {
     "data": {
      "text/plain": [
       "<Axes: xlabel='time'>"
      ]
     },
     "execution_count": 499,
     "metadata": {},
     "output_type": "execute_result"
    },
    {
     "data": {
      "image/png": "[encoded data removed]",
      "text/plain": [
       "<Figure size 640x480 with 1 Axes>"
      ]
     },
     "metadata": {},
     "output_type": "display_data"
    }
   ],
   "source": [
    "df2.groupby(df2['time'].dt.time)['food_availability'].mean().plot()"
   ]
  },
  {
   "cell_type": "code",
   "execution_count": 500,
   "id": "82ddb7d2",
   "metadata": {},
   "outputs": [
    {
     "data": {
      "text/html": [
       "<div>\n",
       "<style scoped>\n",
       "    .dataframe tbody tr th:only-of-type {\n",
       "        vertical-align: middle;\n",
       "    }\n",
       "\n",
       "    .dataframe tbody tr th {\n",
       "        vertical-align: top;\n",
       "    }\n",
       "\n",
       "    .dataframe thead th {\n",
       "        text-align: right;\n",
       "    }\n",
       "</style>\n",
       "<table border=\"1\" class=\"dataframe\">\n",
       "  <thead>\n",
       "    <tr style=\"text-align: right;\">\n",
       "      <th></th>\n",
       "      <th>month</th>\n",
       "      <th>hours_after_sunset</th>\n",
       "      <th>bat_landing_number</th>\n",
       "      <th>food_availability</th>\n",
       "      <th>rat_minutes</th>\n",
       "      <th>rat_arrival_number</th>\n",
       "      <th>rat_present</th>\n",
       "      <th>season</th>\n",
       "    </tr>\n",
       "  </thead>\n",
       "  <tbody>\n",
       "    <tr>\n",
       "      <th>month</th>\n",
       "      <td>1.000000</td>\n",
       "      <td>-0.060454</td>\n",
       "      <td>-0.158037</td>\n",
       "      <td>0.063228</td>\n",
       "      <td>0.200732</td>\n",
       "      <td>0.207742</td>\n",
       "      <td>0.265942</td>\n",
       "      <td>0.901932</td>\n",
       "    </tr>\n",
       "    <tr>\n",
       "      <th>hours_after_sunset</th>\n",
       "      <td>-0.060454</td>\n",
       "      <td>1.000000</td>\n",
       "      <td>-0.142074</td>\n",
       "      <td>-0.841611</td>\n",
       "      <td>0.123417</td>\n",
       "      <td>0.085692</td>\n",
       "      <td>0.110990</td>\n",
       "      <td>-0.062040</td>\n",
       "    </tr>\n",
       "    <tr>\n",
       "      <th>bat_landing_number</th>\n",
       "      <td>-0.158037</td>\n",
       "      <td>-0.142074</td>\n",
       "      <td>1.000000</td>\n",
       "      <td>0.104762</td>\n",
       "      <td>-0.146228</td>\n",
       "      <td>-0.073536</td>\n",
       "      <td>-0.119756</td>\n",
       "      <td>-0.153591</td>\n",
       "    </tr>\n",
       "    <tr>\n",
       "      <th>food_availability</th>\n",
       "      <td>0.063228</td>\n",
       "      <td>-0.841611</td>\n",
       "      <td>0.104762</td>\n",
       "      <td>1.000000</td>\n",
       "      <td>-0.055910</td>\n",
       "      <td>-0.033639</td>\n",
       "      <td>-0.067623</td>\n",
       "      <td>0.071094</td>\n",
       "    </tr>\n",
       "    <tr>\n",
       "      <th>rat_minutes</th>\n",
       "      <td>0.200732</td>\n",
       "      <td>0.123417</td>\n",
       "      <td>-0.146228</td>\n",
       "      <td>-0.055910</td>\n",
       "      <td>1.000000</td>\n",
       "      <td>0.585241</td>\n",
       "      <td>0.548827</td>\n",
       "      <td>0.189011</td>\n",
       "    </tr>\n",
       "    <tr>\n",
       "      <th>rat_arrival_number</th>\n",
       "      <td>0.207742</td>\n",
       "      <td>0.085692</td>\n",
       "      <td>-0.073536</td>\n",
       "      <td>-0.033639</td>\n",
       "      <td>0.585241</td>\n",
       "      <td>1.000000</td>\n",
       "      <td>0.704341</td>\n",
       "      <td>0.170120</td>\n",
       "    </tr>\n",
       "    <tr>\n",
       "      <th>rat_present</th>\n",
       "      <td>0.265942</td>\n",
       "      <td>0.110990</td>\n",
       "      <td>-0.119756</td>\n",
       "      <td>-0.067623</td>\n",
       "      <td>0.548827</td>\n",
       "      <td>0.704341</td>\n",
       "      <td>1.000000</td>\n",
       "      <td>0.241383</td>\n",
       "    </tr>\n",
       "    <tr>\n",
       "      <th>season</th>\n",
       "      <td>0.901932</td>\n",
       "      <td>-0.062040</td>\n",
       "      <td>-0.153591</td>\n",
       "      <td>0.071094</td>\n",
       "      <td>0.189011</td>\n",
       "      <td>0.170120</td>\n",
       "      <td>0.241383</td>\n",
       "      <td>1.000000</td>\n",
       "    </tr>\n",
       "  </tbody>\n",
       "</table>\n",
       "</div>"
      ],
      "text/plain": [
       "                       month  hours_after_sunset  bat_landing_number  \\\n",
       "month               1.000000           -0.060454           -0.158037   \n",
       "hours_after_sunset -0.060454            1.000000           -0.142074   \n",
       "bat_landing_number -0.158037           -0.142074            1.000000   \n",
       "food_availability   0.063228           -0.841611            0.104762   \n",
       "rat_minutes         0.200732            0.123417           -0.146228   \n",
       "rat_arrival_number  0.207742            0.085692           -0.073536   \n",
       "rat_present         0.265942            0.110990           -0.119756   \n",
       "season              0.901932           -0.062040           -0.153591   \n",
       "\n",
       "                    food_availability  rat_minutes  rat_arrival_number  \\\n",
       "month                        0.063228     0.200732            0.207742   \n",
       "hours_after_sunset          -0.841611     0.123417            0.085692   \n",
       "bat_landing_number           0.104762    -0.146228           -0.073536   \n",
       "food_availability            1.000000    -0.055910           -0.033639   \n",
       "rat_minutes                 -0.055910     1.000000            0.585241   \n",
       "rat_arrival_number          -0.033639     0.585241            1.000000   \n",
       "rat_present                 -0.067623     0.548827            0.704341   \n",
       "season                       0.071094     0.189011            0.170120   \n",
       "\n",
       "                    rat_present    season  \n",
       "month                  0.265942  0.901932  \n",
       "hours_after_sunset     0.110990 -0.062040  \n",
       "bat_landing_number    -0.119756 -0.153591  \n",
       "food_availability     -0.067623  0.071094  \n",
       "rat_minutes            0.548827  0.189011  \n",
       "rat_arrival_number     0.704341  0.170120  \n",
       "rat_present            1.000000  0.241383  \n",
       "season                 0.241383  1.000000  "
      ]
     },
     "execution_count": 500,
     "metadata": {},
     "output_type": "execute_result"
    }
   ],
   "source": [
    "df2.corr(numeric_only=True)"
   ]
  },
  {
   "cell_type": "code",
   "execution_count": 501,
   "id": "a9b0d03b",
   "metadata": {},
   "outputs": [
    {
     "data": {
      "text/html": [
       "<div>\n",
       "<style scoped>\n",
       "    .dataframe tbody tr th:only-of-type {\n",
       "        vertical-align: middle;\n",
       "    }\n",
       "\n",
       "    .dataframe tbody tr th {\n",
       "        vertical-align: top;\n",
       "    }\n",
       "\n",
       "    .dataframe thead th {\n",
       "        text-align: right;\n",
       "    }\n",
       "</style>\n",
       "<table border=\"1\" class=\"dataframe\">\n",
       "  <thead>\n",
       "    <tr style=\"text-align: right;\">\n",
       "      <th></th>\n",
       "      <th>time</th>\n",
       "      <th>month</th>\n",
       "      <th>hours_after_sunset</th>\n",
       "      <th>bat_landing_number</th>\n",
       "      <th>food_availability</th>\n",
       "      <th>rat_minutes</th>\n",
       "      <th>rat_arrival_number</th>\n",
       "      <th>rat_present</th>\n",
       "      <th>season</th>\n",
       "    </tr>\n",
       "  </thead>\n",
       "  <tbody>\n",
       "    <tr>\n",
       "      <th>0</th>\n",
       "      <td>2017-12-26 16:13:00</td>\n",
       "      <td>0</td>\n",
       "      <td>-0.5</td>\n",
       "      <td>20</td>\n",
       "      <td>4.000000</td>\n",
       "      <td>0.0</td>\n",
       "      <td>0</td>\n",
       "      <td>0</td>\n",
       "      <td>0</td>\n",
       "    </tr>\n",
       "    <tr>\n",
       "      <th>1</th>\n",
       "      <td>2017-12-26 16:43:00</td>\n",
       "      <td>0</td>\n",
       "      <td>0.0</td>\n",
       "      <td>28</td>\n",
       "      <td>4.000000</td>\n",
       "      <td>0.0</td>\n",
       "      <td>0</td>\n",
       "      <td>0</td>\n",
       "      <td>0</td>\n",
       "    </tr>\n",
       "    <tr>\n",
       "      <th>2</th>\n",
       "      <td>2017-12-26 17:13:00</td>\n",
       "      <td>0</td>\n",
       "      <td>0.5</td>\n",
       "      <td>25</td>\n",
       "      <td>4.000000</td>\n",
       "      <td>0.0</td>\n",
       "      <td>0</td>\n",
       "      <td>0</td>\n",
       "      <td>0</td>\n",
       "    </tr>\n",
       "    <tr>\n",
       "      <th>3</th>\n",
       "      <td>2017-12-26 17:43:00</td>\n",
       "      <td>0</td>\n",
       "      <td>1.0</td>\n",
       "      <td>71</td>\n",
       "      <td>4.000000</td>\n",
       "      <td>0.0</td>\n",
       "      <td>0</td>\n",
       "      <td>0</td>\n",
       "      <td>0</td>\n",
       "    </tr>\n",
       "    <tr>\n",
       "      <th>4</th>\n",
       "      <td>2017-12-26 18:13:00</td>\n",
       "      <td>0</td>\n",
       "      <td>1.5</td>\n",
       "      <td>44</td>\n",
       "      <td>3.753857</td>\n",
       "      <td>0.0</td>\n",
       "      <td>0</td>\n",
       "      <td>0</td>\n",
       "      <td>0</td>\n",
       "    </tr>\n",
       "    <tr>\n",
       "      <th>...</th>\n",
       "      <td>...</td>\n",
       "      <td>...</td>\n",
       "      <td>...</td>\n",
       "      <td>...</td>\n",
       "      <td>...</td>\n",
       "      <td>...</td>\n",
       "      <td>...</td>\n",
       "      <td>...</td>\n",
       "      <td>...</td>\n",
       "    </tr>\n",
       "    <tr>\n",
       "      <th>2118</th>\n",
       "      <td>2018-06-01 03:41:00</td>\n",
       "      <td>6</td>\n",
       "      <td>8.0</td>\n",
       "      <td>20</td>\n",
       "      <td>1.000000</td>\n",
       "      <td>0.0</td>\n",
       "      <td>0</td>\n",
       "      <td>0</td>\n",
       "      <td>1</td>\n",
       "    </tr>\n",
       "    <tr>\n",
       "      <th>2119</th>\n",
       "      <td>2018-06-01 04:11:00</td>\n",
       "      <td>6</td>\n",
       "      <td>8.5</td>\n",
       "      <td>7</td>\n",
       "      <td>1.000000</td>\n",
       "      <td>0.0</td>\n",
       "      <td>0</td>\n",
       "      <td>0</td>\n",
       "      <td>1</td>\n",
       "    </tr>\n",
       "    <tr>\n",
       "      <th>2120</th>\n",
       "      <td>2018-06-01 04:41:00</td>\n",
       "      <td>6</td>\n",
       "      <td>9.0</td>\n",
       "      <td>6</td>\n",
       "      <td>1.000000</td>\n",
       "      <td>0.0</td>\n",
       "      <td>0</td>\n",
       "      <td>0</td>\n",
       "      <td>1</td>\n",
       "    </tr>\n",
       "    <tr>\n",
       "      <th>2121</th>\n",
       "      <td>2018-06-01 05:11:00</td>\n",
       "      <td>6</td>\n",
       "      <td>9.5</td>\n",
       "      <td>7</td>\n",
       "      <td>1.000000</td>\n",
       "      <td>0.0</td>\n",
       "      <td>0</td>\n",
       "      <td>0</td>\n",
       "      <td>1</td>\n",
       "    </tr>\n",
       "    <tr>\n",
       "      <th>2122</th>\n",
       "      <td>2018-06-01 05:41:00</td>\n",
       "      <td>6</td>\n",
       "      <td>10.0</td>\n",
       "      <td>2</td>\n",
       "      <td>1.000000</td>\n",
       "      <td>0.0</td>\n",
       "      <td>0</td>\n",
       "      <td>0</td>\n",
       "      <td>1</td>\n",
       "    </tr>\n",
       "  </tbody>\n",
       "</table>\n",
       "<p>2123 rows × 9 columns</p>\n",
       "</div>"
      ],
      "text/plain": [
       "                    time  month  hours_after_sunset  bat_landing_number  \\\n",
       "0    2017-12-26 16:13:00      0                -0.5                  20   \n",
       "1    2017-12-26 16:43:00      0                 0.0                  28   \n",
       "2    2017-12-26 17:13:00      0                 0.5                  25   \n",
       "3    2017-12-26 17:43:00      0                 1.0                  71   \n",
       "4    2017-12-26 18:13:00      0                 1.5                  44   \n",
       "...                  ...    ...                 ...                 ...   \n",
       "2118 2018-06-01 03:41:00      6                 8.0                  20   \n",
       "2119 2018-06-01 04:11:00      6                 8.5                   7   \n",
       "2120 2018-06-01 04:41:00      6                 9.0                   6   \n",
       "2121 2018-06-01 05:11:00      6                 9.5                   7   \n",
       "2122 2018-06-01 05:41:00      6                10.0                   2   \n",
       "\n",
       "      food_availability  rat_minutes  rat_arrival_number  rat_present  season  \n",
       "0              4.000000          0.0                   0            0       0  \n",
       "1              4.000000          0.0                   0            0       0  \n",
       "2              4.000000          0.0                   0            0       0  \n",
       "3              4.000000          0.0                   0            0       0  \n",
       "4              3.753857          0.0                   0            0       0  \n",
       "...                 ...          ...                 ...          ...     ...  \n",
       "2118           1.000000          0.0                   0            0       1  \n",
       "2119           1.000000          0.0                   0            0       1  \n",
       "2120           1.000000          0.0                   0            0       1  \n",
       "2121           1.000000          0.0                   0            0       1  \n",
       "2122           1.000000          0.0                   0            0       1  \n",
       "\n",
       "[2123 rows x 9 columns]"
      ]
     },
     "execution_count": 501,
     "metadata": {},
     "output_type": "execute_result"
    }
   ],
   "source": [
    "df2"
   ]
  },
  {
   "cell_type": "code",
   "execution_count": 502,
   "id": "a116f0fe",
   "metadata": {},
   "outputs": [],
   "source": [
    "y = df2['bat_landing_number']\n",
    "X = df2.drop(['bat_landing_number','time'],axis=1)"
   ]
  },
  {
   "cell_type": "code",
   "execution_count": 503,
   "id": "f29c0916",
   "metadata": {},
   "outputs": [],
   "source": [
    "X_train,X_test,y_train,y_test = train_test_split(X,y,test_size=0.2, random_state=42)"
   ]
  },
  {
   "cell_type": "code",
   "execution_count": 504,
   "id": "eef98100",
   "metadata": {},
   "outputs": [],
   "source": [
    "model = LinearRegression()\n",
    "model.fit(X_train,y_train)\n",
    "y_pred = model.predict(X_test)\n"
   ]
  },
  {
   "cell_type": "code",
   "execution_count": 505,
   "id": "ffc3c6ab",
   "metadata": {},
   "outputs": [
    {
     "name": "stdout",
     "output_type": "stream",
     "text": [
      "MSE: 660.0632572858917\n",
      "R^2 Score: 0.054159059763325135\n"
     ]
    }
   ],
   "source": [
    "from sklearn.metrics import mean_squared_error, r2_score\n",
    "\n",
    "mse = mean_squared_error(y_test, y_pred)\n",
    "r2 = r2_score(y_test, y_pred)\n",
    "\n",
    "print(\"MSE:\", mse)\n",
    "print(\"R^2 Score:\", r2)"
   ]
  },
  {
   "cell_type": "code",
   "execution_count": 506,
   "id": "84d4b8ee",
   "metadata": {},
   "outputs": [],
   "source": [
    "data_1 = dataset1[['start_time','bat_landing_to_food','rat_period_start','rat_period_end','seconds_after_rat_arrival']]"
   ]
  },
  {
   "cell_type": "code",
   "execution_count": 507,
   "id": "b31c44d6",
   "metadata": {},
   "outputs": [
    {
     "name": "stderr",
     "output_type": "stream",
     "text": [
      "C:\\Users\\Acer\\AppData\\Local\\Temp\\ipykernel_61616\\3463379413.py:1: SettingWithCopyWarning: \n",
      "A value is trying to be set on a copy of a slice from a DataFrame.\n",
      "Try using .loc[row_indexer,col_indexer] = value instead\n",
      "\n",
      "See the caveats in the documentation: https://pandas.pydata.org/pandas-docs/stable/user_guide/indexing.html#returning-a-view-versus-a-copy\n",
      "  data_1['rat_period_start'] = pd.to_datetime(data_1['rat_period_start'])\n",
      "C:\\Users\\Acer\\AppData\\Local\\Temp\\ipykernel_61616\\3463379413.py:2: SettingWithCopyWarning: \n",
      "A value is trying to be set on a copy of a slice from a DataFrame.\n",
      "Try using .loc[row_indexer,col_indexer] = value instead\n",
      "\n",
      "See the caveats in the documentation: https://pandas.pydata.org/pandas-docs/stable/user_guide/indexing.html#returning-a-view-versus-a-copy\n",
      "  data_1['rat_period_end'] = pd.to_datetime(data_1['rat_period_end'])\n"
     ]
    }
   ],
   "source": [
    "data_1['rat_period_start'] = pd.to_datetime(data_1['rat_period_start'])\n",
    "data_1['rat_period_end'] = pd.to_datetime(data_1['rat_period_end'])"
   ]
  },
  {
   "cell_type": "code",
   "execution_count": 508,
   "id": "bb7cb4e3",
   "metadata": {},
   "outputs": [
    {
     "name": "stderr",
     "output_type": "stream",
     "text": [
      "C:\\Users\\Acer\\AppData\\Local\\Temp\\ipykernel_61616\\522847076.py:1: SettingWithCopyWarning: \n",
      "A value is trying to be set on a copy of a slice from a DataFrame.\n",
      "Try using .loc[row_indexer,col_indexer] = value instead\n",
      "\n",
      "See the caveats in the documentation: https://pandas.pydata.org/pandas-docs/stable/user_guide/indexing.html#returning-a-view-versus-a-copy\n",
      "  data_1['bat_landed'] = data_1['rat_period_start'] + pd.to_timedelta(data_1['seconds_after_rat_arrival'], unit='s')\n"
     ]
    }
   ],
   "source": [
    "data_1['bat_landed'] = data_1['rat_period_start'] + pd.to_timedelta(data_1['seconds_after_rat_arrival'], unit='s')"
   ]
  },
  {
   "cell_type": "code",
   "execution_count": 509,
   "id": "50e939e3",
   "metadata": {},
   "outputs": [
    {
     "data": {
      "text/html": [
       "<div>\n",
       "<style scoped>\n",
       "    .dataframe tbody tr th:only-of-type {\n",
       "        vertical-align: middle;\n",
       "    }\n",
       "\n",
       "    .dataframe tbody tr th {\n",
       "        vertical-align: top;\n",
       "    }\n",
       "\n",
       "    .dataframe thead th {\n",
       "        text-align: right;\n",
       "    }\n",
       "</style>\n",
       "<table border=\"1\" class=\"dataframe\">\n",
       "  <thead>\n",
       "    <tr style=\"text-align: right;\">\n",
       "      <th></th>\n",
       "      <th>start_time</th>\n",
       "      <th>bat_landing_to_food</th>\n",
       "      <th>rat_period_start</th>\n",
       "      <th>rat_period_end</th>\n",
       "      <th>seconds_after_rat_arrival</th>\n",
       "      <th>bat_landed</th>\n",
       "    </tr>\n",
       "  </thead>\n",
       "  <tbody>\n",
       "    <tr>\n",
       "      <th>0</th>\n",
       "      <td>2017-12-30 18:37:00</td>\n",
       "      <td>16.000000</td>\n",
       "      <td>2017-12-30 18:35:00</td>\n",
       "      <td>2017-12-30 18:38:00</td>\n",
       "      <td>108</td>\n",
       "      <td>2017-12-30 18:36:48</td>\n",
       "    </tr>\n",
       "    <tr>\n",
       "      <th>1</th>\n",
       "      <td>2017-12-30 19:51:00</td>\n",
       "      <td>0.074016</td>\n",
       "      <td>2017-12-30 19:50:00</td>\n",
       "      <td>2017-12-30 19:55:00</td>\n",
       "      <td>17</td>\n",
       "      <td>2017-12-30 19:50:17</td>\n",
       "    </tr>\n",
       "    <tr>\n",
       "      <th>2</th>\n",
       "      <td>2017-12-30 19:51:00</td>\n",
       "      <td>4.000000</td>\n",
       "      <td>2017-12-30 19:50:00</td>\n",
       "      <td>2017-12-30 19:55:00</td>\n",
       "      <td>41</td>\n",
       "      <td>2017-12-30 19:50:41</td>\n",
       "    </tr>\n",
       "    <tr>\n",
       "      <th>3</th>\n",
       "      <td>2017-12-30 19:52:00</td>\n",
       "      <td>10.000000</td>\n",
       "      <td>2017-12-30 19:50:00</td>\n",
       "      <td>2017-12-30 19:55:00</td>\n",
       "      <td>111</td>\n",
       "      <td>2017-12-30 19:51:51</td>\n",
       "    </tr>\n",
       "    <tr>\n",
       "      <th>4</th>\n",
       "      <td>2017-12-30 19:54:00</td>\n",
       "      <td>15.000000</td>\n",
       "      <td>2017-12-30 19:50:00</td>\n",
       "      <td>2017-12-30 19:55:00</td>\n",
       "      <td>194</td>\n",
       "      <td>2017-12-30 19:53:14</td>\n",
       "    </tr>\n",
       "    <tr>\n",
       "      <th>...</th>\n",
       "      <td>...</td>\n",
       "      <td>...</td>\n",
       "      <td>...</td>\n",
       "      <td>...</td>\n",
       "      <td>...</td>\n",
       "      <td>...</td>\n",
       "    </tr>\n",
       "    <tr>\n",
       "      <th>902</th>\n",
       "      <td>2018-05-04 04:18:00</td>\n",
       "      <td>2.000000</td>\n",
       "      <td>2018-05-04 04:14:00</td>\n",
       "      <td>2018-05-04 04:30:00</td>\n",
       "      <td>224</td>\n",
       "      <td>2018-05-04 04:17:44</td>\n",
       "    </tr>\n",
       "    <tr>\n",
       "      <th>903</th>\n",
       "      <td>2018-05-04 04:18:00</td>\n",
       "      <td>1.000000</td>\n",
       "      <td>2018-05-04 04:14:00</td>\n",
       "      <td>2018-05-04 04:30:00</td>\n",
       "      <td>275</td>\n",
       "      <td>2018-05-04 04:18:35</td>\n",
       "    </tr>\n",
       "    <tr>\n",
       "      <th>904</th>\n",
       "      <td>2018-05-04 04:19:00</td>\n",
       "      <td>22.000000</td>\n",
       "      <td>2018-05-04 04:14:00</td>\n",
       "      <td>2018-05-04 04:30:00</td>\n",
       "      <td>310</td>\n",
       "      <td>2018-05-04 04:19:10</td>\n",
       "    </tr>\n",
       "    <tr>\n",
       "      <th>905</th>\n",
       "      <td>2018-05-03 23:51:00</td>\n",
       "      <td>2.000000</td>\n",
       "      <td>2018-05-03 23:46:00</td>\n",
       "      <td>2018-05-03 23:52:00</td>\n",
       "      <td>339</td>\n",
       "      <td>2018-05-03 23:51:39</td>\n",
       "    </tr>\n",
       "    <tr>\n",
       "      <th>906</th>\n",
       "      <td>2018-05-04 05:39:00</td>\n",
       "      <td>120.000000</td>\n",
       "      <td>2018-05-04 05:37:00</td>\n",
       "      <td>2018-05-04 06:10:00</td>\n",
       "      <td>143</td>\n",
       "      <td>2018-05-04 05:39:23</td>\n",
       "    </tr>\n",
       "  </tbody>\n",
       "</table>\n",
       "<p>907 rows × 6 columns</p>\n",
       "</div>"
      ],
      "text/plain": [
       "             start_time  bat_landing_to_food    rat_period_start  \\\n",
       "0   2017-12-30 18:37:00            16.000000 2017-12-30 18:35:00   \n",
       "1   2017-12-30 19:51:00             0.074016 2017-12-30 19:50:00   \n",
       "2   2017-12-30 19:51:00             4.000000 2017-12-30 19:50:00   \n",
       "3   2017-12-30 19:52:00            10.000000 2017-12-30 19:50:00   \n",
       "4   2017-12-30 19:54:00            15.000000 2017-12-30 19:50:00   \n",
       "..                  ...                  ...                 ...   \n",
       "902 2018-05-04 04:18:00             2.000000 2018-05-04 04:14:00   \n",
       "903 2018-05-04 04:18:00             1.000000 2018-05-04 04:14:00   \n",
       "904 2018-05-04 04:19:00            22.000000 2018-05-04 04:14:00   \n",
       "905 2018-05-03 23:51:00             2.000000 2018-05-03 23:46:00   \n",
       "906 2018-05-04 05:39:00           120.000000 2018-05-04 05:37:00   \n",
       "\n",
       "         rat_period_end  seconds_after_rat_arrival          bat_landed  \n",
       "0   2017-12-30 18:38:00                        108 2017-12-30 18:36:48  \n",
       "1   2017-12-30 19:55:00                         17 2017-12-30 19:50:17  \n",
       "2   2017-12-30 19:55:00                         41 2017-12-30 19:50:41  \n",
       "3   2017-12-30 19:55:00                        111 2017-12-30 19:51:51  \n",
       "4   2017-12-30 19:55:00                        194 2017-12-30 19:53:14  \n",
       "..                  ...                        ...                 ...  \n",
       "902 2018-05-04 04:30:00                        224 2018-05-04 04:17:44  \n",
       "903 2018-05-04 04:30:00                        275 2018-05-04 04:18:35  \n",
       "904 2018-05-04 04:30:00                        310 2018-05-04 04:19:10  \n",
       "905 2018-05-03 23:52:00                        339 2018-05-03 23:51:39  \n",
       "906 2018-05-04 06:10:00                        143 2018-05-04 05:39:23  \n",
       "\n",
       "[907 rows x 6 columns]"
      ]
     },
     "execution_count": 509,
     "metadata": {},
     "output_type": "execute_result"
    }
   ],
   "source": [
    "data_1"
   ]
  },
  {
   "cell_type": "code",
   "execution_count": 510,
   "id": "296e7b17",
   "metadata": {},
   "outputs": [
    {
     "data": {
      "text/plain": [
       "<Axes: xlabel='rat_present'>"
      ]
     },
     "execution_count": 510,
     "metadata": {},
     "output_type": "execute_result"
    },
    {
     "data": {
      "image/png": "[encoded data removed]",
      "text/plain": [
       "<Figure size 640x480 with 1 Axes>"
      ]
     },
     "metadata": {},
     "output_type": "display_data"
    }
   ],
   "source": [
    "dataset1.groupby('rat_present')['bat_landing_to_food'].mean().plot(kind = 'bar')"
   ]
  },
  {
   "cell_type": "code",
   "execution_count": 511,
   "id": "ad8f9d8d",
   "metadata": {},
   "outputs": [],
   "source": [
    "linear_df = dataset1.drop(columns = ['start_time','rat_period_start','rat_period_end','seconds_after_rat_arrival','sunset_time'])"
   ]
  },
  {
   "cell_type": "markdown",
   "id": "ea84c47d",
   "metadata": {},
   "source": [
    "# Feature Engineering and Model Building"
   ]
  },
  {
   "cell_type": "markdown",
   "id": "dbd333b7",
   "metadata": {},
   "source": [
    "# Encoding"
   ]
  },
  {
   "cell_type": "code",
   "execution_count": 512,
   "id": "703566ea",
   "metadata": {},
   "outputs": [
    {
     "data": {
      "text/plain": [
       "bat_landing_to_food    float64\n",
       "habit                   object\n",
       "risk                     int64\n",
       "reward                   int64\n",
       "month                    int64\n",
       "hours_after_sunset     float64\n",
       "season                   int64\n",
       "avoidance_behavior       int64\n",
       "interaction_type        object\n",
       "rat_present              int64\n",
       "dtype: object"
      ]
     },
     "execution_count": 512,
     "metadata": {},
     "output_type": "execute_result"
    }
   ],
   "source": [
    "linear_df.dtypes"
   ]
  },
  {
   "cell_type": "code",
   "execution_count": 513,
   "id": "6c8b056c",
   "metadata": {},
   "outputs": [
    {
     "data": {
      "text/plain": [
       "array(['rat', 'fast', 'pick', 'bat_fight', 'rat_and_no_food', 'unknown',\n",
       "       'rat_and_others', 'pick_and_others', 'gaze', 'pick_rat', 'bat',\n",
       "       'both', 'pick_bat',\n",
       "       '94.0,305.0,239.0,416.0; 364.8,139.3,462.3,241.3', 'rat attack',\n",
       "       'attack_rat', 'bat_and_rat', 'rat_attack', 'other_bats',\n",
       "       'rat_pick', 'rat_and_bat', 'bowl_out', 'other_bat',\n",
       "       '373.0,80.0,504.0,148.0; 274.6,110.7,382.4,267.3', 'other',\n",
       "       '245.6,179.5,321.4,314.0; 522.4,0.3,592.0,95.5', 'eating',\n",
       "       'rat_to_bat', 'other_bats/rat',\n",
       "       '405.6,112.3,513.1,215.4; 464.1,197.7,614.9,334.3; 511.5,301.1,639.4,388.9',\n",
       "       'pick_and_all', 'bat_and_pick', 'bat_fight_and_pick',\n",
       "       '187.0,152.0,304.0,240.0; 567.9,88.6,621.1,140.3',\n",
       "       '44.0,77.0,157.0,240.0; 253.0,96.0,346.0,147.0',\n",
       "       '397.7,159.7,580.2,330.5; 252.0,92.0,346.0,149.0', 'pick_and_bat',\n",
       "       '218.0,171.0,381.0,269.0; 239.0,106.0,315.0,155.0',\n",
       "       '423.0,155.9,535.6,370.9; 238.0,99.0,314.0,160.0',\n",
       "       'eating_and_bat_and_pick', 'bat_figiht', 'bat_pick_rat',\n",
       "       '415.0,86.5,559.2,140.2; 66.0,157.0,285.0,279.0',\n",
       "       'rat_pick_and_bat', 'pick_and_rat', 'fight_rat', 'all_pick',\n",
       "       'no_food', 'bats', 'others', 'rat_and_pick',\n",
       "       '157.0,2.6,349.0,159.3; 572.1,275.7,638.3,360.0', 'pick_rat_bat',\n",
       "       'bat_and_pick_far', 'fast_far',\n",
       "       '530.0,20.0,611.0,156.0; 227.6,128.8,290.8,208.0', 'fight',\n",
       "       'bat_rat_pick', 'bat_pick', 'rat_disappear', 'eating_bat_rat_pick',\n",
       "       'fast_and_pick', 'other directions',\n",
       "       '243.6,235.6,432.2,329.8; 559.0,244.0,622.0,395.0',\n",
       "       'bat_fight_rat', 'bat_rat', 'pup_and_mon', 'pick_eating_all',\n",
       "       '511.7,236.3,632.2,404.5; 445.0,199.0,503.0,245.0', 'pick_bat_rat',\n",
       "       '417.7,117.1,635.5,346.0; 243.0,272.0,308.0,379.0; 438.0,230.0,494.0,291.0',\n",
       "       'rat_bat', 'rat_bat_fight', 'eating_bat_pick', 'pick_rat_and_bat',\n",
       "       'fight_bat', '380.6,321.1,550.6,477.5; 263.0,267.0,421.0,435.0',\n",
       "       'bat_fight_and_rat', 'rat_and_rat', 'not_sure_rat',\n",
       "       '501.0,358.4,636.2,423.4; 476.0,103.0,634.0,206.0',\n",
       "       'rat_and_bat_and_pick'], dtype=object)"
      ]
     },
     "execution_count": 513,
     "metadata": {},
     "output_type": "execute_result"
    }
   ],
   "source": [
    "linear_df.habit.unique()"
   ]
  },
  {
   "cell_type": "code",
   "execution_count": 514,
   "id": "6247cf0d",
   "metadata": {},
   "outputs": [],
   "source": [
    "def categorize_habit(habit):\n",
    "    # Category 1: Single Animal Actions\n",
    "    single_actions = ['rat', 'bat', 'pick', 'fast', 'bats', 'no_food', 'unknown', 'gaze', 'both', 'bowl_out']\n",
    "\n",
    "    # Category 2: Multiple Animal Interactions\n",
    "    multiple_interactions_keywords = ['and', 'fight', 'attack', 'rat_pick', 'pick_rat', 'bat_pick', 'bat_rat']\n",
    "\n",
    "    # Category 3: Eating / Feeding Actions\n",
    "    eating_keywords = ['eating', 'reward', 'pick_and_all', 'eating_and', 'pick_eating_all', 'eating_bat']\n",
    "\n",
    "    # Category 4: Coordinates / Spatial Data\n",
    "    if ';' in habit or any(char.isdigit() for char in habit):\n",
    "        return 'Coordinates'\n",
    "\n",
    "    # Category 5: Uncertain / Other\n",
    "    uncertain_keywords = ['other', 'unknown', 'not_sure', 'pup_and_mon', 'other_bats', 'others']\n",
    "\n",
    "    # Logic to assign category\n",
    "    if habit in single_actions:\n",
    "        return habit\n",
    "    elif any(keyword in habit for keyword in multiple_interactions_keywords):\n",
    "        return 'Multiple Interaction'\n",
    "    elif any(keyword in habit for keyword in eating_keywords):\n",
    "        return 'Eating/Feeding'\n",
    "    elif any(keyword in habit for keyword in uncertain_keywords):\n",
    "        return 'Uncertain/Other'\n",
    "    else:\n",
    "        return 'Other'"
   ]
  },
  {
   "cell_type": "code",
   "execution_count": 515,
   "id": "8c6c6099",
   "metadata": {},
   "outputs": [],
   "source": [
    "linear_df.habit = linear_df.habit.apply(categorize_habit)"
   ]
  },
  {
   "cell_type": "code",
   "execution_count": 516,
   "id": "f7cc0760",
   "metadata": {},
   "outputs": [
    {
     "data": {
      "text/plain": [
       "array(['predation_fear', 'no_rat'], dtype=object)"
      ]
     },
     "execution_count": 516,
     "metadata": {},
     "output_type": "execute_result"
    }
   ],
   "source": [
    "linear_df.interaction_type.unique()"
   ]
  },
  {
   "cell_type": "code",
   "execution_count": 517,
   "id": "279dd7ba",
   "metadata": {},
   "outputs": [],
   "source": [
    "le = LabelEncoder()\n",
    "oh = OneHotEncoder()"
   ]
  },
  {
   "cell_type": "code",
   "execution_count": 518,
   "id": "4f8d8c25",
   "metadata": {},
   "outputs": [],
   "source": [
    "linear_df.habit = le.fit_transform(linear_df.habit)"
   ]
  },
  {
   "cell_type": "code",
   "execution_count": 519,
   "id": "2872b610",
   "metadata": {},
   "outputs": [],
   "source": [
    "linear_df.interaction_type = linear_df.interaction_type.astype('category').cat.codes"
   ]
  },
  {
   "cell_type": "code",
   "execution_count": 520,
   "id": "33095467",
   "metadata": {},
   "outputs": [
    {
     "data": {
      "text/html": [
       "<div>\n",
       "<style scoped>\n",
       "    .dataframe tbody tr th:only-of-type {\n",
       "        vertical-align: middle;\n",
       "    }\n",
       "\n",
       "    .dataframe tbody tr th {\n",
       "        vertical-align: top;\n",
       "    }\n",
       "\n",
       "    .dataframe thead th {\n",
       "        text-align: right;\n",
       "    }\n",
       "</style>\n",
       "<table border=\"1\" class=\"dataframe\">\n",
       "  <thead>\n",
       "    <tr style=\"text-align: right;\">\n",
       "      <th></th>\n",
       "      <th>bat_landing_to_food</th>\n",
       "      <th>habit</th>\n",
       "      <th>risk</th>\n",
       "      <th>reward</th>\n",
       "      <th>month</th>\n",
       "      <th>hours_after_sunset</th>\n",
       "      <th>season</th>\n",
       "      <th>avoidance_behavior</th>\n",
       "      <th>interaction_type</th>\n",
       "      <th>rat_present</th>\n",
       "    </tr>\n",
       "  </thead>\n",
       "  <tbody>\n",
       "    <tr>\n",
       "      <th>0</th>\n",
       "      <td>16.000000</td>\n",
       "      <td>13</td>\n",
       "      <td>1</td>\n",
       "      <td>0</td>\n",
       "      <td>0</td>\n",
       "      <td>1.870833</td>\n",
       "      <td>0</td>\n",
       "      <td>1</td>\n",
       "      <td>1</td>\n",
       "      <td>1</td>\n",
       "    </tr>\n",
       "    <tr>\n",
       "      <th>1</th>\n",
       "      <td>0.074016</td>\n",
       "      <td>9</td>\n",
       "      <td>0</td>\n",
       "      <td>1</td>\n",
       "      <td>0</td>\n",
       "      <td>3.100833</td>\n",
       "      <td>0</td>\n",
       "      <td>0</td>\n",
       "      <td>0</td>\n",
       "      <td>0</td>\n",
       "    </tr>\n",
       "    <tr>\n",
       "      <th>2</th>\n",
       "      <td>4.000000</td>\n",
       "      <td>9</td>\n",
       "      <td>0</td>\n",
       "      <td>1</td>\n",
       "      <td>0</td>\n",
       "      <td>3.107500</td>\n",
       "      <td>0</td>\n",
       "      <td>0</td>\n",
       "      <td>0</td>\n",
       "      <td>0</td>\n",
       "    </tr>\n",
       "    <tr>\n",
       "      <th>3</th>\n",
       "      <td>10.000000</td>\n",
       "      <td>13</td>\n",
       "      <td>1</td>\n",
       "      <td>0</td>\n",
       "      <td>0</td>\n",
       "      <td>3.126944</td>\n",
       "      <td>0</td>\n",
       "      <td>1</td>\n",
       "      <td>1</td>\n",
       "      <td>1</td>\n",
       "    </tr>\n",
       "    <tr>\n",
       "      <th>4</th>\n",
       "      <td>15.000000</td>\n",
       "      <td>13</td>\n",
       "      <td>1</td>\n",
       "      <td>0</td>\n",
       "      <td>0</td>\n",
       "      <td>3.150000</td>\n",
       "      <td>0</td>\n",
       "      <td>1</td>\n",
       "      <td>1</td>\n",
       "      <td>1</td>\n",
       "    </tr>\n",
       "    <tr>\n",
       "      <th>...</th>\n",
       "      <td>...</td>\n",
       "      <td>...</td>\n",
       "      <td>...</td>\n",
       "      <td>...</td>\n",
       "      <td>...</td>\n",
       "      <td>...</td>\n",
       "      <td>...</td>\n",
       "      <td>...</td>\n",
       "      <td>...</td>\n",
       "      <td>...</td>\n",
       "    </tr>\n",
       "    <tr>\n",
       "      <th>902</th>\n",
       "      <td>2.000000</td>\n",
       "      <td>13</td>\n",
       "      <td>1</td>\n",
       "      <td>0</td>\n",
       "      <td>5</td>\n",
       "      <td>8.933333</td>\n",
       "      <td>1</td>\n",
       "      <td>0</td>\n",
       "      <td>1</td>\n",
       "      <td>1</td>\n",
       "    </tr>\n",
       "    <tr>\n",
       "      <th>903</th>\n",
       "      <td>1.000000</td>\n",
       "      <td>9</td>\n",
       "      <td>0</td>\n",
       "      <td>1</td>\n",
       "      <td>5</td>\n",
       "      <td>8.947500</td>\n",
       "      <td>1</td>\n",
       "      <td>0</td>\n",
       "      <td>0</td>\n",
       "      <td>0</td>\n",
       "    </tr>\n",
       "    <tr>\n",
       "      <th>904</th>\n",
       "      <td>22.000000</td>\n",
       "      <td>12</td>\n",
       "      <td>0</td>\n",
       "      <td>1</td>\n",
       "      <td>5</td>\n",
       "      <td>8.957222</td>\n",
       "      <td>1</td>\n",
       "      <td>1</td>\n",
       "      <td>0</td>\n",
       "      <td>0</td>\n",
       "    </tr>\n",
       "    <tr>\n",
       "      <th>905</th>\n",
       "      <td>2.000000</td>\n",
       "      <td>9</td>\n",
       "      <td>0</td>\n",
       "      <td>1</td>\n",
       "      <td>5</td>\n",
       "      <td>4.498889</td>\n",
       "      <td>1</td>\n",
       "      <td>0</td>\n",
       "      <td>0</td>\n",
       "      <td>0</td>\n",
       "    </tr>\n",
       "    <tr>\n",
       "      <th>906</th>\n",
       "      <td>120.000000</td>\n",
       "      <td>2</td>\n",
       "      <td>1</td>\n",
       "      <td>1</td>\n",
       "      <td>5</td>\n",
       "      <td>10.297500</td>\n",
       "      <td>1</td>\n",
       "      <td>1</td>\n",
       "      <td>1</td>\n",
       "      <td>1</td>\n",
       "    </tr>\n",
       "  </tbody>\n",
       "</table>\n",
       "<p>907 rows × 10 columns</p>\n",
       "</div>"
      ],
      "text/plain": [
       "     bat_landing_to_food  habit  risk  reward  month  hours_after_sunset  \\\n",
       "0              16.000000     13     1       0      0            1.870833   \n",
       "1               0.074016      9     0       1      0            3.100833   \n",
       "2               4.000000      9     0       1      0            3.107500   \n",
       "3              10.000000     13     1       0      0            3.126944   \n",
       "4              15.000000     13     1       0      0            3.150000   \n",
       "..                   ...    ...   ...     ...    ...                 ...   \n",
       "902             2.000000     13     1       0      5            8.933333   \n",
       "903             1.000000      9     0       1      5            8.947500   \n",
       "904            22.000000     12     0       1      5            8.957222   \n",
       "905             2.000000      9     0       1      5            4.498889   \n",
       "906           120.000000      2     1       1      5           10.297500   \n",
       "\n",
       "     season  avoidance_behavior  interaction_type  rat_present  \n",
       "0         0                   1                 1            1  \n",
       "1         0                   0                 0            0  \n",
       "2         0                   0                 0            0  \n",
       "3         0                   1                 1            1  \n",
       "4         0                   1                 1            1  \n",
       "..      ...                 ...               ...          ...  \n",
       "902       1                   0                 1            1  \n",
       "903       1                   0                 0            0  \n",
       "904       1                   1                 0            0  \n",
       "905       1                   0                 0            0  \n",
       "906       1                   1                 1            1  \n",
       "\n",
       "[907 rows x 10 columns]"
      ]
     },
     "execution_count": 520,
     "metadata": {},
     "output_type": "execute_result"
    }
   ],
   "source": [
    "linear_df"
   ]
  },
  {
   "cell_type": "markdown",
   "id": "12c204db",
   "metadata": {},
   "source": [
    "# Season Split "
   ]
  },
  {
   "cell_type": "code",
   "execution_count": 521,
   "id": "2321e0b1",
   "metadata": {},
   "outputs": [],
   "source": [
    "winter_df = linear_df[linear_df['season'] == 0]\n",
    "spring_df = linear_df[linear_df['season'] == 1]"
   ]
  },
  {
   "cell_type": "markdown",
   "id": "1deae5b6",
   "metadata": {},
   "source": [
    "# Scaling value"
   ]
  },
  {
   "cell_type": "code",
   "execution_count": 522,
   "id": "fc1ac5fc",
   "metadata": {},
   "outputs": [],
   "source": [
    "scaler = StandardScaler()"
   ]
  },
  {
   "cell_type": "markdown",
   "id": "2980ccaa",
   "metadata": {},
   "source": [
    "# Winter \n",
    "### Log Transformation"
   ]
  },
  {
   "cell_type": "code",
   "execution_count": 523,
   "id": "5a3b097c",
   "metadata": {},
   "outputs": [],
   "source": [
    "y = np.log1p(winter_df['bat_landing_to_food'])\n",
    "X = winter_df.drop(columns = 'bat_landing_to_food')"
   ]
  },
  {
   "cell_type": "code",
   "execution_count": 524,
   "id": "8a26fa40",
   "metadata": {},
   "outputs": [
    {
     "data": {
      "text/plain": [
       "((151, 9), (151,))"
      ]
     },
     "execution_count": 524,
     "metadata": {},
     "output_type": "execute_result"
    }
   ],
   "source": [
    "X.shape, y.shape"
   ]
  },
  {
   "cell_type": "code",
   "execution_count": 525,
   "id": "93d20b5a",
   "metadata": {},
   "outputs": [],
   "source": [
    "X_train,X_test,y_train,y_test = train_test_split(X,y,test_size=0.2, random_state=42)"
   ]
  },
  {
   "cell_type": "markdown",
   "id": "92d1f7d0",
   "metadata": {},
   "source": [
    "# Transformation and Encoding Pipeline"
   ]
  },
  {
   "cell_type": "code",
   "execution_count": 526,
   "id": "8eddd18e",
   "metadata": {},
   "outputs": [],
   "source": [
    "num_cols = X.select_dtypes(include=['float64','int64']).columns\n",
    "cat_cols = X.select_dtypes(include=['object','category']).columns"
   ]
  },
  {
   "cell_type": "code",
   "execution_count": 527,
   "id": "0af829be",
   "metadata": {},
   "outputs": [],
   "source": [
    "transformer = ColumnTransformer([\n",
    "    ('num', scaler, num_cols),\n",
    "    ('cat', oh, cat_cols)\n",
    "], remainder='passthrough')"
   ]
  },
  {
   "cell_type": "code",
   "execution_count": 528,
   "id": "a0f190cd",
   "metadata": {},
   "outputs": [],
   "source": [
    "X_train_scaled = transformer.fit_transform(X_train)\n",
    "X_test_scaled = transformer.transform(X_test)"
   ]
  },
  {
   "cell_type": "code",
   "execution_count": 529,
   "id": "fafe9663",
   "metadata": {},
   "outputs": [
    {
     "data": {
      "text/plain": [
       "array([[ 0.92270594, -1.16316   , -0.73379939, ..., -0.60302269,\n",
       "        -1.05131497,  0.        ],\n",
       "       [-0.511552  , -1.16316   ,  1.36277029, ..., -0.60302269,\n",
       "        -1.05131497,  0.        ],\n",
       "       [ 0.34900277, -1.16316   ,  1.36277029, ...,  1.6583124 ,\n",
       "        -1.05131497,  0.        ],\n",
       "       ...,\n",
       "       [-2.51951311,  0.85972695, -0.73379939, ..., -0.60302269,\n",
       "         0.95118973,  1.        ],\n",
       "       [ 0.63585435,  0.85972695, -0.73379939, ...,  1.6583124 ,\n",
       "         0.95118973,  1.        ],\n",
       "       [ 0.63585435,  0.85972695, -0.73379939, ...,  1.6583124 ,\n",
       "         0.95118973,  1.        ]], shape=(120, 9))"
      ]
     },
     "execution_count": 529,
     "metadata": {},
     "output_type": "execute_result"
    }
   ],
   "source": [
    "X_train_scaled"
   ]
  },
  {
   "cell_type": "markdown",
   "id": "5c6d39c9",
   "metadata": {},
   "source": [
    "# Linear Regression Model"
   ]
  },
  {
   "cell_type": "markdown",
   "id": "f1c9eed3",
   "metadata": {},
   "source": [
    "# Winter Season Model"
   ]
  },
  {
   "cell_type": "code",
   "execution_count": 530,
   "id": "9772a426",
   "metadata": {},
   "outputs": [],
   "source": [
    "y_winter = np.log1p(winter_df['bat_landing_to_food'])\n",
    "X_winter = winter_df.drop(columns='bat_landing_to_food')"
   ]
  },
  {
   "cell_type": "code",
   "execution_count": 531,
   "id": "47abca51",
   "metadata": {},
   "outputs": [],
   "source": [
    "\n",
    "X_train_w, X_test_w, y_train_w, y_test_w = train_test_split(\n",
    "    X_winter, y_winter, test_size=0.2, random_state=42\n",
    ")"
   ]
  },
  {
   "cell_type": "markdown",
   "id": "9a0c3bac",
   "metadata": {},
   "source": [
    "# Scale winter data"
   ]
  },
  {
   "cell_type": "code",
   "execution_count": 532,
   "id": "b2f1e9ae",
   "metadata": {},
   "outputs": [],
   "source": [
    "num_cols = X_winter.select_dtypes(include=['float64', 'int64']).columns\n",
    "cat_cols = X_winter.select_dtypes(include=['object', 'category']).columns"
   ]
  },
  {
   "cell_type": "code",
   "execution_count": 533,
   "id": "37fea8b2",
   "metadata": {},
   "outputs": [],
   "source": [
    "transformer_w = ColumnTransformer([\n",
    "    ('num', StandardScaler(), num_cols),\n",
    "    ('cat', OneHotEncoder(), cat_cols)\n",
    "], remainder='passthrough')"
   ]
  },
  {
   "cell_type": "code",
   "execution_count": 534,
   "id": "9226eeda",
   "metadata": {},
   "outputs": [],
   "source": [
    "X_train_w_scaled = transformer_w.fit_transform(X_train_w)\n",
    "X_test_w_scaled = transformer_w.transform(X_test_w)"
   ]
  },
  {
   "cell_type": "markdown",
   "id": "6960a4fe",
   "metadata": {},
   "source": [
    "# Train winter model"
   ]
  },
  {
   "cell_type": "code",
   "execution_count": 535,
   "id": "ce4ca662",
   "metadata": {},
   "outputs": [],
   "source": [
    "model_winter = LinearRegression()\n",
    "model_winter.fit(X_train_w_scaled, y_train_w)\n",
    "y_pred_winter = model_winter.predict(X_test_w_scaled)"
   ]
  },
  {
   "cell_type": "code",
   "execution_count": 536,
   "id": "c41a143f",
   "metadata": {},
   "outputs": [],
   "source": [
    "mse_winter = mean_squared_error(y_test_w, y_pred_winter)\n",
    "r2_winter = r2_score(y_test_w, y_pred_winter)\n",
    "rmse_winter = np.sqrt(mse_winter)"
   ]
  },
  {
   "cell_type": "code",
   "execution_count": 537,
   "id": "67e7a3d2",
   "metadata": {},
   "outputs": [],
   "source": [
    "# Cross-validation for winter"
   ]
  },
  {
   "cell_type": "code",
   "execution_count": 538,
   "id": "9839799d",
   "metadata": {},
   "outputs": [],
   "source": [
    "cv_scores_winter = cross_val_score(model_winter, X_train_w_scaled, y_train_w, cv=3)"
   ]
  },
  {
   "cell_type": "markdown",
   "id": "79f5c146",
   "metadata": {},
   "source": [
    "# WINTER SEASON MODEL PERFORMANCE"
   ]
  },
  {
   "cell_type": "code",
   "execution_count": 539,
   "id": "62f86f78",
   "metadata": {},
   "outputs": [
    {
     "name": "stdout",
     "output_type": "stream",
     "text": [
      "R² Score (Test):        0.5993\n",
      "MSE:                    0.5347\n",
      "RMSE:                   0.7312\n",
      "Cross-Val R² (mean):    0.6108 (±0.0417)\n",
      "Sample size:            151\n"
     ]
    }
   ],
   "source": [
    "\n",
    "print(f\"R² Score (Test):        {r2_winter:.4f}\")\n",
    "print(f\"MSE:                    {mse_winter:.4f}\")\n",
    "print(f\"RMSE:                   {rmse_winter:.4f}\")\n",
    "print(f\"Cross-Val R² (mean):    {cv_scores_winter.mean():.4f} (±{cv_scores_winter.std():.4f})\")\n",
    "print(f\"Sample size:            {len(winter_df)}\")"
   ]
  },
  {
   "cell_type": "code",
   "execution_count": 540,
   "id": "a88b5287",
   "metadata": {},
   "outputs": [
    {
     "data": {
      "text/html": [
       "<div>\n",
       "<style scoped>\n",
       "    .dataframe tbody tr th:only-of-type {\n",
       "        vertical-align: middle;\n",
       "    }\n",
       "\n",
       "    .dataframe tbody tr th {\n",
       "        vertical-align: top;\n",
       "    }\n",
       "\n",
       "    .dataframe thead th {\n",
       "        text-align: right;\n",
       "    }\n",
       "</style>\n",
       "<table border=\"1\" class=\"dataframe\">\n",
       "  <thead>\n",
       "    <tr style=\"text-align: right;\">\n",
       "      <th></th>\n",
       "      <th>Feature</th>\n",
       "      <th>Coefficient</th>\n",
       "    </tr>\n",
       "  </thead>\n",
       "  <tbody>\n",
       "    <tr>\n",
       "      <th>6</th>\n",
       "      <td>avoidance_behavior</td>\n",
       "      <td>7.229122e-01</td>\n",
       "    </tr>\n",
       "    <tr>\n",
       "      <th>1</th>\n",
       "      <td>risk</td>\n",
       "      <td>1.170471e-01</td>\n",
       "    </tr>\n",
       "    <tr>\n",
       "      <th>0</th>\n",
       "      <td>habit</td>\n",
       "      <td>7.993687e-02</td>\n",
       "    </tr>\n",
       "    <tr>\n",
       "      <th>4</th>\n",
       "      <td>hours_after_sunset</td>\n",
       "      <td>4.521857e-02</td>\n",
       "    </tr>\n",
       "    <tr>\n",
       "      <th>2</th>\n",
       "      <td>reward</td>\n",
       "      <td>2.709780e-02</td>\n",
       "    </tr>\n",
       "    <tr>\n",
       "      <th>5</th>\n",
       "      <td>season</td>\n",
       "      <td>1.387779e-17</td>\n",
       "    </tr>\n",
       "    <tr>\n",
       "      <th>8</th>\n",
       "      <td>rat_present</td>\n",
       "      <td>-2.420212e-02</td>\n",
       "    </tr>\n",
       "    <tr>\n",
       "      <th>7</th>\n",
       "      <td>interaction_type</td>\n",
       "      <td>-4.846485e-02</td>\n",
       "    </tr>\n",
       "    <tr>\n",
       "      <th>3</th>\n",
       "      <td>month</td>\n",
       "      <td>-5.760433e-02</td>\n",
       "    </tr>\n",
       "  </tbody>\n",
       "</table>\n",
       "</div>"
      ],
      "text/plain": [
       "              Feature   Coefficient\n",
       "6  avoidance_behavior  7.229122e-01\n",
       "1                risk  1.170471e-01\n",
       "0               habit  7.993687e-02\n",
       "4  hours_after_sunset  4.521857e-02\n",
       "2              reward  2.709780e-02\n",
       "5              season  1.387779e-17\n",
       "8         rat_present -2.420212e-02\n",
       "7    interaction_type -4.846485e-02\n",
       "3               month -5.760433e-02"
      ]
     },
     "execution_count": 540,
     "metadata": {},
     "output_type": "execute_result"
    }
   ],
   "source": [
    "coef_df = pd.DataFrame({\n",
    "    'Feature': X.columns,\n",
    "    'Coefficient': model_winter.coef_\n",
    "}).sort_values(by='Coefficient', ascending=False)\n",
    "coef_df"
   ]
  },
  {
   "cell_type": "markdown",
   "id": "a3718855",
   "metadata": {},
   "source": [
    "Visualization off features importance"
   ]
  },
  {
   "cell_type": "code",
   "execution_count": 541,
   "id": "32abbda4",
   "metadata": {},
   "outputs": [
    {
     "name": "stderr",
     "output_type": "stream",
     "text": [
      "C:\\Users\\Acer\\AppData\\Local\\Temp\\ipykernel_61616\\3983116570.py:2: FutureWarning: \n",
      "\n",
      "Passing `palette` without assigning `hue` is deprecated and will be removed in v0.14.0. Assign the `y` variable to `hue` and set `legend=False` for the same effect.\n",
      "\n",
      "  sns.barplot(\n"
     ]
    },
    {
     "data": {
      "image/png": "[encoded data removed]",
      "text/plain": [
       "<Figure size 1000x600 with 1 Axes>"
      ]
     },
     "metadata": {},
     "output_type": "display_data"
    }
   ],
   "source": [
    "\n",
    "plt.figure(figsize=(10,6))\n",
    "sns.barplot(\n",
    "    data=coef_df,\n",
    "    x='Coefficient',\n",
    "    y='Feature',\n",
    "    palette='coolwarm'\n",
    ")\n",
    "plt.title('Feature Coefficients from Linear Model')\n",
    "plt.xlabel('Coefficient Value')\n",
    "plt.ylabel('Feature')\n",
    "plt.axvline(0, color='black', linewidth=1)\n",
    "plt.tight_layout()\n",
    "plt.show()"
   ]
  },
  {
   "cell_type": "markdown",
   "id": "0a9d1604",
   "metadata": {},
   "source": [
    "# Spring Season Model"
   ]
  },
  {
   "cell_type": "code",
   "execution_count": 542,
   "id": "5e0acea5",
   "metadata": {},
   "outputs": [],
   "source": [
    "y_spring = np.log1p(spring_df['bat_landing_to_food'])\n",
    "X_spring = spring_df.drop(columns='bat_landing_to_food')"
   ]
  },
  {
   "cell_type": "code",
   "execution_count": 543,
   "id": "7f4ad8c5",
   "metadata": {},
   "outputs": [],
   "source": [
    "X_train_s, X_test_s, y_train_s, y_test_s = train_test_split(\n",
    "    X_spring, y_spring, test_size=0.2, random_state=42\n",
    ")"
   ]
  },
  {
   "cell_type": "code",
   "execution_count": 544,
   "id": "54d2374a",
   "metadata": {},
   "outputs": [],
   "source": [
    "transformer_s = ColumnTransformer([\n",
    "    ('num', StandardScaler(), num_cols),\n",
    "    ('cat', OneHotEncoder(), cat_cols)\n",
    "], remainder='passthrough')"
   ]
  },
  {
   "cell_type": "code",
   "execution_count": 545,
   "id": "bce842cd",
   "metadata": {},
   "outputs": [],
   "source": [
    "X_train_s_scaled = transformer_s.fit_transform(X_train_s)\n",
    "X_test_s_scaled = transformer_s.transform(X_test_s)"
   ]
  },
  {
   "cell_type": "markdown",
   "id": "8f7ff592",
   "metadata": {},
   "source": [
    "# Train spring model"
   ]
  },
  {
   "cell_type": "code",
   "execution_count": 546,
   "id": "aa1e4f42",
   "metadata": {},
   "outputs": [],
   "source": [
    "model_spring = LinearRegression()\n",
    "model_spring.fit(X_train_s_scaled, y_train_s)\n",
    "y_pred_spring = model_spring.predict(X_test_s_scaled)"
   ]
  },
  {
   "cell_type": "markdown",
   "id": "cc06fecf",
   "metadata": {},
   "source": [
    "# Metrics for spring"
   ]
  },
  {
   "cell_type": "code",
   "execution_count": 547,
   "id": "bf5ba954",
   "metadata": {},
   "outputs": [],
   "source": [
    "mse_spring = mean_squared_error(y_test_s, y_pred_spring)\n",
    "r2_spring = r2_score(y_test_s, y_pred_spring)\n",
    "rmse_spring = np.sqrt(mse_spring)"
   ]
  },
  {
   "cell_type": "markdown",
   "id": "685b27f9",
   "metadata": {},
   "source": [
    "# Cross-validation for spring"
   ]
  },
  {
   "cell_type": "code",
   "execution_count": 548,
   "id": "f517425f",
   "metadata": {},
   "outputs": [],
   "source": [
    "cv_scores_spring = cross_val_score(model_spring, X_train_s_scaled, y_train_s, cv=3)"
   ]
  },
  {
   "cell_type": "markdown",
   "id": "e7692e8e",
   "metadata": {},
   "source": [
    "# SPRING SEASON MODEL PERFORMANCE"
   ]
  },
  {
   "cell_type": "code",
   "execution_count": 549,
   "id": "40f6df1c",
   "metadata": {},
   "outputs": [
    {
     "name": "stdout",
     "output_type": "stream",
     "text": [
      "R² Score (Test):        0.6306\n",
      "MSE:                    0.4787\n",
      "RMSE:                   0.6919\n",
      "Cross-Val R² (mean):    0.7034 (±0.0116)\n",
      "Sample size:            756\n",
      "\n"
     ]
    }
   ],
   "source": [
    "print(f\"R² Score (Test):        {r2_spring:.4f}\")\n",
    "print(f\"MSE:                    {mse_spring:.4f}\")\n",
    "print(f\"RMSE:                   {rmse_spring:.4f}\")\n",
    "print(f\"Cross-Val R² (mean):    {cv_scores_spring.mean():.4f} (±{cv_scores_spring.std():.4f})\")\n",
    "print(f\"Sample size:            {len(spring_df)}\")\n",
    "print()"
   ]
  },
  {
   "cell_type": "markdown",
   "id": "150e4d88",
   "metadata": {},
   "source": [
    "# Comparison of Winter and SPring Models"
   ]
  },
  {
   "cell_type": "code",
   "execution_count": 550,
   "id": "f9823895",
   "metadata": {},
   "outputs": [],
   "source": [
    "\n",
    "comparison_df = pd.DataFrame({\n",
    "    'Season': ['Winter (0)', 'Spring (1)'],\n",
    "    'R² Score': [r2_winter, r2_spring],\n",
    "    'MSE': [mse_winter, mse_spring],\n",
    "    'RMSE': [rmse_winter, rmse_spring],\n",
    "    'CV R² Mean': [cv_scores_winter.mean(), cv_scores_spring.mean()],\n",
    "    'Sample Size': [len(winter_df), len(spring_df)]\n",
    "})"
   ]
  },
  {
   "cell_type": "code",
   "execution_count": 551,
   "id": "81818f1a",
   "metadata": {},
   "outputs": [
    {
     "name": "stdout",
     "output_type": "stream",
     "text": [
      "    Season  R² Score      MSE     RMSE  CV R² Mean  Sample Size\n",
      "Winter (0)  0.599288 0.534662 0.731206    0.610773          151\n",
      "Spring (1)  0.630617 0.478732 0.691905    0.703425          756\n"
     ]
    }
   ],
   "source": [
    "print(comparison_df.to_string(index=False))"
   ]
  },
  {
   "cell_type": "markdown",
   "id": "0331fb4d",
   "metadata": {},
   "source": [
    "If else statement for determining the best season model"
   ]
  },
  {
   "cell_type": "code",
   "execution_count": 552,
   "id": "8030ef61",
   "metadata": {},
   "outputs": [
    {
     "name": "stdout",
     "output_type": "stream",
     "text": [
      "✓ SPRING season has BETTER predictive performance\n",
      "  R² difference: 0.0313 (3.13% better)\n"
     ]
    }
   ],
   "source": [
    "\n",
    "if r2_winter > r2_spring:\n",
    "    diff = r2_winter - r2_spring\n",
    "    print(f\"✓ WINTER season has BETTER predictive performance\")\n",
    "    print(f\"  R² difference: {diff:.4f} ({diff*100:.2f}% better)\")\n",
    "else:\n",
    "    diff = r2_spring - r2_winter\n",
    "    print(f\"✓ SPRING season has BETTER predictive performance\")\n",
    "    print(f\"  R² difference: {diff:.4f} ({diff*100:.2f}% better)\")\n"
   ]
  },
  {
   "cell_type": "markdown",
   "id": "be025523",
   "metadata": {},
   "source": [
    "# Visualization: R² Comparison"
   ]
  },
  {
   "cell_type": "code",
   "execution_count": 553,
   "id": "09666344",
   "metadata": {},
   "outputs": [],
   "source": [
    "seasons = ['Winter', 'Spring']\n",
    "colors = ['#3498db', '#2ecc71']"
   ]
  },
  {
   "cell_type": "markdown",
   "id": "0ebc55c4",
   "metadata": {},
   "source": [
    "# 1. R² Score Comparison"
   ]
  },
  {
   "cell_type": "code",
   "execution_count": 554,
   "id": "7c3cc35d",
   "metadata": {},
   "outputs": [
    {
     "data": {
      "image/png": "[encoded data removed]",
      "text/plain": [
       "<Figure size 600x500 with 1 Axes>"
      ]
     },
     "metadata": {},
     "output_type": "display_data"
    }
   ],
   "source": [
    "plt.figure(figsize=(6, 5))\n",
    "r2_values = [r2_winter, r2_spring]\n",
    "bars = plt.bar(seasons, r2_values, color=colors, alpha=0.7, edgecolor='black')\n",
    "plt.ylabel('R² Score', fontsize=12)\n",
    "plt.title('R² Score by Season', fontsize=14, fontweight='bold')\n",
    "plt.ylim(0, max(r2_values) * 1.2)\n",
    "plt.grid(axis='y', alpha=0.3)\n",
    "\n",
    "for bar, val in zip(bars, r2_values):\n",
    "    plt.text(bar.get_x() + bar.get_width()/2., bar.get_height(),\n",
    "             f'{val:.4f}', ha='center', va='bottom',\n",
    "             fontsize=11, fontweight='bold')\n",
    "\n",
    "plt.tight_layout()\n",
    "plt.show()"
   ]
  },
  {
   "cell_type": "markdown",
   "id": "eac76094",
   "metadata": {},
   "source": [
    "# 2. Mean Squared Error Comparison"
   ]
  },
  {
   "cell_type": "code",
   "execution_count": 555,
   "id": "3bb8913b",
   "metadata": {},
   "outputs": [
    {
     "data": {
      "image/png": "[encoded data removed]",
      "text/plain": [
       "<Figure size 600x500 with 1 Axes>"
      ]
     },
     "metadata": {},
     "output_type": "display_data"
    }
   ],
   "source": [
    "plt.figure(figsize=(6, 5))\n",
    "mse_values = [mse_winter, mse_spring]\n",
    "bars = plt.bar(seasons, mse_values, color=colors, alpha=0.7, edgecolor='black')\n",
    "plt.ylabel('Mean Squared Error', fontsize=12)\n",
    "plt.title('MSE by Season (Lower is Better)', fontsize=14, fontweight='bold')\n",
    "plt.grid(axis='y', alpha=0.3)\n",
    "\n",
    "for bar, val in zip(bars, mse_values):\n",
    "    plt.text(bar.get_x() + bar.get_width()/2., bar.get_height(),\n",
    "             f'{val:.4f}', ha='center', va='bottom',\n",
    "             fontsize=11, fontweight='bold')\n",
    "\n",
    "plt.tight_layout()\n",
    "plt.show()\n"
   ]
  },
  {
   "cell_type": "markdown",
   "id": "fa069f10",
   "metadata": {},
   "source": [
    "# 3. Cross-Validation R² Comparison"
   ]
  },
  {
   "cell_type": "code",
   "execution_count": 557,
   "id": "16399325",
   "metadata": {},
   "outputs": [
    {
     "data": {
      "image/png": "[encoded data removed]",
      "text/plain": [
       "<Figure size 600x500 with 1 Axes>"
      ]
     },
     "metadata": {},
     "output_type": "display_data"
    }
   ],
   "source": [
    "plt.figure(figsize=(6, 5))\n",
    "cv_means = [cv_scores_winter.mean(), cv_scores_spring.mean()]\n",
    "cv_stds = [cv_scores_winter.std(), cv_scores_spring.std()]\n",
    "bars = plt.bar(seasons, cv_means, yerr=cv_stds, color=colors,\n",
    "               alpha=0.7, edgecolor='black', capsize=5)\n",
    "plt.ylabel('Cross-Validation R² Score', fontsize=12)\n",
    "plt.title('CV R² by Season (with std)', fontsize=14, fontweight='bold')\n",
    "plt.grid(axis='y', alpha=0.3)\n",
    "\n",
    "for bar, val in zip(bars, cv_means):\n",
    "    plt.text(bar.get_x() + bar.get_width()/2., bar.get_height(),\n",
    "             f'{val:.4f}', ha='center', va='bottom',\n",
    "             fontsize=11, fontweight='bold')\n",
    "\n",
    "plt.tight_layout()\n",
    "plt.show()"
   ]
  },
  {
   "cell_type": "markdown",
   "id": "f9f2ccdb",
   "metadata": {},
   "source": [
    "### Interpretation\n",
    "\n",
    "**Key Findings:**\n",
    "- The comparison evaluates Linear Regression model performance on predicting `bat_landing_to_food` for Winter vs Spring seasons\n",
    "- Higher R² score indicates better predictive power (values closer to 1.0 are better)\n",
    "- Lower MSE/RMSE indicates better model accuracy\n",
    "- Cross-validation R² provides a more robust estimate of model performance\n",
    "\n",
    "**Factors to Consider:**\n",
    "1. **Sample Size**: Different sample sizes between seasons may affect model reliability\n",
    "2. **Data Quality**: Seasonal patterns and behavioral differences may impact prediction accuracy\n",
    "3. **Feature Importance**: Different features may have varying significance across seasons"
   ]
  }
 ],
 "metadata": {
  "kernelspec": {
   "display_name": "final-bat-vs-rat",
   "language": "python",
   "name": "python3"
  },
  "language_info": {
   "codemirror_mode": {
    "name": "ipython",
    "version": 3
   },
   "file_extension": ".py",
   "mimetype": "text/x-python",
   "name": "python",
   "nbconvert_exporter": "python",
   "pygments_lexer": "ipython3",
   "version": "3.12.11"
  }
 },
 "nbformat": 4,
 "nbformat_minor": 5
}
